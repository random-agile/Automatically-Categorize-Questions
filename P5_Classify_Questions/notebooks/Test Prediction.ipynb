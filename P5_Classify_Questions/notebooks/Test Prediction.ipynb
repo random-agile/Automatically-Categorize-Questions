{
 "cells": [
  {
   "cell_type": "code",
   "execution_count": 6,
   "id": "34b25120",
   "metadata": {},
   "outputs": [],
   "source": [
    "import pandas as pd\n",
    "import pickle\n",
    "\n",
    "with open('logistic_best.pickle', 'rb') as f:\n",
    "    model_logistic_vectorizer = pickle.load(f)"
   ]
  },
  {
   "cell_type": "code",
   "execution_count": 8,
   "id": "e71cb9d4",
   "metadata": {},
   "outputs": [
    {
     "name": "stdout",
     "output_type": "stream",
     "text": [
      "\n",
      "Exemple de prédiction :\n",
      "Question : how can i create an api for android ?\n",
      "Mots-clés prédits : ['android']\n"
     ]
    }
   ],
   "source": [
    "# Exemple de prédiction avec une question donnée\n",
    "question = \"how can i create an api for android ?\"\n",
    "predicted_keywords = model_logistic_vectorizer.predict([question])\n",
    "\n",
    "print(\"\\nExemple de prédiction :\")\n",
    "print(f\"Question : {question}\")\n",
    "print(f\"Mots-clés prédits : {predicted_keywords}\")"
   ]
  },
  {
   "cell_type": "code",
   "execution_count": null,
   "id": "6bbd6080",
   "metadata": {},
   "outputs": [],
   "source": []
  }
 ],
 "metadata": {
  "kernelspec": {
   "display_name": "Python 3 (ipykernel)",
   "language": "python",
   "name": "python3"
  },
  "language_info": {
   "codemirror_mode": {
    "name": "ipython",
    "version": 3
   },
   "file_extension": ".py",
   "mimetype": "text/x-python",
   "name": "python",
   "nbconvert_exporter": "python",
   "pygments_lexer": "ipython3",
   "version": "3.10.9"
  }
 },
 "nbformat": 4,
 "nbformat_minor": 5
}
