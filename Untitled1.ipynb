{
 "cells": [
  {
   "cell_type": "code",
   "execution_count": 9,
   "id": "b2b75ed0",
   "metadata": {},
   "outputs": [
    {
     "name": "stdout",
     "output_type": "stream",
     "text": [
      "Accuracy: 0.3160850681443762\n",
      "Classification Report:\n",
      "               precision    recall  f1-score   support\n",
      "\n",
      "        .net       0.00      0.00      0.00       288\n",
      "     android       0.65      0.23      0.34       872\n",
      "          c#       0.22      0.97      0.35      2385\n",
      "         c++       0.00      0.00      0.00      1593\n",
      "        html       0.00      0.00      0.00       267\n",
      "         ios       0.10      0.00      0.00       885\n",
      "        java       0.87      0.36      0.51      2212\n",
      "  javascript       0.06      0.01      0.02      2108\n",
      "         php       0.00      0.00      0.00       744\n",
      "      python       0.90      0.45      0.60      2000\n",
      "\n",
      "    accuracy                           0.32     13354\n",
      "   macro avg       0.28      0.20      0.18     13354\n",
      "weighted avg       0.38      0.32      0.26     13354\n",
      "\n",
      "Phrase: I want to create a class in C#\n",
      "Prédiction: ['c#']\n"
     ]
    },
    {
     "name": "stderr",
     "output_type": "stream",
     "text": [
      "C:\\Users\\omira\\anaconda3\\lib\\site-packages\\sklearn\\metrics\\_classification.py:1344: UndefinedMetricWarning: Precision and F-score are ill-defined and being set to 0.0 in labels with no predicted samples. Use `zero_division` parameter to control this behavior.\n",
      "  _warn_prf(average, modifier, msg_start, len(result))\n",
      "C:\\Users\\omira\\anaconda3\\lib\\site-packages\\sklearn\\metrics\\_classification.py:1344: UndefinedMetricWarning: Precision and F-score are ill-defined and being set to 0.0 in labels with no predicted samples. Use `zero_division` parameter to control this behavior.\n",
      "  _warn_prf(average, modifier, msg_start, len(result))\n",
      "C:\\Users\\omira\\anaconda3\\lib\\site-packages\\sklearn\\metrics\\_classification.py:1344: UndefinedMetricWarning: Precision and F-score are ill-defined and being set to 0.0 in labels with no predicted samples. Use `zero_division` parameter to control this behavior.\n",
      "  _warn_prf(average, modifier, msg_start, len(result))\n"
     ]
    }
   ],
   "source": [
    "import pandas as pd\n",
    "from sklearn.feature_extraction.text import CountVectorizer\n",
    "from sklearn.naive_bayes import MultinomialNB\n",
    "from sklearn.model_selection import train_test_split, GridSearchCV\n",
    "from sklearn.metrics import accuracy_score, classification_report\n",
    "\n",
    "# Extraction des fonctionnalités (features) à partir des phrases\n",
    "vectorizer = CountVectorizer(vocabulary=mots_cles)\n",
    "X = vectorizer.fit_transform(data['body_clean'])\n",
    "\n",
    "# Labels correspondants\n",
    "y = data['main_tag']\n",
    "\n",
    "# Train-test split\n",
    "X_train, X_test, y_train, y_test = train_test_split(X, y, test_size=0.2, random_state=42)\n",
    "\n",
    "# Définition des hyperparamètres à tester pour la recherche en grille\n",
    "param_grid = {'alpha': [0.1, 0.5, 1.0]}\n",
    "\n",
    "# Entraînement du modèle de classification avec recherche en grille des hyperparamètres\n",
    "model = MultinomialNB()\n",
    "grid_search = GridSearchCV(model, param_grid, cv=5)\n",
    "grid_search.fit(X_train, y_train)\n",
    "\n",
    "# Meilleur modèle trouvé\n",
    "best_model = grid_search.best_estimator_\n",
    "\n",
    "# Prédictions sur l'ensemble de test\n",
    "y_pred = best_model.predict(X_test)\n",
    "\n",
    "# Calcul de l'accuracy\n",
    "accuracy = accuracy_score(y_test, y_pred)\n",
    "\n",
    "# Affichage de l'accuracy\n",
    "print('Accuracy:', accuracy)\n",
    "\n",
    "# Rapport de classification\n",
    "classification_report = classification_report(y_test, y_pred)\n",
    "print('Classification Report:\\n', classification_report)\n",
    "\n",
    "# Exemple d'une nouvelle phrase à classifier\n",
    "nouvelle_phrase = 'I want to create a class in C#'\n",
    "\n",
    "# Extraction des fonctionnalités (features) de la nouvelle phrase\n",
    "nouvelle_phrase_features = vectorizer.transform([nouvelle_phrase])\n",
    "\n",
    "# Classification de la nouvelle phrase avec le meilleur modèle\n",
    "prediction = best_model.predict(nouvelle_phrase_features)\n",
    "\n",
    "# Affichage de la prédiction\n",
    "print('Phrase:', nouvelle_phrase)\n",
    "print('Prédiction:', prediction)"
   ]
  },
  {
   "cell_type": "code",
   "execution_count": 12,
   "id": "5244b355",
   "metadata": {},
   "outputs": [
    {
     "name": "stdout",
     "output_type": "stream",
     "text": [
      "Accuracy: 0.30155758574209973\n",
      "Classification Report:\n",
      "               precision    recall  f1-score   support\n",
      "\n",
      "        .net       0.00      0.00      0.00       288\n",
      "     android       0.00      0.00      0.00       872\n",
      "          c#       0.22      0.97      0.35      2385\n",
      "         c++       0.03      0.00      0.00      1593\n",
      "        html       0.00      0.00      0.00       267\n",
      "         ios       0.00      0.00      0.00       885\n",
      "        java       0.88      0.35      0.50      2212\n",
      "  javascript       0.06      0.02      0.03      2108\n",
      "         php       0.00      0.00      0.00       744\n",
      "      python       0.89      0.45      0.60      2000\n",
      "\n",
      "    accuracy                           0.30     13354\n",
      "   macro avg       0.21      0.18      0.15     13354\n",
      "weighted avg       0.33      0.30      0.24     13354\n",
      "\n",
      "Phrase: I want to create a class in C# with android in visual studio code\n",
      "Prédiction: ['javascript']\n"
     ]
    },
    {
     "name": "stderr",
     "output_type": "stream",
     "text": [
      "C:\\Users\\omira\\anaconda3\\lib\\site-packages\\sklearn\\metrics\\_classification.py:1344: UndefinedMetricWarning: Precision and F-score are ill-defined and being set to 0.0 in labels with no predicted samples. Use `zero_division` parameter to control this behavior.\n",
      "  _warn_prf(average, modifier, msg_start, len(result))\n",
      "C:\\Users\\omira\\anaconda3\\lib\\site-packages\\sklearn\\metrics\\_classification.py:1344: UndefinedMetricWarning: Precision and F-score are ill-defined and being set to 0.0 in labels with no predicted samples. Use `zero_division` parameter to control this behavior.\n",
      "  _warn_prf(average, modifier, msg_start, len(result))\n",
      "C:\\Users\\omira\\anaconda3\\lib\\site-packages\\sklearn\\metrics\\_classification.py:1344: UndefinedMetricWarning: Precision and F-score are ill-defined and being set to 0.0 in labels with no predicted samples. Use `zero_division` parameter to control this behavior.\n",
      "  _warn_prf(average, modifier, msg_start, len(result))\n"
     ]
    }
   ],
   "source": [
    "import pandas as pd\n",
    "from sklearn.feature_extraction.text import TfidfVectorizer\n",
    "from sklearn.naive_bayes import MultinomialNB\n",
    "from sklearn.model_selection import train_test_split, GridSearchCV\n",
    "from sklearn.metrics import accuracy_score, classification_report\n",
    "\n",
    "# Extraction des fonctionnalités (features) à partir des phrases\n",
    "vectorizer = TfidfVectorizer(vocabulary=mots_cles)\n",
    "X = vectorizer.fit_transform(data['body_clean'])\n",
    "\n",
    "# Labels correspondants\n",
    "y = data['main_tag']\n",
    "\n",
    "# Train-test split\n",
    "X_train, X_test, y_train, y_test = train_test_split(X, y, test_size=0.2, random_state=42)\n",
    "\n",
    "# Définition des hyperparamètres à tester pour la recherche en grille\n",
    "param_grid = {'alpha': [0.1, 0.5, 1.0]}\n",
    "\n",
    "# Entraînement du modèle de classification avec recherche en grille des hyperparamètres\n",
    "model = MultinomialNB()\n",
    "grid_search = GridSearchCV(model, param_grid, cv=5)\n",
    "grid_search.fit(X_train, y_train)\n",
    "\n",
    "# Meilleur modèle trouvé\n",
    "best_model = grid_search.best_estimator_\n",
    "\n",
    "# Prédictions sur l'ensemble de test\n",
    "y_pred = best_model.predict(X_test)\n",
    "\n",
    "# Calcul de l'accuracy\n",
    "accuracy = accuracy_score(y_test, y_pred)\n",
    "\n",
    "# Affichage de l'accuracy\n",
    "print('Accuracy:', accuracy)\n",
    "\n",
    "# Rapport de classification\n",
    "classification_report = classification_report(y_test, y_pred)\n",
    "print('Classification Report:\\n', classification_report)\n",
    "\n",
    "# Exemple d'une nouvelle phrase à classifier\n",
    "nouvelle_phrase = 'I want to create a class in C# with android in visual studio code'\n",
    "\n",
    "# Extraction des fonctionnalités (features) de la nouvelle phrase\n",
    "nouvelle_phrase_features = vectorizer.transform([nouvelle_phrase])\n",
    "\n",
    "# Classification de la nouvelle phrase avec le meilleur modèle\n",
    "prediction = best_model.predict(nouvelle_phrase_features)\n",
    "\n",
    "# Affichage de la prédiction\n",
    "print('Phrase:', nouvelle_phrase)\n",
    "print('Prédiction:', prediction)"
   ]
  },
  {
   "cell_type": "code",
   "execution_count": 21,
   "id": "dd1e01f1",
   "metadata": {},
   "outputs": [
    {
     "ename": "ValueError",
     "evalue": "\nAll the 6 fits failed.\nIt is very likely that your model is misconfigured.\nYou can try to debug the error by setting error_score='raise'.\n\nBelow are more details about the failures:\n--------------------------------------------------------------------------------\n3 fits failed with the following error:\nTraceback (most recent call last):\n  File \"C:\\Users\\omira\\anaconda3\\lib\\site-packages\\sklearn\\model_selection\\_validation.py\", line 686, in _fit_and_score\n    estimator.fit(X_train, y_train, **fit_params)\n  File \"C:\\Users\\omira\\anaconda3\\lib\\site-packages\\sklearn\\naive_bayes.py\", line 749, in fit\n    X, y = self._check_X_y(X, y)\n  File \"C:\\Users\\omira\\anaconda3\\lib\\site-packages\\sklearn\\naive_bayes.py\", line 583, in _check_X_y\n    return self._validate_data(X, y, accept_sparse=\"csr\", reset=reset)\n  File \"C:\\Users\\omira\\anaconda3\\lib\\site-packages\\sklearn\\base.py\", line 565, in _validate_data\n    X, y = check_X_y(X, y, **check_params)\n  File \"C:\\Users\\omira\\anaconda3\\lib\\site-packages\\sklearn\\utils\\validation.py\", line 1122, in check_X_y\n    y = _check_y(y, multi_output=multi_output, y_numeric=y_numeric, estimator=estimator)\n  File \"C:\\Users\\omira\\anaconda3\\lib\\site-packages\\sklearn\\utils\\validation.py\", line 1143, in _check_y\n    y = column_or_1d(y, warn=True)\n  File \"C:\\Users\\omira\\anaconda3\\lib\\site-packages\\sklearn\\utils\\validation.py\", line 1202, in column_or_1d\n    raise ValueError(\nValueError: y should be a 1d array, got an array of shape (1, 3) instead.\n\n--------------------------------------------------------------------------------\n3 fits failed with the following error:\nTraceback (most recent call last):\n  File \"C:\\Users\\omira\\anaconda3\\lib\\site-packages\\sklearn\\model_selection\\_validation.py\", line 686, in _fit_and_score\n    estimator.fit(X_train, y_train, **fit_params)\n  File \"C:\\Users\\omira\\anaconda3\\lib\\site-packages\\sklearn\\naive_bayes.py\", line 749, in fit\n    X, y = self._check_X_y(X, y)\n  File \"C:\\Users\\omira\\anaconda3\\lib\\site-packages\\sklearn\\naive_bayes.py\", line 583, in _check_X_y\n    return self._validate_data(X, y, accept_sparse=\"csr\", reset=reset)\n  File \"C:\\Users\\omira\\anaconda3\\lib\\site-packages\\sklearn\\base.py\", line 565, in _validate_data\n    X, y = check_X_y(X, y, **check_params)\n  File \"C:\\Users\\omira\\anaconda3\\lib\\site-packages\\sklearn\\utils\\validation.py\", line 1122, in check_X_y\n    y = _check_y(y, multi_output=multi_output, y_numeric=y_numeric, estimator=estimator)\n  File \"C:\\Users\\omira\\anaconda3\\lib\\site-packages\\sklearn\\utils\\validation.py\", line 1143, in _check_y\n    y = column_or_1d(y, warn=True)\n  File \"C:\\Users\\omira\\anaconda3\\lib\\site-packages\\sklearn\\utils\\validation.py\", line 1202, in column_or_1d\n    raise ValueError(\nValueError: y should be a 1d array, got an array of shape (2, 3) instead.\n",
     "output_type": "error",
     "traceback": [
      "\u001b[1;31m---------------------------------------------------------------------------\u001b[0m",
      "\u001b[1;31mValueError\u001b[0m                                Traceback (most recent call last)",
      "Cell \u001b[1;32mIn[21], line 31\u001b[0m\n\u001b[0;32m     29\u001b[0m model \u001b[38;5;241m=\u001b[39m MultinomialNB()\n\u001b[0;32m     30\u001b[0m grid_search \u001b[38;5;241m=\u001b[39m GridSearchCV(model, param_grid, cv\u001b[38;5;241m=\u001b[39m\u001b[38;5;241m2\u001b[39m)\n\u001b[1;32m---> 31\u001b[0m \u001b[43mgrid_search\u001b[49m\u001b[38;5;241;43m.\u001b[39;49m\u001b[43mfit\u001b[49m\u001b[43m(\u001b[49m\u001b[43mX_train\u001b[49m\u001b[43m,\u001b[49m\u001b[43m \u001b[49m\u001b[43my_train\u001b[49m\u001b[43m)\u001b[49m\n\u001b[0;32m     33\u001b[0m \u001b[38;5;66;03m# Meilleur modèle trouvé\u001b[39;00m\n\u001b[0;32m     34\u001b[0m best_model \u001b[38;5;241m=\u001b[39m grid_search\u001b[38;5;241m.\u001b[39mbest_estimator_\n",
      "File \u001b[1;32m~\\anaconda3\\lib\\site-packages\\sklearn\\model_selection\\_search.py:874\u001b[0m, in \u001b[0;36mBaseSearchCV.fit\u001b[1;34m(self, X, y, groups, **fit_params)\u001b[0m\n\u001b[0;32m    868\u001b[0m     results \u001b[38;5;241m=\u001b[39m \u001b[38;5;28mself\u001b[39m\u001b[38;5;241m.\u001b[39m_format_results(\n\u001b[0;32m    869\u001b[0m         all_candidate_params, n_splits, all_out, all_more_results\n\u001b[0;32m    870\u001b[0m     )\n\u001b[0;32m    872\u001b[0m     \u001b[38;5;28;01mreturn\u001b[39;00m results\n\u001b[1;32m--> 874\u001b[0m \u001b[38;5;28;43mself\u001b[39;49m\u001b[38;5;241;43m.\u001b[39;49m\u001b[43m_run_search\u001b[49m\u001b[43m(\u001b[49m\u001b[43mevaluate_candidates\u001b[49m\u001b[43m)\u001b[49m\n\u001b[0;32m    876\u001b[0m \u001b[38;5;66;03m# multimetric is determined here because in the case of a callable\u001b[39;00m\n\u001b[0;32m    877\u001b[0m \u001b[38;5;66;03m# self.scoring the return type is only known after calling\u001b[39;00m\n\u001b[0;32m    878\u001b[0m first_test_score \u001b[38;5;241m=\u001b[39m all_out[\u001b[38;5;241m0\u001b[39m][\u001b[38;5;124m\"\u001b[39m\u001b[38;5;124mtest_scores\u001b[39m\u001b[38;5;124m\"\u001b[39m]\n",
      "File \u001b[1;32m~\\anaconda3\\lib\\site-packages\\sklearn\\model_selection\\_search.py:1388\u001b[0m, in \u001b[0;36mGridSearchCV._run_search\u001b[1;34m(self, evaluate_candidates)\u001b[0m\n\u001b[0;32m   1386\u001b[0m \u001b[38;5;28;01mdef\u001b[39;00m \u001b[38;5;21m_run_search\u001b[39m(\u001b[38;5;28mself\u001b[39m, evaluate_candidates):\n\u001b[0;32m   1387\u001b[0m     \u001b[38;5;124;03m\"\"\"Search all candidates in param_grid\"\"\"\u001b[39;00m\n\u001b[1;32m-> 1388\u001b[0m     \u001b[43mevaluate_candidates\u001b[49m\u001b[43m(\u001b[49m\u001b[43mParameterGrid\u001b[49m\u001b[43m(\u001b[49m\u001b[38;5;28;43mself\u001b[39;49m\u001b[38;5;241;43m.\u001b[39;49m\u001b[43mparam_grid\u001b[49m\u001b[43m)\u001b[49m\u001b[43m)\u001b[49m\n",
      "File \u001b[1;32m~\\anaconda3\\lib\\site-packages\\sklearn\\model_selection\\_search.py:851\u001b[0m, in \u001b[0;36mBaseSearchCV.fit.<locals>.evaluate_candidates\u001b[1;34m(candidate_params, cv, more_results)\u001b[0m\n\u001b[0;32m    844\u001b[0m \u001b[38;5;28;01melif\u001b[39;00m \u001b[38;5;28mlen\u001b[39m(out) \u001b[38;5;241m!=\u001b[39m n_candidates \u001b[38;5;241m*\u001b[39m n_splits:\n\u001b[0;32m    845\u001b[0m     \u001b[38;5;28;01mraise\u001b[39;00m \u001b[38;5;167;01mValueError\u001b[39;00m(\n\u001b[0;32m    846\u001b[0m         \u001b[38;5;124m\"\u001b[39m\u001b[38;5;124mcv.split and cv.get_n_splits returned \u001b[39m\u001b[38;5;124m\"\u001b[39m\n\u001b[0;32m    847\u001b[0m         \u001b[38;5;124m\"\u001b[39m\u001b[38;5;124minconsistent results. Expected \u001b[39m\u001b[38;5;132;01m{}\u001b[39;00m\u001b[38;5;124m \u001b[39m\u001b[38;5;124m\"\u001b[39m\n\u001b[0;32m    848\u001b[0m         \u001b[38;5;124m\"\u001b[39m\u001b[38;5;124msplits, got \u001b[39m\u001b[38;5;132;01m{}\u001b[39;00m\u001b[38;5;124m\"\u001b[39m\u001b[38;5;241m.\u001b[39mformat(n_splits, \u001b[38;5;28mlen\u001b[39m(out) \u001b[38;5;241m/\u001b[39m\u001b[38;5;241m/\u001b[39m n_candidates)\n\u001b[0;32m    849\u001b[0m     )\n\u001b[1;32m--> 851\u001b[0m \u001b[43m_warn_or_raise_about_fit_failures\u001b[49m\u001b[43m(\u001b[49m\u001b[43mout\u001b[49m\u001b[43m,\u001b[49m\u001b[43m \u001b[49m\u001b[38;5;28;43mself\u001b[39;49m\u001b[38;5;241;43m.\u001b[39;49m\u001b[43merror_score\u001b[49m\u001b[43m)\u001b[49m\n\u001b[0;32m    853\u001b[0m \u001b[38;5;66;03m# For callable self.scoring, the return type is only know after\u001b[39;00m\n\u001b[0;32m    854\u001b[0m \u001b[38;5;66;03m# calling. If the return type is a dictionary, the error scores\u001b[39;00m\n\u001b[0;32m    855\u001b[0m \u001b[38;5;66;03m# can now be inserted with the correct key. The type checking\u001b[39;00m\n\u001b[0;32m    856\u001b[0m \u001b[38;5;66;03m# of out will be done in `_insert_error_scores`.\u001b[39;00m\n\u001b[0;32m    857\u001b[0m \u001b[38;5;28;01mif\u001b[39;00m callable(\u001b[38;5;28mself\u001b[39m\u001b[38;5;241m.\u001b[39mscoring):\n",
      "File \u001b[1;32m~\\anaconda3\\lib\\site-packages\\sklearn\\model_selection\\_validation.py:367\u001b[0m, in \u001b[0;36m_warn_or_raise_about_fit_failures\u001b[1;34m(results, error_score)\u001b[0m\n\u001b[0;32m    360\u001b[0m \u001b[38;5;28;01mif\u001b[39;00m num_failed_fits \u001b[38;5;241m==\u001b[39m num_fits:\n\u001b[0;32m    361\u001b[0m     all_fits_failed_message \u001b[38;5;241m=\u001b[39m (\n\u001b[0;32m    362\u001b[0m         \u001b[38;5;124mf\u001b[39m\u001b[38;5;124m\"\u001b[39m\u001b[38;5;130;01m\\n\u001b[39;00m\u001b[38;5;124mAll the \u001b[39m\u001b[38;5;132;01m{\u001b[39;00mnum_fits\u001b[38;5;132;01m}\u001b[39;00m\u001b[38;5;124m fits failed.\u001b[39m\u001b[38;5;130;01m\\n\u001b[39;00m\u001b[38;5;124m\"\u001b[39m\n\u001b[0;32m    363\u001b[0m         \u001b[38;5;124m\"\u001b[39m\u001b[38;5;124mIt is very likely that your model is misconfigured.\u001b[39m\u001b[38;5;130;01m\\n\u001b[39;00m\u001b[38;5;124m\"\u001b[39m\n\u001b[0;32m    364\u001b[0m         \u001b[38;5;124m\"\u001b[39m\u001b[38;5;124mYou can try to debug the error by setting error_score=\u001b[39m\u001b[38;5;124m'\u001b[39m\u001b[38;5;124mraise\u001b[39m\u001b[38;5;124m'\u001b[39m\u001b[38;5;124m.\u001b[39m\u001b[38;5;130;01m\\n\u001b[39;00m\u001b[38;5;130;01m\\n\u001b[39;00m\u001b[38;5;124m\"\u001b[39m\n\u001b[0;32m    365\u001b[0m         \u001b[38;5;124mf\u001b[39m\u001b[38;5;124m\"\u001b[39m\u001b[38;5;124mBelow are more details about the failures:\u001b[39m\u001b[38;5;130;01m\\n\u001b[39;00m\u001b[38;5;132;01m{\u001b[39;00mfit_errors_summary\u001b[38;5;132;01m}\u001b[39;00m\u001b[38;5;124m\"\u001b[39m\n\u001b[0;32m    366\u001b[0m     )\n\u001b[1;32m--> 367\u001b[0m     \u001b[38;5;28;01mraise\u001b[39;00m \u001b[38;5;167;01mValueError\u001b[39;00m(all_fits_failed_message)\n\u001b[0;32m    369\u001b[0m \u001b[38;5;28;01melse\u001b[39;00m:\n\u001b[0;32m    370\u001b[0m     some_fits_failed_message \u001b[38;5;241m=\u001b[39m (\n\u001b[0;32m    371\u001b[0m         \u001b[38;5;124mf\u001b[39m\u001b[38;5;124m\"\u001b[39m\u001b[38;5;130;01m\\n\u001b[39;00m\u001b[38;5;132;01m{\u001b[39;00mnum_failed_fits\u001b[38;5;132;01m}\u001b[39;00m\u001b[38;5;124m fits failed out of a total of \u001b[39m\u001b[38;5;132;01m{\u001b[39;00mnum_fits\u001b[38;5;132;01m}\u001b[39;00m\u001b[38;5;124m.\u001b[39m\u001b[38;5;130;01m\\n\u001b[39;00m\u001b[38;5;124m\"\u001b[39m\n\u001b[0;32m    372\u001b[0m         \u001b[38;5;124m\"\u001b[39m\u001b[38;5;124mThe score on these train-test partitions for these parameters\u001b[39m\u001b[38;5;124m\"\u001b[39m\n\u001b[1;32m   (...)\u001b[0m\n\u001b[0;32m    376\u001b[0m         \u001b[38;5;124mf\u001b[39m\u001b[38;5;124m\"\u001b[39m\u001b[38;5;124mBelow are more details about the failures:\u001b[39m\u001b[38;5;130;01m\\n\u001b[39;00m\u001b[38;5;132;01m{\u001b[39;00mfit_errors_summary\u001b[38;5;132;01m}\u001b[39;00m\u001b[38;5;124m\"\u001b[39m\n\u001b[0;32m    377\u001b[0m     )\n",
      "\u001b[1;31mValueError\u001b[0m: \nAll the 6 fits failed.\nIt is very likely that your model is misconfigured.\nYou can try to debug the error by setting error_score='raise'.\n\nBelow are more details about the failures:\n--------------------------------------------------------------------------------\n3 fits failed with the following error:\nTraceback (most recent call last):\n  File \"C:\\Users\\omira\\anaconda3\\lib\\site-packages\\sklearn\\model_selection\\_validation.py\", line 686, in _fit_and_score\n    estimator.fit(X_train, y_train, **fit_params)\n  File \"C:\\Users\\omira\\anaconda3\\lib\\site-packages\\sklearn\\naive_bayes.py\", line 749, in fit\n    X, y = self._check_X_y(X, y)\n  File \"C:\\Users\\omira\\anaconda3\\lib\\site-packages\\sklearn\\naive_bayes.py\", line 583, in _check_X_y\n    return self._validate_data(X, y, accept_sparse=\"csr\", reset=reset)\n  File \"C:\\Users\\omira\\anaconda3\\lib\\site-packages\\sklearn\\base.py\", line 565, in _validate_data\n    X, y = check_X_y(X, y, **check_params)\n  File \"C:\\Users\\omira\\anaconda3\\lib\\site-packages\\sklearn\\utils\\validation.py\", line 1122, in check_X_y\n    y = _check_y(y, multi_output=multi_output, y_numeric=y_numeric, estimator=estimator)\n  File \"C:\\Users\\omira\\anaconda3\\lib\\site-packages\\sklearn\\utils\\validation.py\", line 1143, in _check_y\n    y = column_or_1d(y, warn=True)\n  File \"C:\\Users\\omira\\anaconda3\\lib\\site-packages\\sklearn\\utils\\validation.py\", line 1202, in column_or_1d\n    raise ValueError(\nValueError: y should be a 1d array, got an array of shape (1, 3) instead.\n\n--------------------------------------------------------------------------------\n3 fits failed with the following error:\nTraceback (most recent call last):\n  File \"C:\\Users\\omira\\anaconda3\\lib\\site-packages\\sklearn\\model_selection\\_validation.py\", line 686, in _fit_and_score\n    estimator.fit(X_train, y_train, **fit_params)\n  File \"C:\\Users\\omira\\anaconda3\\lib\\site-packages\\sklearn\\naive_bayes.py\", line 749, in fit\n    X, y = self._check_X_y(X, y)\n  File \"C:\\Users\\omira\\anaconda3\\lib\\site-packages\\sklearn\\naive_bayes.py\", line 583, in _check_X_y\n    return self._validate_data(X, y, accept_sparse=\"csr\", reset=reset)\n  File \"C:\\Users\\omira\\anaconda3\\lib\\site-packages\\sklearn\\base.py\", line 565, in _validate_data\n    X, y = check_X_y(X, y, **check_params)\n  File \"C:\\Users\\omira\\anaconda3\\lib\\site-packages\\sklearn\\utils\\validation.py\", line 1122, in check_X_y\n    y = _check_y(y, multi_output=multi_output, y_numeric=y_numeric, estimator=estimator)\n  File \"C:\\Users\\omira\\anaconda3\\lib\\site-packages\\sklearn\\utils\\validation.py\", line 1143, in _check_y\n    y = column_or_1d(y, warn=True)\n  File \"C:\\Users\\omira\\anaconda3\\lib\\site-packages\\sklearn\\utils\\validation.py\", line 1202, in column_or_1d\n    raise ValueError(\nValueError: y should be a 1d array, got an array of shape (2, 3) instead.\n"
     ]
    }
   ],
   "source": [
    "import pandas as pd\n",
    "from sklearn.feature_extraction.text import TfidfVectorizer\n",
    "from sklearn.naive_bayes import MultinomialNB\n",
    "from sklearn.model_selection import train_test_split, GridSearchCV\n",
    "from sklearn.metrics import accuracy_score, classification_report\n",
    "from sklearn.preprocessing import MultiLabelBinarizer\n",
    "\n",
    "# Exemple de données d'entraînement\n",
    "data = pd.DataFrame({\n",
    "    'text': ['I love apples', 'I eat bananas', 'The cat is sleeping', 'The dog is barking'],\n",
    "    'labels': [['fruits'], ['fruits'], ['animals'], ['animals', 'sounds']]\n",
    "})\n",
    "\n",
    "# Extraction des fonctionnalités (features) à partir des phrases\n",
    "vectorizer = TfidfVectorizer()\n",
    "X = vectorizer.fit_transform(data['text'])\n",
    "\n",
    "# Labels correspondants (conversion en liste de tags)\n",
    "mlb = MultiLabelBinarizer()\n",
    "y = mlb.fit_transform(data['labels'])\n",
    "\n",
    "# Train-test split\n",
    "X_train, X_test, y_train, y_test = train_test_split(X, y, test_size=0.2, random_state=42)\n",
    "\n",
    "# Définition des hyperparamètres à tester pour la recherche en grille\n",
    "param_grid = {'alpha': [0.1, 0.5, 1.0]}\n",
    "\n",
    "# Entraînement du modèle de classification avec recherche en grille des hyperparamètres\n",
    "model = MultinomialNB()\n",
    "grid_search = GridSearchCV(model, param_grid, cv=2)\n",
    "grid_search.fit(X_train, y_train)\n",
    "\n",
    "# Meilleur modèle trouvé\n",
    "best_model = grid_search.best_estimator_\n",
    "\n",
    "# Prédictions sur l'ensemble de test\n",
    "y_pred = best_model.predict(X_test)\n",
    "\n",
    "# Calcul de l'accuracy\n",
    "accuracy = accuracy_score(y_test, y_pred)\n",
    "\n",
    "# Affichage de l'accuracy\n",
    "print('Accuracy:', accuracy)\n",
    "\n",
    "# Rapport de classification\n",
    "classification_report = classification_report(y_test, y_pred, target_names=mlb.classes_)\n",
    "print('Classification Report:\\n', classification_report)\n",
    "\n",
    "# Exemple d'une nouvelle phrase à classifier\n",
    "nouvelle_phrase = 'I want to eat an apple'\n",
    "\n",
    "# Extraction des fonctionnalités (features) de la nouvelle phrase\n",
    "nouvelle_phrase_features = vectorizer.transform([nouvelle_phrase])\n",
    "\n",
    "# Classification de la nouvelle phrase avec le meilleur modèle\n",
    "predictions = best_model.predict(nouvelle_phrase_features)\n",
    "\n",
    "# Décodage des tags prédits\n",
    "predicted_tags = mlb.inverse_transform(predictions)\n",
    "\n",
    "# Affichage des tags prédits\n",
    "print('Phrase:', nouvelle_phrase)\n",
    "print('Tags prédits:', predicted_tags)\n"
   ]
  },
  {
   "cell_type": "code",
   "execution_count": 30,
   "id": "cadc3aa9",
   "metadata": {},
   "outputs": [
    {
     "ename": "ValueError",
     "evalue": "Expected indicator for 45 classes, but got 1",
     "output_type": "error",
     "traceback": [
      "\u001b[1;31m---------------------------------------------------------------------------\u001b[0m",
      "\u001b[1;31mValueError\u001b[0m                                Traceback (most recent call last)",
      "Cell \u001b[1;32mIn[30], line 45\u001b[0m\n\u001b[0;32m     42\u001b[0m y_pred \u001b[38;5;241m=\u001b[39m (y_pred_prob \u001b[38;5;241m>\u001b[39m\u001b[38;5;241m=\u001b[39m threshold)\u001b[38;5;241m.\u001b[39mastype(\u001b[38;5;28mint\u001b[39m)\n\u001b[0;32m     44\u001b[0m \u001b[38;5;66;03m# Conversion des étiquettes prédites en format original\u001b[39;00m\n\u001b[1;32m---> 45\u001b[0m y_pred_labels \u001b[38;5;241m=\u001b[39m \u001b[43mmlb\u001b[49m\u001b[38;5;241;43m.\u001b[39;49m\u001b[43minverse_transform\u001b[49m\u001b[43m(\u001b[49m\u001b[43my_pred\u001b[49m\u001b[43m)\u001b[49m\n\u001b[0;32m     46\u001b[0m y_test_labels \u001b[38;5;241m=\u001b[39m mlb\u001b[38;5;241m.\u001b[39minverse_transform(y_test)\n\u001b[0;32m     48\u001b[0m \u001b[38;5;66;03m# Affichage du rapport de classification\u001b[39;00m\n",
      "File \u001b[1;32m~\\anaconda3\\lib\\site-packages\\sklearn\\preprocessing\\_label.py:921\u001b[0m, in \u001b[0;36mMultiLabelBinarizer.inverse_transform\u001b[1;34m(self, yt)\u001b[0m\n\u001b[0;32m    918\u001b[0m check_is_fitted(\u001b[38;5;28mself\u001b[39m)\n\u001b[0;32m    920\u001b[0m \u001b[38;5;28;01mif\u001b[39;00m yt\u001b[38;5;241m.\u001b[39mshape[\u001b[38;5;241m1\u001b[39m] \u001b[38;5;241m!=\u001b[39m \u001b[38;5;28mlen\u001b[39m(\u001b[38;5;28mself\u001b[39m\u001b[38;5;241m.\u001b[39mclasses_):\n\u001b[1;32m--> 921\u001b[0m     \u001b[38;5;28;01mraise\u001b[39;00m \u001b[38;5;167;01mValueError\u001b[39;00m(\n\u001b[0;32m    922\u001b[0m         \u001b[38;5;124m\"\u001b[39m\u001b[38;5;124mExpected indicator for \u001b[39m\u001b[38;5;132;01m{0}\u001b[39;00m\u001b[38;5;124m classes, but got \u001b[39m\u001b[38;5;132;01m{1}\u001b[39;00m\u001b[38;5;124m\"\u001b[39m\u001b[38;5;241m.\u001b[39mformat(\n\u001b[0;32m    923\u001b[0m             \u001b[38;5;28mlen\u001b[39m(\u001b[38;5;28mself\u001b[39m\u001b[38;5;241m.\u001b[39mclasses_), yt\u001b[38;5;241m.\u001b[39mshape[\u001b[38;5;241m1\u001b[39m]\n\u001b[0;32m    924\u001b[0m         )\n\u001b[0;32m    925\u001b[0m     )\n\u001b[0;32m    927\u001b[0m \u001b[38;5;28;01mif\u001b[39;00m sp\u001b[38;5;241m.\u001b[39missparse(yt):\n\u001b[0;32m    928\u001b[0m     yt \u001b[38;5;241m=\u001b[39m yt\u001b[38;5;241m.\u001b[39mtocsr()\n",
      "\u001b[1;31mValueError\u001b[0m: Expected indicator for 45 classes, but got 1"
     ]
    }
   ],
   "source": [
    "import pandas as pd\n",
    "import numpy as np\n",
    "from sklearn.feature_extraction.text import CountVectorizer\n",
    "from sklearn.model_selection import train_test_split, GridSearchCV\n",
    "from sklearn.naive_bayes import MultinomialNB\n",
    "from sklearn.preprocessing import MultiLabelBinarizer\n",
    "from sklearn.metrics import classification_report\n",
    "\n",
    "# Séparer les caractéristiques (X) et les étiquettes (y)\n",
    "X = data['body_clean']\n",
    "y = data['Tags']\n",
    "\n",
    "# Vectorisation des textes\n",
    "vectorizer = CountVectorizer()\n",
    "X = vectorizer.fit_transform(X)\n",
    "\n",
    "# Conversion des étiquettes en format binaire\n",
    "mlb = MultiLabelBinarizer()\n",
    "y = mlb.fit_transform(y)\n",
    "\n",
    "# Séparation des données en ensembles d'entraînement et de test\n",
    "X_train, X_test, y_train, y_test = train_test_split(X, y, test_size=0.2, random_state=42)\n",
    "\n",
    "# Définition des hyperparamètres à ajuster\n",
    "param_grid = {\n",
    "    'alpha': [0.1, 1.0, 10.0]\n",
    "}\n",
    "\n",
    "# Entraînement du modèle de classification avec recherche en grille des hyperparamètres\n",
    "model = MultinomialNB()\n",
    "grid_search = GridSearchCV(model, param_grid, cv=5)\n",
    "grid_search.fit(X_train, np.argmax(y_train, axis=1))\n",
    "\n",
    "# Meilleur modèle trouvé\n",
    "best_model = grid_search.best_estimator_\n",
    "\n",
    "# Prédiction des probabilités sur l'ensemble de test\n",
    "y_pred_prob = best_model.predict_proba(X_test)\n",
    "\n",
    "# Binarisation des probabilités prédites\n",
    "threshold = 0.5\n",
    "y_pred = (y_pred_prob >= threshold).astype(int)\n",
    "\n",
    "# Conversion des étiquettes prédites en format original\n",
    "y_pred_labels = mlb.inverse_transform(y_pred)\n",
    "y_test_labels = mlb.inverse_transform(y_test)\n",
    "\n",
    "# Affichage du rapport de classification\n",
    "print(classification_report(y_test_labels, y_pred_labels))"
   ]
  },
  {
   "cell_type": "code",
   "execution_count": 31,
   "id": "46a17328",
   "metadata": {},
   "outputs": [
    {
     "name": "stderr",
     "output_type": "stream",
     "text": [
      "C:\\Users\\omira\\anaconda3\\lib\\site-packages\\sklearn\\model_selection\\_split.py:700: UserWarning: The least populated class in y has only 1 members, which is less than n_splits=5.\n",
      "  warnings.warn(\n"
     ]
    },
    {
     "ename": "ValueError",
     "evalue": "\nAll the 15 fits failed.\nIt is very likely that your model is misconfigured.\nYou can try to debug the error by setting error_score='raise'.\n\nBelow are more details about the failures:\n--------------------------------------------------------------------------------\n3 fits failed with the following error:\nTraceback (most recent call last):\n  File \"C:\\Users\\omira\\anaconda3\\lib\\site-packages\\sklearn\\model_selection\\_validation.py\", line 686, in _fit_and_score\n    estimator.fit(X_train, y_train, **fit_params)\n  File \"C:\\Users\\omira\\anaconda3\\lib\\site-packages\\sklearn\\naive_bayes.py\", line 776, in fit\n    self._count(X, Y)\n  File \"C:\\Users\\omira\\anaconda3\\lib\\site-packages\\sklearn\\naive_bayes.py\", line 899, in _count\n    self.feature_count_ += safe_sparse_dot(Y.T, X)\n  File \"C:\\Users\\omira\\anaconda3\\lib\\site-packages\\sklearn\\utils\\extmath.py\", line 189, in safe_sparse_dot\n    ret = a @ b\n  File \"C:\\Users\\omira\\anaconda3\\lib\\site-packages\\scipy\\sparse\\_base.py\", line 636, in __rmatmul__\n    return self._rmul_dispatch(other)\n  File \"C:\\Users\\omira\\anaconda3\\lib\\site-packages\\scipy\\sparse\\_base.py\", line 614, in _rmul_dispatch\n    ret = self.transpose()._mul_dispatch(tr)\n  File \"C:\\Users\\omira\\anaconda3\\lib\\site-packages\\scipy\\sparse\\_base.py\", line 532, in _mul_dispatch\n    return self._mul_multivector(other)\n  File \"C:\\Users\\omira\\anaconda3\\lib\\site-packages\\scipy\\sparse\\_compressed.py\", line 497, in _mul_multivector\n    result = np.zeros((M, n_vecs),\nnumpy.core._exceptions._ArrayMemoryError: Unable to allocate 18.7 GiB for an array with shape (60101, 41656) and data type int64\n\n--------------------------------------------------------------------------------\n3 fits failed with the following error:\nTraceback (most recent call last):\n  File \"C:\\Users\\omira\\anaconda3\\lib\\site-packages\\sklearn\\model_selection\\_validation.py\", line 686, in _fit_and_score\n    estimator.fit(X_train, y_train, **fit_params)\n  File \"C:\\Users\\omira\\anaconda3\\lib\\site-packages\\sklearn\\naive_bayes.py\", line 776, in fit\n    self._count(X, Y)\n  File \"C:\\Users\\omira\\anaconda3\\lib\\site-packages\\sklearn\\naive_bayes.py\", line 899, in _count\n    self.feature_count_ += safe_sparse_dot(Y.T, X)\n  File \"C:\\Users\\omira\\anaconda3\\lib\\site-packages\\sklearn\\utils\\extmath.py\", line 189, in safe_sparse_dot\n    ret = a @ b\n  File \"C:\\Users\\omira\\anaconda3\\lib\\site-packages\\scipy\\sparse\\_base.py\", line 636, in __rmatmul__\n    return self._rmul_dispatch(other)\n  File \"C:\\Users\\omira\\anaconda3\\lib\\site-packages\\scipy\\sparse\\_base.py\", line 614, in _rmul_dispatch\n    ret = self.transpose()._mul_dispatch(tr)\n  File \"C:\\Users\\omira\\anaconda3\\lib\\site-packages\\scipy\\sparse\\_base.py\", line 532, in _mul_dispatch\n    return self._mul_multivector(other)\n  File \"C:\\Users\\omira\\anaconda3\\lib\\site-packages\\scipy\\sparse\\_compressed.py\", line 497, in _mul_multivector\n    result = np.zeros((M, n_vecs),\nnumpy.core._exceptions._ArrayMemoryError: Unable to allocate 18.7 GiB for an array with shape (60101, 41689) and data type int64\n\n--------------------------------------------------------------------------------\n3 fits failed with the following error:\nTraceback (most recent call last):\n  File \"C:\\Users\\omira\\anaconda3\\lib\\site-packages\\sklearn\\model_selection\\_validation.py\", line 686, in _fit_and_score\n    estimator.fit(X_train, y_train, **fit_params)\n  File \"C:\\Users\\omira\\anaconda3\\lib\\site-packages\\sklearn\\naive_bayes.py\", line 776, in fit\n    self._count(X, Y)\n  File \"C:\\Users\\omira\\anaconda3\\lib\\site-packages\\sklearn\\naive_bayes.py\", line 899, in _count\n    self.feature_count_ += safe_sparse_dot(Y.T, X)\n  File \"C:\\Users\\omira\\anaconda3\\lib\\site-packages\\sklearn\\utils\\extmath.py\", line 189, in safe_sparse_dot\n    ret = a @ b\n  File \"C:\\Users\\omira\\anaconda3\\lib\\site-packages\\scipy\\sparse\\_base.py\", line 636, in __rmatmul__\n    return self._rmul_dispatch(other)\n  File \"C:\\Users\\omira\\anaconda3\\lib\\site-packages\\scipy\\sparse\\_base.py\", line 614, in _rmul_dispatch\n    ret = self.transpose()._mul_dispatch(tr)\n  File \"C:\\Users\\omira\\anaconda3\\lib\\site-packages\\scipy\\sparse\\_base.py\", line 532, in _mul_dispatch\n    return self._mul_multivector(other)\n  File \"C:\\Users\\omira\\anaconda3\\lib\\site-packages\\scipy\\sparse\\_compressed.py\", line 497, in _mul_multivector\n    result = np.zeros((M, n_vecs),\nnumpy.core._exceptions._ArrayMemoryError: Unable to allocate 18.7 GiB for an array with shape (60101, 41733) and data type int64\n\n--------------------------------------------------------------------------------\n3 fits failed with the following error:\nTraceback (most recent call last):\n  File \"C:\\Users\\omira\\anaconda3\\lib\\site-packages\\sklearn\\model_selection\\_validation.py\", line 686, in _fit_and_score\n    estimator.fit(X_train, y_train, **fit_params)\n  File \"C:\\Users\\omira\\anaconda3\\lib\\site-packages\\sklearn\\naive_bayes.py\", line 776, in fit\n    self._count(X, Y)\n  File \"C:\\Users\\omira\\anaconda3\\lib\\site-packages\\sklearn\\naive_bayes.py\", line 899, in _count\n    self.feature_count_ += safe_sparse_dot(Y.T, X)\n  File \"C:\\Users\\omira\\anaconda3\\lib\\site-packages\\sklearn\\utils\\extmath.py\", line 189, in safe_sparse_dot\n    ret = a @ b\n  File \"C:\\Users\\omira\\anaconda3\\lib\\site-packages\\scipy\\sparse\\_base.py\", line 636, in __rmatmul__\n    return self._rmul_dispatch(other)\n  File \"C:\\Users\\omira\\anaconda3\\lib\\site-packages\\scipy\\sparse\\_base.py\", line 614, in _rmul_dispatch\n    ret = self.transpose()._mul_dispatch(tr)\n  File \"C:\\Users\\omira\\anaconda3\\lib\\site-packages\\scipy\\sparse\\_base.py\", line 532, in _mul_dispatch\n    return self._mul_multivector(other)\n  File \"C:\\Users\\omira\\anaconda3\\lib\\site-packages\\scipy\\sparse\\_compressed.py\", line 497, in _mul_multivector\n    result = np.zeros((M, n_vecs),\nnumpy.core._exceptions._ArrayMemoryError: Unable to allocate 18.7 GiB for an array with shape (60101, 41710) and data type int64\n\n--------------------------------------------------------------------------------\n3 fits failed with the following error:\nTraceback (most recent call last):\n  File \"C:\\Users\\omira\\anaconda3\\lib\\site-packages\\sklearn\\model_selection\\_validation.py\", line 686, in _fit_and_score\n    estimator.fit(X_train, y_train, **fit_params)\n  File \"C:\\Users\\omira\\anaconda3\\lib\\site-packages\\sklearn\\naive_bayes.py\", line 776, in fit\n    self._count(X, Y)\n  File \"C:\\Users\\omira\\anaconda3\\lib\\site-packages\\sklearn\\naive_bayes.py\", line 899, in _count\n    self.feature_count_ += safe_sparse_dot(Y.T, X)\n  File \"C:\\Users\\omira\\anaconda3\\lib\\site-packages\\sklearn\\utils\\extmath.py\", line 189, in safe_sparse_dot\n    ret = a @ b\n  File \"C:\\Users\\omira\\anaconda3\\lib\\site-packages\\scipy\\sparse\\_base.py\", line 636, in __rmatmul__\n    return self._rmul_dispatch(other)\n  File \"C:\\Users\\omira\\anaconda3\\lib\\site-packages\\scipy\\sparse\\_base.py\", line 614, in _rmul_dispatch\n    ret = self.transpose()._mul_dispatch(tr)\n  File \"C:\\Users\\omira\\anaconda3\\lib\\site-packages\\scipy\\sparse\\_base.py\", line 532, in _mul_dispatch\n    return self._mul_multivector(other)\n  File \"C:\\Users\\omira\\anaconda3\\lib\\site-packages\\scipy\\sparse\\_compressed.py\", line 497, in _mul_multivector\n    result = np.zeros((M, n_vecs),\nnumpy.core._exceptions._ArrayMemoryError: Unable to allocate 18.7 GiB for an array with shape (60101, 41677) and data type int64\n",
     "output_type": "error",
     "traceback": [
      "\u001b[1;31m---------------------------------------------------------------------------\u001b[0m",
      "\u001b[1;31mValueError\u001b[0m                                Traceback (most recent call last)",
      "Cell \u001b[1;32mIn[31], line 26\u001b[0m\n\u001b[0;32m     24\u001b[0m model \u001b[38;5;241m=\u001b[39m MultinomialNB()\n\u001b[0;32m     25\u001b[0m grid_search \u001b[38;5;241m=\u001b[39m GridSearchCV(model, param_grid, cv\u001b[38;5;241m=\u001b[39m\u001b[38;5;241m5\u001b[39m)\n\u001b[1;32m---> 26\u001b[0m \u001b[43mgrid_search\u001b[49m\u001b[38;5;241;43m.\u001b[39;49m\u001b[43mfit\u001b[49m\u001b[43m(\u001b[49m\u001b[43mX_train\u001b[49m\u001b[43m,\u001b[49m\u001b[43m \u001b[49m\u001b[43my_train\u001b[49m\u001b[43m)\u001b[49m\n\u001b[0;32m     28\u001b[0m \u001b[38;5;66;03m# Meilleur modèle trouvé\u001b[39;00m\n\u001b[0;32m     29\u001b[0m best_model \u001b[38;5;241m=\u001b[39m grid_search\u001b[38;5;241m.\u001b[39mbest_estimator_\n",
      "File \u001b[1;32m~\\anaconda3\\lib\\site-packages\\sklearn\\model_selection\\_search.py:874\u001b[0m, in \u001b[0;36mBaseSearchCV.fit\u001b[1;34m(self, X, y, groups, **fit_params)\u001b[0m\n\u001b[0;32m    868\u001b[0m     results \u001b[38;5;241m=\u001b[39m \u001b[38;5;28mself\u001b[39m\u001b[38;5;241m.\u001b[39m_format_results(\n\u001b[0;32m    869\u001b[0m         all_candidate_params, n_splits, all_out, all_more_results\n\u001b[0;32m    870\u001b[0m     )\n\u001b[0;32m    872\u001b[0m     \u001b[38;5;28;01mreturn\u001b[39;00m results\n\u001b[1;32m--> 874\u001b[0m \u001b[38;5;28;43mself\u001b[39;49m\u001b[38;5;241;43m.\u001b[39;49m\u001b[43m_run_search\u001b[49m\u001b[43m(\u001b[49m\u001b[43mevaluate_candidates\u001b[49m\u001b[43m)\u001b[49m\n\u001b[0;32m    876\u001b[0m \u001b[38;5;66;03m# multimetric is determined here because in the case of a callable\u001b[39;00m\n\u001b[0;32m    877\u001b[0m \u001b[38;5;66;03m# self.scoring the return type is only known after calling\u001b[39;00m\n\u001b[0;32m    878\u001b[0m first_test_score \u001b[38;5;241m=\u001b[39m all_out[\u001b[38;5;241m0\u001b[39m][\u001b[38;5;124m\"\u001b[39m\u001b[38;5;124mtest_scores\u001b[39m\u001b[38;5;124m\"\u001b[39m]\n",
      "File \u001b[1;32m~\\anaconda3\\lib\\site-packages\\sklearn\\model_selection\\_search.py:1388\u001b[0m, in \u001b[0;36mGridSearchCV._run_search\u001b[1;34m(self, evaluate_candidates)\u001b[0m\n\u001b[0;32m   1386\u001b[0m \u001b[38;5;28;01mdef\u001b[39;00m \u001b[38;5;21m_run_search\u001b[39m(\u001b[38;5;28mself\u001b[39m, evaluate_candidates):\n\u001b[0;32m   1387\u001b[0m     \u001b[38;5;124;03m\"\"\"Search all candidates in param_grid\"\"\"\u001b[39;00m\n\u001b[1;32m-> 1388\u001b[0m     \u001b[43mevaluate_candidates\u001b[49m\u001b[43m(\u001b[49m\u001b[43mParameterGrid\u001b[49m\u001b[43m(\u001b[49m\u001b[38;5;28;43mself\u001b[39;49m\u001b[38;5;241;43m.\u001b[39;49m\u001b[43mparam_grid\u001b[49m\u001b[43m)\u001b[49m\u001b[43m)\u001b[49m\n",
      "File \u001b[1;32m~\\anaconda3\\lib\\site-packages\\sklearn\\model_selection\\_search.py:851\u001b[0m, in \u001b[0;36mBaseSearchCV.fit.<locals>.evaluate_candidates\u001b[1;34m(candidate_params, cv, more_results)\u001b[0m\n\u001b[0;32m    844\u001b[0m \u001b[38;5;28;01melif\u001b[39;00m \u001b[38;5;28mlen\u001b[39m(out) \u001b[38;5;241m!=\u001b[39m n_candidates \u001b[38;5;241m*\u001b[39m n_splits:\n\u001b[0;32m    845\u001b[0m     \u001b[38;5;28;01mraise\u001b[39;00m \u001b[38;5;167;01mValueError\u001b[39;00m(\n\u001b[0;32m    846\u001b[0m         \u001b[38;5;124m\"\u001b[39m\u001b[38;5;124mcv.split and cv.get_n_splits returned \u001b[39m\u001b[38;5;124m\"\u001b[39m\n\u001b[0;32m    847\u001b[0m         \u001b[38;5;124m\"\u001b[39m\u001b[38;5;124minconsistent results. Expected \u001b[39m\u001b[38;5;132;01m{}\u001b[39;00m\u001b[38;5;124m \u001b[39m\u001b[38;5;124m\"\u001b[39m\n\u001b[0;32m    848\u001b[0m         \u001b[38;5;124m\"\u001b[39m\u001b[38;5;124msplits, got \u001b[39m\u001b[38;5;132;01m{}\u001b[39;00m\u001b[38;5;124m\"\u001b[39m\u001b[38;5;241m.\u001b[39mformat(n_splits, \u001b[38;5;28mlen\u001b[39m(out) \u001b[38;5;241m/\u001b[39m\u001b[38;5;241m/\u001b[39m n_candidates)\n\u001b[0;32m    849\u001b[0m     )\n\u001b[1;32m--> 851\u001b[0m \u001b[43m_warn_or_raise_about_fit_failures\u001b[49m\u001b[43m(\u001b[49m\u001b[43mout\u001b[49m\u001b[43m,\u001b[49m\u001b[43m \u001b[49m\u001b[38;5;28;43mself\u001b[39;49m\u001b[38;5;241;43m.\u001b[39;49m\u001b[43merror_score\u001b[49m\u001b[43m)\u001b[49m\n\u001b[0;32m    853\u001b[0m \u001b[38;5;66;03m# For callable self.scoring, the return type is only know after\u001b[39;00m\n\u001b[0;32m    854\u001b[0m \u001b[38;5;66;03m# calling. If the return type is a dictionary, the error scores\u001b[39;00m\n\u001b[0;32m    855\u001b[0m \u001b[38;5;66;03m# can now be inserted with the correct key. The type checking\u001b[39;00m\n\u001b[0;32m    856\u001b[0m \u001b[38;5;66;03m# of out will be done in `_insert_error_scores`.\u001b[39;00m\n\u001b[0;32m    857\u001b[0m \u001b[38;5;28;01mif\u001b[39;00m callable(\u001b[38;5;28mself\u001b[39m\u001b[38;5;241m.\u001b[39mscoring):\n",
      "File \u001b[1;32m~\\anaconda3\\lib\\site-packages\\sklearn\\model_selection\\_validation.py:367\u001b[0m, in \u001b[0;36m_warn_or_raise_about_fit_failures\u001b[1;34m(results, error_score)\u001b[0m\n\u001b[0;32m    360\u001b[0m \u001b[38;5;28;01mif\u001b[39;00m num_failed_fits \u001b[38;5;241m==\u001b[39m num_fits:\n\u001b[0;32m    361\u001b[0m     all_fits_failed_message \u001b[38;5;241m=\u001b[39m (\n\u001b[0;32m    362\u001b[0m         \u001b[38;5;124mf\u001b[39m\u001b[38;5;124m\"\u001b[39m\u001b[38;5;130;01m\\n\u001b[39;00m\u001b[38;5;124mAll the \u001b[39m\u001b[38;5;132;01m{\u001b[39;00mnum_fits\u001b[38;5;132;01m}\u001b[39;00m\u001b[38;5;124m fits failed.\u001b[39m\u001b[38;5;130;01m\\n\u001b[39;00m\u001b[38;5;124m\"\u001b[39m\n\u001b[0;32m    363\u001b[0m         \u001b[38;5;124m\"\u001b[39m\u001b[38;5;124mIt is very likely that your model is misconfigured.\u001b[39m\u001b[38;5;130;01m\\n\u001b[39;00m\u001b[38;5;124m\"\u001b[39m\n\u001b[0;32m    364\u001b[0m         \u001b[38;5;124m\"\u001b[39m\u001b[38;5;124mYou can try to debug the error by setting error_score=\u001b[39m\u001b[38;5;124m'\u001b[39m\u001b[38;5;124mraise\u001b[39m\u001b[38;5;124m'\u001b[39m\u001b[38;5;124m.\u001b[39m\u001b[38;5;130;01m\\n\u001b[39;00m\u001b[38;5;130;01m\\n\u001b[39;00m\u001b[38;5;124m\"\u001b[39m\n\u001b[0;32m    365\u001b[0m         \u001b[38;5;124mf\u001b[39m\u001b[38;5;124m\"\u001b[39m\u001b[38;5;124mBelow are more details about the failures:\u001b[39m\u001b[38;5;130;01m\\n\u001b[39;00m\u001b[38;5;132;01m{\u001b[39;00mfit_errors_summary\u001b[38;5;132;01m}\u001b[39;00m\u001b[38;5;124m\"\u001b[39m\n\u001b[0;32m    366\u001b[0m     )\n\u001b[1;32m--> 367\u001b[0m     \u001b[38;5;28;01mraise\u001b[39;00m \u001b[38;5;167;01mValueError\u001b[39;00m(all_fits_failed_message)\n\u001b[0;32m    369\u001b[0m \u001b[38;5;28;01melse\u001b[39;00m:\n\u001b[0;32m    370\u001b[0m     some_fits_failed_message \u001b[38;5;241m=\u001b[39m (\n\u001b[0;32m    371\u001b[0m         \u001b[38;5;124mf\u001b[39m\u001b[38;5;124m\"\u001b[39m\u001b[38;5;130;01m\\n\u001b[39;00m\u001b[38;5;132;01m{\u001b[39;00mnum_failed_fits\u001b[38;5;132;01m}\u001b[39;00m\u001b[38;5;124m fits failed out of a total of \u001b[39m\u001b[38;5;132;01m{\u001b[39;00mnum_fits\u001b[38;5;132;01m}\u001b[39;00m\u001b[38;5;124m.\u001b[39m\u001b[38;5;130;01m\\n\u001b[39;00m\u001b[38;5;124m\"\u001b[39m\n\u001b[0;32m    372\u001b[0m         \u001b[38;5;124m\"\u001b[39m\u001b[38;5;124mThe score on these train-test partitions for these parameters\u001b[39m\u001b[38;5;124m\"\u001b[39m\n\u001b[1;32m   (...)\u001b[0m\n\u001b[0;32m    376\u001b[0m         \u001b[38;5;124mf\u001b[39m\u001b[38;5;124m\"\u001b[39m\u001b[38;5;124mBelow are more details about the failures:\u001b[39m\u001b[38;5;130;01m\\n\u001b[39;00m\u001b[38;5;132;01m{\u001b[39;00mfit_errors_summary\u001b[38;5;132;01m}\u001b[39;00m\u001b[38;5;124m\"\u001b[39m\n\u001b[0;32m    377\u001b[0m     )\n",
      "\u001b[1;31mValueError\u001b[0m: \nAll the 15 fits failed.\nIt is very likely that your model is misconfigured.\nYou can try to debug the error by setting error_score='raise'.\n\nBelow are more details about the failures:\n--------------------------------------------------------------------------------\n3 fits failed with the following error:\nTraceback (most recent call last):\n  File \"C:\\Users\\omira\\anaconda3\\lib\\site-packages\\sklearn\\model_selection\\_validation.py\", line 686, in _fit_and_score\n    estimator.fit(X_train, y_train, **fit_params)\n  File \"C:\\Users\\omira\\anaconda3\\lib\\site-packages\\sklearn\\naive_bayes.py\", line 776, in fit\n    self._count(X, Y)\n  File \"C:\\Users\\omira\\anaconda3\\lib\\site-packages\\sklearn\\naive_bayes.py\", line 899, in _count\n    self.feature_count_ += safe_sparse_dot(Y.T, X)\n  File \"C:\\Users\\omira\\anaconda3\\lib\\site-packages\\sklearn\\utils\\extmath.py\", line 189, in safe_sparse_dot\n    ret = a @ b\n  File \"C:\\Users\\omira\\anaconda3\\lib\\site-packages\\scipy\\sparse\\_base.py\", line 636, in __rmatmul__\n    return self._rmul_dispatch(other)\n  File \"C:\\Users\\omira\\anaconda3\\lib\\site-packages\\scipy\\sparse\\_base.py\", line 614, in _rmul_dispatch\n    ret = self.transpose()._mul_dispatch(tr)\n  File \"C:\\Users\\omira\\anaconda3\\lib\\site-packages\\scipy\\sparse\\_base.py\", line 532, in _mul_dispatch\n    return self._mul_multivector(other)\n  File \"C:\\Users\\omira\\anaconda3\\lib\\site-packages\\scipy\\sparse\\_compressed.py\", line 497, in _mul_multivector\n    result = np.zeros((M, n_vecs),\nnumpy.core._exceptions._ArrayMemoryError: Unable to allocate 18.7 GiB for an array with shape (60101, 41656) and data type int64\n\n--------------------------------------------------------------------------------\n3 fits failed with the following error:\nTraceback (most recent call last):\n  File \"C:\\Users\\omira\\anaconda3\\lib\\site-packages\\sklearn\\model_selection\\_validation.py\", line 686, in _fit_and_score\n    estimator.fit(X_train, y_train, **fit_params)\n  File \"C:\\Users\\omira\\anaconda3\\lib\\site-packages\\sklearn\\naive_bayes.py\", line 776, in fit\n    self._count(X, Y)\n  File \"C:\\Users\\omira\\anaconda3\\lib\\site-packages\\sklearn\\naive_bayes.py\", line 899, in _count\n    self.feature_count_ += safe_sparse_dot(Y.T, X)\n  File \"C:\\Users\\omira\\anaconda3\\lib\\site-packages\\sklearn\\utils\\extmath.py\", line 189, in safe_sparse_dot\n    ret = a @ b\n  File \"C:\\Users\\omira\\anaconda3\\lib\\site-packages\\scipy\\sparse\\_base.py\", line 636, in __rmatmul__\n    return self._rmul_dispatch(other)\n  File \"C:\\Users\\omira\\anaconda3\\lib\\site-packages\\scipy\\sparse\\_base.py\", line 614, in _rmul_dispatch\n    ret = self.transpose()._mul_dispatch(tr)\n  File \"C:\\Users\\omira\\anaconda3\\lib\\site-packages\\scipy\\sparse\\_base.py\", line 532, in _mul_dispatch\n    return self._mul_multivector(other)\n  File \"C:\\Users\\omira\\anaconda3\\lib\\site-packages\\scipy\\sparse\\_compressed.py\", line 497, in _mul_multivector\n    result = np.zeros((M, n_vecs),\nnumpy.core._exceptions._ArrayMemoryError: Unable to allocate 18.7 GiB for an array with shape (60101, 41689) and data type int64\n\n--------------------------------------------------------------------------------\n3 fits failed with the following error:\nTraceback (most recent call last):\n  File \"C:\\Users\\omira\\anaconda3\\lib\\site-packages\\sklearn\\model_selection\\_validation.py\", line 686, in _fit_and_score\n    estimator.fit(X_train, y_train, **fit_params)\n  File \"C:\\Users\\omira\\anaconda3\\lib\\site-packages\\sklearn\\naive_bayes.py\", line 776, in fit\n    self._count(X, Y)\n  File \"C:\\Users\\omira\\anaconda3\\lib\\site-packages\\sklearn\\naive_bayes.py\", line 899, in _count\n    self.feature_count_ += safe_sparse_dot(Y.T, X)\n  File \"C:\\Users\\omira\\anaconda3\\lib\\site-packages\\sklearn\\utils\\extmath.py\", line 189, in safe_sparse_dot\n    ret = a @ b\n  File \"C:\\Users\\omira\\anaconda3\\lib\\site-packages\\scipy\\sparse\\_base.py\", line 636, in __rmatmul__\n    return self._rmul_dispatch(other)\n  File \"C:\\Users\\omira\\anaconda3\\lib\\site-packages\\scipy\\sparse\\_base.py\", line 614, in _rmul_dispatch\n    ret = self.transpose()._mul_dispatch(tr)\n  File \"C:\\Users\\omira\\anaconda3\\lib\\site-packages\\scipy\\sparse\\_base.py\", line 532, in _mul_dispatch\n    return self._mul_multivector(other)\n  File \"C:\\Users\\omira\\anaconda3\\lib\\site-packages\\scipy\\sparse\\_compressed.py\", line 497, in _mul_multivector\n    result = np.zeros((M, n_vecs),\nnumpy.core._exceptions._ArrayMemoryError: Unable to allocate 18.7 GiB for an array with shape (60101, 41733) and data type int64\n\n--------------------------------------------------------------------------------\n3 fits failed with the following error:\nTraceback (most recent call last):\n  File \"C:\\Users\\omira\\anaconda3\\lib\\site-packages\\sklearn\\model_selection\\_validation.py\", line 686, in _fit_and_score\n    estimator.fit(X_train, y_train, **fit_params)\n  File \"C:\\Users\\omira\\anaconda3\\lib\\site-packages\\sklearn\\naive_bayes.py\", line 776, in fit\n    self._count(X, Y)\n  File \"C:\\Users\\omira\\anaconda3\\lib\\site-packages\\sklearn\\naive_bayes.py\", line 899, in _count\n    self.feature_count_ += safe_sparse_dot(Y.T, X)\n  File \"C:\\Users\\omira\\anaconda3\\lib\\site-packages\\sklearn\\utils\\extmath.py\", line 189, in safe_sparse_dot\n    ret = a @ b\n  File \"C:\\Users\\omira\\anaconda3\\lib\\site-packages\\scipy\\sparse\\_base.py\", line 636, in __rmatmul__\n    return self._rmul_dispatch(other)\n  File \"C:\\Users\\omira\\anaconda3\\lib\\site-packages\\scipy\\sparse\\_base.py\", line 614, in _rmul_dispatch\n    ret = self.transpose()._mul_dispatch(tr)\n  File \"C:\\Users\\omira\\anaconda3\\lib\\site-packages\\scipy\\sparse\\_base.py\", line 532, in _mul_dispatch\n    return self._mul_multivector(other)\n  File \"C:\\Users\\omira\\anaconda3\\lib\\site-packages\\scipy\\sparse\\_compressed.py\", line 497, in _mul_multivector\n    result = np.zeros((M, n_vecs),\nnumpy.core._exceptions._ArrayMemoryError: Unable to allocate 18.7 GiB for an array with shape (60101, 41710) and data type int64\n\n--------------------------------------------------------------------------------\n3 fits failed with the following error:\nTraceback (most recent call last):\n  File \"C:\\Users\\omira\\anaconda3\\lib\\site-packages\\sklearn\\model_selection\\_validation.py\", line 686, in _fit_and_score\n    estimator.fit(X_train, y_train, **fit_params)\n  File \"C:\\Users\\omira\\anaconda3\\lib\\site-packages\\sklearn\\naive_bayes.py\", line 776, in fit\n    self._count(X, Y)\n  File \"C:\\Users\\omira\\anaconda3\\lib\\site-packages\\sklearn\\naive_bayes.py\", line 899, in _count\n    self.feature_count_ += safe_sparse_dot(Y.T, X)\n  File \"C:\\Users\\omira\\anaconda3\\lib\\site-packages\\sklearn\\utils\\extmath.py\", line 189, in safe_sparse_dot\n    ret = a @ b\n  File \"C:\\Users\\omira\\anaconda3\\lib\\site-packages\\scipy\\sparse\\_base.py\", line 636, in __rmatmul__\n    return self._rmul_dispatch(other)\n  File \"C:\\Users\\omira\\anaconda3\\lib\\site-packages\\scipy\\sparse\\_base.py\", line 614, in _rmul_dispatch\n    ret = self.transpose()._mul_dispatch(tr)\n  File \"C:\\Users\\omira\\anaconda3\\lib\\site-packages\\scipy\\sparse\\_base.py\", line 532, in _mul_dispatch\n    return self._mul_multivector(other)\n  File \"C:\\Users\\omira\\anaconda3\\lib\\site-packages\\scipy\\sparse\\_compressed.py\", line 497, in _mul_multivector\n    result = np.zeros((M, n_vecs),\nnumpy.core._exceptions._ArrayMemoryError: Unable to allocate 18.7 GiB for an array with shape (60101, 41677) and data type int64\n"
     ]
    }
   ],
   "source": [
    "import pandas as pd\n",
    "from sklearn.feature_extraction.text import CountVectorizer\n",
    "from sklearn.model_selection import train_test_split, GridSearchCV\n",
    "from sklearn.naive_bayes import MultinomialNB\n",
    "from sklearn.metrics import classification_report, accuracy_score\n",
    "\n",
    "# Séparer les caractéristiques (X) et les étiquettes (y)\n",
    "X = data['body_clean']\n",
    "y = data['Tags']\n",
    "\n",
    "# Vectorisation des textes\n",
    "vectorizer = CountVectorizer()\n",
    "X = vectorizer.fit_transform(X)\n",
    "\n",
    "# Séparation des données en ensembles d'entraînement et de test\n",
    "X_train, X_test, y_train, y_test = train_test_split(X, y, test_size=0.2, random_state=42)\n",
    "\n",
    "# Définition des hyperparamètres à ajuster\n",
    "param_grid = {\n",
    "    'alpha': [0.1, 1.0, 10.0]\n",
    "}\n",
    "\n",
    "# Entraînement du modèle de classification avec recherche en grille des hyperparamètres\n",
    "model = MultinomialNB()\n",
    "grid_search = GridSearchCV(model, param_grid, cv=5)\n",
    "grid_search.fit(X_train, y_train)\n",
    "\n",
    "# Meilleur modèle trouvé\n",
    "best_model = grid_search.best_estimator_\n",
    "\n",
    "# Prédiction des étiquettes sur l'ensemble de test\n",
    "y_pred = best_model.predict(X_test)\n",
    "\n",
    "# Affichage du rapport de classification\n",
    "print(classification_report(y_test, y_pred))\n",
    "\n",
    "# Calcul de la précision globale\n",
    "accuracy = accuracy_score(y_test, y_pred)\n",
    "print(\"Précision globale :\", accuracy)\n"
   ]
  },
  {
   "cell_type": "code",
   "execution_count": 7,
   "id": "1a4df516",
   "metadata": {},
   "outputs": [
    {
     "name": "stdout",
     "output_type": "stream",
     "text": [
      "19729    NaN\n",
      "Name: body_clean, dtype: object\n"
     ]
    }
   ],
   "source": [
    "# Vérifier si la colonne \"body_clean\" contient des valeurs float\n",
    "float_values = data['body_clean'][data['body_clean'].apply(lambda x: isinstance(x, float))]\n",
    "print(float_values)"
   ]
  },
  {
   "cell_type": "code",
   "execution_count": 3,
   "id": "e2046a7f",
   "metadata": {},
   "outputs": [],
   "source": [
    "# on supprimme l'échantillon qui contient un float\n",
    "data.drop(19729, inplace=True)"
   ]
  },
  {
   "cell_type": "code",
   "execution_count": 14,
   "id": "0d39d644",
   "metadata": {},
   "outputs": [],
   "source": [
    "lignes_manquantes = data[data['body_clean'].isnull()].index"
   ]
  },
  {
   "cell_type": "code",
   "execution_count": 15,
   "id": "0f02365d",
   "metadata": {},
   "outputs": [],
   "source": [
    "# Supprimer les lignes contenant des valeurs manquantes\n",
    "data.drop(lignes_manquantes, inplace=True)\n",
    "\n",
    "# Réindexer le DataFrame\n",
    "data.reset_index(drop=True, inplace=True)"
   ]
  },
  {
   "cell_type": "code",
   "execution_count": 23,
   "id": "31a305bc",
   "metadata": {},
   "outputs": [],
   "source": [
    "# Chargement des données depuis un DataFrame\n",
    "data = pd.read_csv('QueryResultsFinal.csv')"
   ]
  },
  {
   "cell_type": "code",
   "execution_count": 25,
   "id": "9b73ef35",
   "metadata": {},
   "outputs": [],
   "source": [
    "data = data.dropna()"
   ]
  },
  {
   "cell_type": "code",
   "execution_count": 4,
   "id": "34af9bd8",
   "metadata": {},
   "outputs": [
    {
     "data": {
      "text/plain": [
       "Title               0\n",
       "Tags                0\n",
       "Id                  0\n",
       "Score               0\n",
       "ViewCount           0\n",
       "AnswerCount         0\n",
       "CreationDate        0\n",
       "LastActivityDate    0\n",
       "CommentCount        0\n",
       "body_clean          0\n",
       "main_tag            0\n",
       "ActivityTime        0\n",
       "dtype: int64"
      ]
     },
     "execution_count": 4,
     "metadata": {},
     "output_type": "execute_result"
    }
   ],
   "source": [
    "data.isnull().sum()"
   ]
  },
  {
   "cell_type": "code",
   "execution_count": 5,
   "id": "dfeca297",
   "metadata": {},
   "outputs": [
    {
     "name": "stdout",
     "output_type": "stream",
     "text": [
      "Meilleurs paramètres : {'C': 10, 'gamma': 0.1}\n",
      "Précision : 0.33592930957016626\n"
     ]
    }
   ],
   "source": [
    "import pandas as pd\n",
    "from sklearn.feature_extraction.text import TfidfVectorizer\n",
    "from sklearn.model_selection import train_test_split, GridSearchCV\n",
    "from sklearn.svm import SVC\n",
    "\n",
    "# Séparation des données en variables prédictives (X) et variable cible (y)\n",
    "X = data['body_clean']\n",
    "y = data['main_tag']\n",
    "\n",
    "# Extraction des mots clés pré-définis\n",
    "mots_cles = ['c#', 'java', 'javascript', 'python', 'c++', 'android', 'ios', '.net', 'html', 'php'] \n",
    "\n",
    "# Création du vecteur de caractéristiques en utilisant TF-IDF\n",
    "vectorizer = TfidfVectorizer(vocabulary=mots_cles)\n",
    "\n",
    "# Transformation du texte en vecteurs\n",
    "X_vecteurs = vectorizer.fit_transform(X)\n",
    "\n",
    "# Séparation des données en ensembles d'entraînement et de test\n",
    "X_train, X_test, y_train, y_test = train_test_split(X_vecteurs, y, test_size=0.2, random_state=42)\n",
    "\n",
    "# Définition du modèle de classification (SVM)\n",
    "model = SVC()\n",
    "\n",
    "# Définition des hyperparamètres à rechercher avec GridSearchCV\n",
    "param_grid = {'C': [0.1, 1, 10], 'gamma': [0.1, 0.01, 0.001]}\n",
    "\n",
    "# Recherche sur grille pour trouver les meilleurs paramètres\n",
    "grid_search = GridSearchCV(model, param_grid, cv=5)\n",
    "grid_search.fit(X_train, y_train)\n",
    "\n",
    "# Affichage des meilleurs paramètres trouvés\n",
    "print(\"Meilleurs paramètres :\", grid_search.best_params_)\n",
    "\n",
    "# Prédiction sur l'ensemble de test avec les meilleurs paramètres\n",
    "y_pred = grid_search.predict(X_test)\n",
    "\n",
    "# Évaluation des performances du modèle\n",
    "accuracy = (y_pred == y_test).mean()\n",
    "print(\"Précision :\", accuracy)"
   ]
  },
  {
   "cell_type": "code",
   "execution_count": null,
   "id": "c77495f4",
   "metadata": {},
   "outputs": [],
   "source": []
  }
 ],
 "metadata": {
  "kernelspec": {
   "display_name": "Python 3 (ipykernel)",
   "language": "python",
   "name": "python3"
  },
  "language_info": {
   "codemirror_mode": {
    "name": "ipython",
    "version": 3
   },
   "file_extension": ".py",
   "mimetype": "text/x-python",
   "name": "python",
   "nbconvert_exporter": "python",
   "pygments_lexer": "ipython3",
   "version": "3.10.9"
  }
 },
 "nbformat": 4,
 "nbformat_minor": 5
}
