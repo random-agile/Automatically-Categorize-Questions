{
 "cells": [
  {
   "cell_type": "markdown",
   "id": "ca3c935a",
   "metadata": {},
   "source": [
    "# OC PROJET 5 - AUTOMATICALLY CATEGORIZE QUESTIONS\n",
    "#### CLEANING AND ANALYSIS NOTEBOOK\n",
    "<br></br>\n",
    "### SOMMAIRE\n",
    "- <a href=\"#C1\">I. Nettoyage des données</a>\n",
    "    \n",
    "- <a href=\"#C2\">II. Feature Engineering</a>\n",
    "\n",
    "- <a href=\"#C3\">III. Preprocessing</a>\n",
    "    \n",
    "- <a href=\"#C4\">IV. Exploration des données</a>\n",
    "    - 1. Matrice des corrélations\n",
    "    - 2. Analyse temporelle\n",
    "    - 3. Analyse Quanti/Quanti\n",
    "    - 4. Analyse Quanti/Quali\n",
    "    - 5. Analyse Quali/Quali\n",
    "    - 6. ACP"
   ]
  },
  {
   "cell_type": "markdown",
   "id": "39dfda8b",
   "metadata": {},
   "source": [
    "# <a name=\"C1\">I. Nettoyage et fusion des données</a>"
   ]
  },
  {
   "cell_type": "markdown",
   "id": "ab079017",
   "metadata": {},
   "source": [
    "<font size=\"5\">1. Importation des librairies</font>"
   ]
  },
  {
   "cell_type": "code",
   "execution_count": 51,
   "id": "91716319",
   "metadata": {},
   "outputs": [],
   "source": [
    "# importation des librairies\n",
    "import os\n",
    "import numpy as np\n",
    "import pandas as pd\n",
    "import matplotlib as mpl\n",
    "from matplotlib import font_manager as rcParams\n",
    "import matplotlib.patheffects as path_effects\n",
    "import matplotlib.pyplot as plt\n",
    "import seaborn as sns\n",
    "import scipy.stats as st\n",
    "from scipy.stats import pearsonr\n",
    "from scipy.stats import f_oneway\n",
    "from sklearn.decomposition import PCA\n",
    "from sklearn.preprocessing import StandardScaler\n",
    "import re\n",
    "import nltk\n",
    "from nltk.corpus import stopwords\n",
    "from nltk.stem import WordNetLemmatizer\n",
    "from sklearn.feature_extraction.text import CountVectorizer\n",
    "from nltk.tokenize import sent_tokenize, word_tokenize\n",
    "import enchant\n",
    "from sklearn import metrics"
   ]
  },
  {
   "cell_type": "markdown",
   "id": "30369397",
   "metadata": {},
   "source": [
    "<font size=\"5\">2. Paramétrages Data Visualisation</font>"
   ]
  },
  {
   "cell_type": "code",
   "execution_count": 2,
   "id": "be6af1e1",
   "metadata": {},
   "outputs": [],
   "source": [
    "# Ajouter une ombre à la police\n",
    "shadow = path_effects.withSimplePatchShadow(offset = (1, - 0.75), \n",
    "shadow_rgbFace = 'darkblue', alpha = 0.25)\n",
    "\n",
    "# changer la police dans les graphiques, les couleurs \n",
    "# et augmenter la résolution d'affichage\n",
    "plt.rcParams['font.family'] = 'Ebrima'\n",
    "plt.rcParams['text.color'] = 'white'\n",
    "plt.rcParams['figure.dpi'] = 200\n",
    "plt.rcParams['savefig.dpi'] = 200\n",
    "plt.style.use('dark_background')\n",
    "\n",
    "# set le theme seaborn\n",
    "sns.set_style('darkgrid', {'axes.facecolor': '0.2',\n",
    "'text.color': 'white', 'figure.figsize': (20, 16)})\n",
    "plt.rcParams['figure.facecolor'] = '0.2'\n",
    "\n",
    "# suppression de l'affichage max des colonnes\n",
    "pd.set_option('display.max_columns', None)"
   ]
  },
  {
   "cell_type": "markdown",
   "id": "8aeeba20",
   "metadata": {},
   "source": [
    "<font size=\"5\">3. Requêtes SQL</font>"
   ]
  },
  {
   "cell_type": "markdown",
   "id": "d0b42234",
   "metadata": {},
   "source": [
    "SELECT TOP 50000 Title, Body, Tags, Id, Score, ViewCount, AnswerCount, CreationDate, LastActivityDate, CommentCount\n",
    "FROM Posts\n",
    "WHERE PostTypeId = 1 \n",
    "  AND ViewCount > 100 \n",
    "  AND Score > 3 \n",
    "  AND AnswerCount > 0 \n",
    "  AND LEN(Tags) - LEN(REPLACE(Tags, '<','')) >= 5 \n",
    "  AND CommentCount > 0\n",
    "ORDER BY Id ASC"
   ]
  },
  {
   "cell_type": "markdown",
   "id": "4c0f72d0",
   "metadata": {},
   "source": [
    "SELECT TOP 50000 Title, Body, Tags, Id, Score, ViewCount, AnswerCount, CreationDate, LastActivityDate, CommentCount\n",
    "FROM Posts\n",
    "WHERE PostTypeId = 1 \n",
    "  AND ViewCount > 100 \n",
    "  AND Score > 3 \n",
    "  AND AnswerCount > 0 \n",
    "  AND LEN(Tags) - LEN(REPLACE(Tags, '<','')) >= 5 \n",
    "  AND CommentCount > 0\n",
    "ORDER BY Id DESC"
   ]
  },
  {
   "cell_type": "markdown",
   "id": "f25dd408",
   "metadata": {},
   "source": [
    "<font size=\"5\">4. Dataframe</font>"
   ]
  },
  {
   "cell_type": "code",
   "execution_count": 3,
   "id": "1022fd26",
   "metadata": {},
   "outputs": [],
   "source": [
    "df1 = pd.read_csv('QueryResultsAsc.csv')\n",
    "df2 = pd.read_csv('QueryResultsDesc.csv')"
   ]
  },
  {
   "cell_type": "code",
   "execution_count": 4,
   "id": "93f500b5",
   "metadata": {},
   "outputs": [
    {
     "data": {
      "text/plain": [
       "(100000, 10)"
      ]
     },
     "execution_count": 4,
     "metadata": {},
     "output_type": "execute_result"
    }
   ],
   "source": [
    "# Fusion des DataFrames df1 et df2 sur la colonne commune\n",
    "df = pd.concat([df1, df2])\n",
    "df.shape"
   ]
  },
  {
   "cell_type": "code",
   "execution_count": 5,
   "id": "ca55c17c",
   "metadata": {},
   "outputs": [
    {
     "data": {
      "text/html": [
       "<div>\n",
       "<style scoped>\n",
       "    .dataframe tbody tr th:only-of-type {\n",
       "        vertical-align: middle;\n",
       "    }\n",
       "\n",
       "    .dataframe tbody tr th {\n",
       "        vertical-align: top;\n",
       "    }\n",
       "\n",
       "    .dataframe thead th {\n",
       "        text-align: right;\n",
       "    }\n",
       "</style>\n",
       "<table border=\"1\" class=\"dataframe\">\n",
       "  <thead>\n",
       "    <tr style=\"text-align: right;\">\n",
       "      <th></th>\n",
       "      <th>Title</th>\n",
       "      <th>Body</th>\n",
       "      <th>Tags</th>\n",
       "      <th>Id</th>\n",
       "      <th>Score</th>\n",
       "      <th>ViewCount</th>\n",
       "      <th>AnswerCount</th>\n",
       "      <th>CreationDate</th>\n",
       "      <th>LastActivityDate</th>\n",
       "      <th>CommentCount</th>\n",
       "    </tr>\n",
       "  </thead>\n",
       "  <tbody>\n",
       "    <tr>\n",
       "      <th>0</th>\n",
       "      <td>How to convert Decimal to Double in C#?</td>\n",
       "      <td>&lt;p&gt;I want to assign the decimal variable &amp;quot...</td>\n",
       "      <td>&lt;c#&gt;&lt;floating-point&gt;&lt;type-conversion&gt;&lt;double&gt;&lt;...</td>\n",
       "      <td>4</td>\n",
       "      <td>795</td>\n",
       "      <td>72107</td>\n",
       "      <td>13</td>\n",
       "      <td>2008-07-31 21:42:52</td>\n",
       "      <td>2022-09-08 05:07:26</td>\n",
       "      <td>4</td>\n",
       "    </tr>\n",
       "    <tr>\n",
       "      <th>1</th>\n",
       "      <td>Calculate relative time in C#</td>\n",
       "      <td>&lt;p&gt;Given a specific &lt;code&gt;DateTime&lt;/code&gt; valu...</td>\n",
       "      <td>&lt;c#&gt;&lt;datetime&gt;&lt;time&gt;&lt;datediff&gt;&lt;relative-time-s...</td>\n",
       "      <td>11</td>\n",
       "      <td>1645</td>\n",
       "      <td>198982</td>\n",
       "      <td>41</td>\n",
       "      <td>2008-07-31 23:55:37</td>\n",
       "      <td>2022-09-05 11:26:30</td>\n",
       "      <td>3</td>\n",
       "    </tr>\n",
       "    <tr>\n",
       "      <th>2</th>\n",
       "      <td>Determine a user's timezone</td>\n",
       "      <td>&lt;p&gt;Is there a standard way for a web server to...</td>\n",
       "      <td>&lt;html&gt;&lt;browser&gt;&lt;timezone&gt;&lt;user-agent&gt;&lt;timezone...</td>\n",
       "      <td>13</td>\n",
       "      <td>704</td>\n",
       "      <td>285740</td>\n",
       "      <td>27</td>\n",
       "      <td>2008-08-01 00:42:38</td>\n",
       "      <td>2022-03-29 07:31:31</td>\n",
       "      <td>10</td>\n",
       "    </tr>\n",
       "    <tr>\n",
       "      <th>3</th>\n",
       "      <td>What is the fastest way to get the value of π?</td>\n",
       "      <td>&lt;p&gt;I'm looking for the fastest way to obtain t...</td>\n",
       "      <td>&lt;performance&gt;&lt;algorithm&gt;&lt;language-agnostic&gt;&lt;un...</td>\n",
       "      <td>19</td>\n",
       "      <td>351</td>\n",
       "      <td>68134</td>\n",
       "      <td>23</td>\n",
       "      <td>2008-08-01 05:21:22</td>\n",
       "      <td>2023-03-27 07:55:50</td>\n",
       "      <td>17</td>\n",
       "    </tr>\n",
       "    <tr>\n",
       "      <th>4</th>\n",
       "      <td>How to use the C socket API in C++ on z/OS</td>\n",
       "      <td>&lt;p&gt;I'm having issues getting the C sockets API...</td>\n",
       "      <td>&lt;c++&gt;&lt;c&gt;&lt;sockets&gt;&lt;mainframe&gt;&lt;zos&gt;</td>\n",
       "      <td>25</td>\n",
       "      <td>175</td>\n",
       "      <td>15977</td>\n",
       "      <td>9</td>\n",
       "      <td>2008-08-01 12:13:50</td>\n",
       "      <td>2023-06-01 11:20:00</td>\n",
       "      <td>1</td>\n",
       "    </tr>\n",
       "  </tbody>\n",
       "</table>\n",
       "</div>"
      ],
      "text/plain": [
       "                                            Title  \\\n",
       "0         How to convert Decimal to Double in C#?   \n",
       "1                   Calculate relative time in C#   \n",
       "2                     Determine a user's timezone   \n",
       "3  What is the fastest way to get the value of π?   \n",
       "4      How to use the C socket API in C++ on z/OS   \n",
       "\n",
       "                                                Body  \\\n",
       "0  <p>I want to assign the decimal variable &quot...   \n",
       "1  <p>Given a specific <code>DateTime</code> valu...   \n",
       "2  <p>Is there a standard way for a web server to...   \n",
       "3  <p>I'm looking for the fastest way to obtain t...   \n",
       "4  <p>I'm having issues getting the C sockets API...   \n",
       "\n",
       "                                                Tags  Id  Score  ViewCount  \\\n",
       "0  <c#><floating-point><type-conversion><double><...   4    795      72107   \n",
       "1  <c#><datetime><time><datediff><relative-time-s...  11   1645     198982   \n",
       "2  <html><browser><timezone><user-agent><timezone...  13    704     285740   \n",
       "3  <performance><algorithm><language-agnostic><un...  19    351      68134   \n",
       "4                  <c++><c><sockets><mainframe><zos>  25    175      15977   \n",
       "\n",
       "   AnswerCount         CreationDate     LastActivityDate  CommentCount  \n",
       "0           13  2008-07-31 21:42:52  2022-09-08 05:07:26             4  \n",
       "1           41  2008-07-31 23:55:37  2022-09-05 11:26:30             3  \n",
       "2           27  2008-08-01 00:42:38  2022-03-29 07:31:31            10  \n",
       "3           23  2008-08-01 05:21:22  2023-03-27 07:55:50            17  \n",
       "4            9  2008-08-01 12:13:50  2023-06-01 11:20:00             1  "
      ]
     },
     "execution_count": 5,
     "metadata": {},
     "output_type": "execute_result"
    }
   ],
   "source": [
    "df.head()"
   ]
  },
  {
   "cell_type": "code",
   "execution_count": 6,
   "id": "bd1be964",
   "metadata": {},
   "outputs": [
    {
     "data": {
      "text/plain": [
       "Title               0\n",
       "Body                0\n",
       "Tags                0\n",
       "Id                  0\n",
       "Score               0\n",
       "ViewCount           0\n",
       "AnswerCount         0\n",
       "CreationDate        0\n",
       "LastActivityDate    0\n",
       "CommentCount        0\n",
       "dtype: int64"
      ]
     },
     "execution_count": 6,
     "metadata": {},
     "output_type": "execute_result"
    }
   ],
   "source": [
    "df.isnull().sum()"
   ]
  },
  {
   "cell_type": "code",
   "execution_count": 7,
   "id": "09af46cd",
   "metadata": {},
   "outputs": [
    {
     "data": {
      "text/html": [
       "<div>\n",
       "<style scoped>\n",
       "    .dataframe tbody tr th:only-of-type {\n",
       "        vertical-align: middle;\n",
       "    }\n",
       "\n",
       "    .dataframe tbody tr th {\n",
       "        vertical-align: top;\n",
       "    }\n",
       "\n",
       "    .dataframe thead th {\n",
       "        text-align: right;\n",
       "    }\n",
       "</style>\n",
       "<table border=\"1\" class=\"dataframe\">\n",
       "  <thead>\n",
       "    <tr style=\"text-align: right;\">\n",
       "      <th></th>\n",
       "      <th>Title</th>\n",
       "      <th>Body</th>\n",
       "      <th>Tags</th>\n",
       "      <th>Id</th>\n",
       "      <th>Score</th>\n",
       "      <th>ViewCount</th>\n",
       "      <th>AnswerCount</th>\n",
       "      <th>CreationDate</th>\n",
       "      <th>LastActivityDate</th>\n",
       "      <th>CommentCount</th>\n",
       "    </tr>\n",
       "  </thead>\n",
       "  <tbody>\n",
       "  </tbody>\n",
       "</table>\n",
       "</div>"
      ],
      "text/plain": [
       "Empty DataFrame\n",
       "Columns: [Title, Body, Tags, Id, Score, ViewCount, AnswerCount, CreationDate, LastActivityDate, CommentCount]\n",
       "Index: []"
      ]
     },
     "execution_count": 7,
     "metadata": {},
     "output_type": "execute_result"
    }
   ],
   "source": [
    "df.loc[df.duplicated(keep = False),:]"
   ]
  },
  {
   "cell_type": "code",
   "execution_count": 8,
   "id": "b6190da7",
   "metadata": {},
   "outputs": [
    {
     "data": {
      "text/plain": [
       "Title               object\n",
       "Body                object\n",
       "Tags                object\n",
       "Id                   int64\n",
       "Score                int64\n",
       "ViewCount            int64\n",
       "AnswerCount          int64\n",
       "CreationDate        object\n",
       "LastActivityDate    object\n",
       "CommentCount         int64\n",
       "dtype: object"
      ]
     },
     "execution_count": 8,
     "metadata": {},
     "output_type": "execute_result"
    }
   ],
   "source": [
    "df.dtypes"
   ]
  },
  {
   "cell_type": "code",
   "execution_count": 9,
   "id": "1fb7f830",
   "metadata": {},
   "outputs": [
    {
     "data": {
      "text/html": [
       "<div>\n",
       "<style scoped>\n",
       "    .dataframe tbody tr th:only-of-type {\n",
       "        vertical-align: middle;\n",
       "    }\n",
       "\n",
       "    .dataframe tbody tr th {\n",
       "        vertical-align: top;\n",
       "    }\n",
       "\n",
       "    .dataframe thead th {\n",
       "        text-align: right;\n",
       "    }\n",
       "</style>\n",
       "<table border=\"1\" class=\"dataframe\">\n",
       "  <thead>\n",
       "    <tr style=\"text-align: right;\">\n",
       "      <th></th>\n",
       "      <th>Id</th>\n",
       "      <th>Score</th>\n",
       "      <th>ViewCount</th>\n",
       "      <th>AnswerCount</th>\n",
       "      <th>CommentCount</th>\n",
       "    </tr>\n",
       "  </thead>\n",
       "  <tbody>\n",
       "    <tr>\n",
       "      <th>count</th>\n",
       "      <td>1.000000e+05</td>\n",
       "      <td>100000.000000</td>\n",
       "      <td>1.000000e+05</td>\n",
       "      <td>100000.000000</td>\n",
       "      <td>100000.00000</td>\n",
       "    </tr>\n",
       "    <tr>\n",
       "      <th>mean</th>\n",
       "      <td>3.140196e+07</td>\n",
       "      <td>24.862830</td>\n",
       "      <td>2.314290e+04</td>\n",
       "      <td>3.326830</td>\n",
       "      <td>3.57137</td>\n",
       "    </tr>\n",
       "    <tr>\n",
       "      <th>std</th>\n",
       "      <td>2.647337e+07</td>\n",
       "      <td>172.320926</td>\n",
       "      <td>1.223877e+05</td>\n",
       "      <td>3.746832</td>\n",
       "      <td>3.23915</td>\n",
       "    </tr>\n",
       "    <tr>\n",
       "      <th>min</th>\n",
       "      <td>4.000000e+00</td>\n",
       "      <td>4.000000</td>\n",
       "      <td>1.010000e+02</td>\n",
       "      <td>1.000000</td>\n",
       "      <td>1.00000</td>\n",
       "    </tr>\n",
       "    <tr>\n",
       "      <th>25%</th>\n",
       "      <td>5.628995e+06</td>\n",
       "      <td>5.000000</td>\n",
       "      <td>1.734000e+03</td>\n",
       "      <td>1.000000</td>\n",
       "      <td>1.00000</td>\n",
       "    </tr>\n",
       "    <tr>\n",
       "      <th>50%</th>\n",
       "      <td>2.863875e+07</td>\n",
       "      <td>7.000000</td>\n",
       "      <td>4.754000e+03</td>\n",
       "      <td>2.000000</td>\n",
       "      <td>3.00000</td>\n",
       "    </tr>\n",
       "    <tr>\n",
       "      <th>75%</th>\n",
       "      <td>5.611157e+07</td>\n",
       "      <td>13.000000</td>\n",
       "      <td>1.338200e+04</td>\n",
       "      <td>4.000000</td>\n",
       "      <td>5.00000</td>\n",
       "    </tr>\n",
       "    <tr>\n",
       "      <th>max</th>\n",
       "      <td>7.639181e+07</td>\n",
       "      <td>25651.000000</td>\n",
       "      <td>1.278321e+07</td>\n",
       "      <td>134.000000</td>\n",
       "      <td>51.00000</td>\n",
       "    </tr>\n",
       "  </tbody>\n",
       "</table>\n",
       "</div>"
      ],
      "text/plain": [
       "                 Id          Score     ViewCount    AnswerCount  CommentCount\n",
       "count  1.000000e+05  100000.000000  1.000000e+05  100000.000000  100000.00000\n",
       "mean   3.140196e+07      24.862830  2.314290e+04       3.326830       3.57137\n",
       "std    2.647337e+07     172.320926  1.223877e+05       3.746832       3.23915\n",
       "min    4.000000e+00       4.000000  1.010000e+02       1.000000       1.00000\n",
       "25%    5.628995e+06       5.000000  1.734000e+03       1.000000       1.00000\n",
       "50%    2.863875e+07       7.000000  4.754000e+03       2.000000       3.00000\n",
       "75%    5.611157e+07      13.000000  1.338200e+04       4.000000       5.00000\n",
       "max    7.639181e+07   25651.000000  1.278321e+07     134.000000      51.00000"
      ]
     },
     "execution_count": 9,
     "metadata": {},
     "output_type": "execute_result"
    }
   ],
   "source": [
    "df.describe()"
   ]
  },
  {
   "cell_type": "code",
   "execution_count": 11,
   "id": "04bd4447",
   "metadata": {},
   "outputs": [],
   "source": [
    "def preprocess_text(text):\n",
    "    # Supprimer les balises HTML\n",
    "    text = re.sub('<.*?>', '', text)\n",
    "    \n",
    "    # Convertir en minuscules\n",
    "    text = text.lower()\n",
    "    \n",
    "    # Supprimer la ponctuation\n",
    "    text = re.sub(r'[^\\w\\s]', '', text)\n",
    "    \n",
    "    # Supprimer les mots vides (stop words)\n",
    "    stop_words = set(stopwords.words('english'))\n",
    "    tokens = text.split()\n",
    "    tokens = [word for word in tokens if word not in stop_words]\n",
    "    \n",
    "    # Lemmatisation des mots\n",
    "    lemmatizer = WordNetLemmatizer()\n",
    "    tokens = [lemmatizer.lemmatize(word) for word in tokens]\n",
    "    \n",
    "    # Rejoindre les tokens prétraités en une seule chaîne de texte\n",
    "    processed_text = ' '.join(tokens)\n",
    "    \n",
    "    return processed_text"
   ]
  },
  {
   "cell_type": "code",
   "execution_count": 12,
   "id": "7b2ffd05",
   "metadata": {},
   "outputs": [],
   "source": [
    "df['body_preprocess'] = df['Body'].apply(preprocess_text)"
   ]
  },
  {
   "cell_type": "code",
   "execution_count": 13,
   "id": "b01aa982",
   "metadata": {
    "scrolled": true
   },
   "outputs": [
    {
     "data": {
      "text/plain": [
       "0                                                                                                                                                                                                                                                                                                                                                                                                                                                                                                                                                                                                                                                                                                                                                                                                                                                                                                                                                                                                                                                                                                                                                                                                                                                                                                                                                                                                                                                                                                                                                                                                                                                                                                                   want assign decimal variable quottransquot double variable quotthisopacityquot decimal trans trackbar1value 5000 thisopacity trans build app give following error cannot implicitly convert type decimal double\n",
       "1                                                                                                                                                                                                                                                                                                                                                                                                                                                                                                                                                                                                                                                                                                                                                                                                                                                                                                                                                                                                                                                                                                                                                                                                                                                                                                                                                                                                                                                                                                                                                                                                                                                                                                                                                                                                                                           given specific datetime value display relative time like 2 hour ago 3 day ago month ago\n",
       "2                                                                                                                                                                                                                                                                                                                                                                                                                                                                                                                                                                                                                                                                                                                                                                                                                                                                                                                                                                                                                                                                                                                                                                                                                                                                                                                                                                                                                                                                                                                                                                                                                                                                                                                                                                                                                    standard way web server able determine user timezone within web page perhaps http header part useragent string\n",
       "3                         im looking fastest way obtain value π personal challenge specifically im using way dont involve using define constant like m_pi hardcoding number program test various way know inline assembly version theory fastest option though clearly portable ive included baseline compare version test builtins 4 atan1 version fastest gcc 42 autofolds atan1 constant fnobuiltin specified atan20 1 version fastest here main testing program pitimesc include ltmathhgt include ltstdiohgt include lttimehgt define iters 10000000 define testwithx diff 00 time1 clock 0 lt iters diff x m_pi time2 clock printfstgt e time gt fn x diff diffclocktime2 time1 static inline double diffclockclock_t time1 clock_t time0 return double time1 time0 clocks_per_sec int main int clock_t time1 time2 double diff warmup atan2 case catch gccs atan folding would optimise 4 atan1 m_pi noop fnobuiltin used testwith4 atan1 testwith4 atan21 1 defined__gnuc__ ampamp defined__i386__ defined__amd64__ extern double fldpi testwithfldpi endif actual test start testwithatan20 1 testwithacos1 testwith2 asin1 testwith4 atan21 1 testwith4 atan1 return 0 inline assembly stuff fldpic work x86 x64 system double fldpi double pi asmfldpi pi return pi build script build configuration im testing buildsh binsh gcc o3 wall c m32 fldpi32o fldpic gcc o3 wall c m64 fldpi64o fldpic gcc o3 wall ffastmath m32 pitimes132 pitimesc fldpi32o gcc o3 wall m32 pitimes232 pitimesc fldpi32o lm gcc o3 wall fnobuiltin m32 pitimes332 pitimesc fldpi32o lm gcc o3 wall ffastmath m64 pitimes164 pitimesc fldpi64o lm gcc o3 wall m64 pitimes264 pitimesc fldpi64o lm gcc o3 wall fnobuiltin m64 pitimes364 pitimesc fldpi64o lm apart testing various compiler flag ive compared 32bit 64bit optimization different ive also tried switching order test around still atan20 1 version still come top every time\n",
       "4                                                                                                                                                                                                                                                                                                                                                                                                                                                                                                                                                                                                                                                                                                                                                                                                                                                                                                                                                                                                                                       im issue getting c socket api work properly c zos although including syssocketh still get compile time error telling af_inet defined missing something obvious related fact zos make problem much complicated discovered ifdef im hitting apparently zos isnt happy unless define quottypequot socket im using define _oe_sockets personally idea _oe_sockets actually zos socket programmer 3 perhaps could give rundown work test app include ltsyssockethgt int main return af_inet compilelink output cxx wcxplink wlxplink inet_test inetc quotinetcquot line 516 ccn5274 name lookup quotaf_inetquot find declaration ccn0797i compilation failed file inetc object file created check syssocketsh include definition need far tell blocked ifdef statement however noticed contains following ifdef __cplusplus extern quotcquot endif encapsulates basically whole file sure matter\n",
       "5    recently site deluged resurgence asprox botnet sql injection attack without going detail attack attempt execute sql code encoding tsql command ascii encoded binary string look something like declare20s20nvarchar4000set20scast0x4400450006f00720020as20nvarchar4000execs able decode sql little wary since didnt know exactly happening time tried write simple decode tool could decode type text without even touching sqlnbsp server main part need decoded cast0x4400450006f007200 nvarchar4000 ive tried following command luck txtdecodedtexttext systemwebhttputilityurldecodetxturltexttext txtdecodedtexttext encodingasciigetstringencodingasciigetbytestxturltexttext txtdecodedtexttext encodingunicodegetstringencodingunicodegetbytestxturltexttext txtdecodedtexttext encodingasciigetstringencodingunicodegetbytestxturltexttext txtdecodedtexttext encodingunicodegetstringconvertfrombase64stringtxturltexttext proper way translate encoding without using sql server possible ill take vbnet code since im familiar okay im sure im missing something here im since input basic string started snippet encoded portion 4445434c41 translates decla first attempt txtdecodedtexttext encodingutf8getstringencodingutf8getbytestxturltext return exact thing put since converted character byte realized need parse every two character byte manually since dont know method yet little decoder look something like boolisdone byturlchar byteparsetxturltexttextsubstringintparseindex 2 byturlinturlindex byturlchar intparseindex 2 inturlindex txturltexttextlength intparseindex lt 2 boolisdone true txtdecodedtexttext encodingutf8getstringbyturl thing look good first couple pair loop balk get 4c pair say string incorrect format interestingly enough step debugger getstring method byte array able parse point get result figure im missing need direct cast byte instead attempting parse\n",
       "6                                                                                                                                                                                                                                                                                                                                                                                                                                                                                                                                                                                                                                                                                                                                                                                                                                                                                                                                                                                                                                                                                                                                                                                                  ive banging head sql server 2005 trying get lot data ive given database nearly 300 table need turn mysql database first call use bcp unfortunately doesnt produce valid csv string arent encapsulated cant deal row string comma whatever use delimiter would still hand write create table statement obviously csv doesnt tell anything data type would better tool could connect sql server mysql copy lose view stored procedure trigger etc isnt hard copy table us base type one db another anybody know tool dont mind many assumption make simplification occur long support integer float datetime string lot pruning normalising etc anyway dont care keeping key relationship anything like need initial set data fast\n",
       "7                                                                                                                                                                                                                                                                                                                                                                                                                                                                                                                                                                                                                                                                                                                                                                                                                                                                                                                                                                                                                                                                                                                                                                                                                                                                                                                                                                                                                                                                                                                                                                                                                                                                                                                                                                                           would go generating list possible permutation string x character length containing variable list character language would work portable\n",
       "8                                                                                                                                                                                                                                                                                                                                                                                                                                                                                                                                                                                                                                                                                                                                                                                                                                                                                                                                                                                                                                                                                                                                                                                                                                                                                                                                                                                                                                                                                                                                                                                                                                                                                           meaning java warning type safety cast object listltintegergt actually checking erased type list get warning try cast object type generic information following code object object getmylist listltintegergt list listltintegergt object\n",
       "9                                                                                                                                                                                                                                                                                                                                                                                                                                                                                                                                                                                                                                                               moderator note question good fit question answer format topicality rule currently apply stack overflow normally use quothistorical lockquot question content still value however answer question actively maintained historical lock doesnt permit editing answer quotwiki answerquot lock applied allow answer edited assume topicality issue normally handled historical lock present ie question good example ontopic question stack overflow formbased authentication website believe stack overflow resource specific technical question also general guideline solve variation common problem quotform based authentication websitesquot fine topic experiment include topic log log remain logged managing cooky including recommended setting sslhttps encryption store password using secret question forgotten usernamepassword functionality use nonce prevent crosssite request forgery csrf openid quotremember mequot checkbox browser autocompletion usernames password secret url public url protected digest checking password strength email validation much form based authentication include thing like role authorization http basic authentication please help u suggesting subtopics submitting good article subject editing official answer\n",
       "Name: body_preprocess, dtype: object"
      ]
     },
     "execution_count": 13,
     "metadata": {},
     "output_type": "execute_result"
    }
   ],
   "source": [
    "pd.set_option('display.max_colwidth', None)\n",
    "df['body_preprocess'].head(10)"
   ]
  },
  {
   "cell_type": "markdown",
   "id": "1e7c646c",
   "metadata": {},
   "source": [
    "# !!!"
   ]
  },
  {
   "cell_type": "code",
   "execution_count": 23,
   "id": "473c27f4",
   "metadata": {},
   "outputs": [],
   "source": [
    "def remove_nonexistent_words(text):\n",
    "    words = text.split()\n",
    "    english_dict = enchant.Dict(\"en_US\")\n",
    "\n",
    "    valid_words = []\n",
    "    for word in words:\n",
    "        if english_dict.check(word):\n",
    "            valid_words.append(word)\n",
    "\n",
    "    return ' '.join(valid_words)"
   ]
  },
  {
   "cell_type": "code",
   "execution_count": 24,
   "id": "8688cdeb",
   "metadata": {},
   "outputs": [
    {
     "ename": "AttributeError",
     "evalue": "module 'enchant' has no attribute 'Dict'",
     "output_type": "error",
     "traceback": [
      "\u001b[1;31m---------------------------------------------------------------------------\u001b[0m",
      "\u001b[1;31mAttributeError\u001b[0m                            Traceback (most recent call last)",
      "\u001b[1;32m~\\AppData\\Local\\Temp\\ipykernel_4460\\3681067474.py\u001b[0m in \u001b[0;36m<module>\u001b[1;34m\u001b[0m\n\u001b[1;32m----> 1\u001b[1;33m \u001b[0mdf\u001b[0m\u001b[1;33m[\u001b[0m\u001b[1;34m'body_cleanax'\u001b[0m\u001b[1;33m]\u001b[0m \u001b[1;33m=\u001b[0m \u001b[0mdf\u001b[0m\u001b[1;33m[\u001b[0m\u001b[1;34m'body_preprocess'\u001b[0m\u001b[1;33m]\u001b[0m\u001b[1;33m.\u001b[0m\u001b[0mapply\u001b[0m\u001b[1;33m(\u001b[0m\u001b[0mremove_nonexistent_words\u001b[0m\u001b[1;33m)\u001b[0m\u001b[1;33m\u001b[0m\u001b[1;33m\u001b[0m\u001b[0m\n\u001b[0m",
      "\u001b[1;32m~\\anaconda3\\lib\\site-packages\\pandas\\core\\series.py\u001b[0m in \u001b[0;36mapply\u001b[1;34m(self, func, convert_dtype, args, **kwargs)\u001b[0m\n\u001b[0;32m   4431\u001b[0m         \u001b[0mdtype\u001b[0m\u001b[1;33m:\u001b[0m \u001b[0mfloat64\u001b[0m\u001b[1;33m\u001b[0m\u001b[1;33m\u001b[0m\u001b[0m\n\u001b[0;32m   4432\u001b[0m         \"\"\"\n\u001b[1;32m-> 4433\u001b[1;33m         \u001b[1;32mreturn\u001b[0m \u001b[0mSeriesApply\u001b[0m\u001b[1;33m(\u001b[0m\u001b[0mself\u001b[0m\u001b[1;33m,\u001b[0m \u001b[0mfunc\u001b[0m\u001b[1;33m,\u001b[0m \u001b[0mconvert_dtype\u001b[0m\u001b[1;33m,\u001b[0m \u001b[0margs\u001b[0m\u001b[1;33m,\u001b[0m \u001b[0mkwargs\u001b[0m\u001b[1;33m)\u001b[0m\u001b[1;33m.\u001b[0m\u001b[0mapply\u001b[0m\u001b[1;33m(\u001b[0m\u001b[1;33m)\u001b[0m\u001b[1;33m\u001b[0m\u001b[1;33m\u001b[0m\u001b[0m\n\u001b[0m\u001b[0;32m   4434\u001b[0m \u001b[1;33m\u001b[0m\u001b[0m\n\u001b[0;32m   4435\u001b[0m     def _reduce(\n",
      "\u001b[1;32m~\\anaconda3\\lib\\site-packages\\pandas\\core\\apply.py\u001b[0m in \u001b[0;36mapply\u001b[1;34m(self)\u001b[0m\n\u001b[0;32m   1086\u001b[0m             \u001b[1;32mreturn\u001b[0m \u001b[0mself\u001b[0m\u001b[1;33m.\u001b[0m\u001b[0mapply_str\u001b[0m\u001b[1;33m(\u001b[0m\u001b[1;33m)\u001b[0m\u001b[1;33m\u001b[0m\u001b[1;33m\u001b[0m\u001b[0m\n\u001b[0;32m   1087\u001b[0m \u001b[1;33m\u001b[0m\u001b[0m\n\u001b[1;32m-> 1088\u001b[1;33m         \u001b[1;32mreturn\u001b[0m \u001b[0mself\u001b[0m\u001b[1;33m.\u001b[0m\u001b[0mapply_standard\u001b[0m\u001b[1;33m(\u001b[0m\u001b[1;33m)\u001b[0m\u001b[1;33m\u001b[0m\u001b[1;33m\u001b[0m\u001b[0m\n\u001b[0m\u001b[0;32m   1089\u001b[0m \u001b[1;33m\u001b[0m\u001b[0m\n\u001b[0;32m   1090\u001b[0m     \u001b[1;32mdef\u001b[0m \u001b[0magg\u001b[0m\u001b[1;33m(\u001b[0m\u001b[0mself\u001b[0m\u001b[1;33m)\u001b[0m\u001b[1;33m:\u001b[0m\u001b[1;33m\u001b[0m\u001b[1;33m\u001b[0m\u001b[0m\n",
      "\u001b[1;32m~\\anaconda3\\lib\\site-packages\\pandas\\core\\apply.py\u001b[0m in \u001b[0;36mapply_standard\u001b[1;34m(self)\u001b[0m\n\u001b[0;32m   1141\u001b[0m                 \u001b[1;31m# List[Union[Callable[..., Any], str]]]]]\"; expected\u001b[0m\u001b[1;33m\u001b[0m\u001b[1;33m\u001b[0m\u001b[0m\n\u001b[0;32m   1142\u001b[0m                 \u001b[1;31m# \"Callable[[Any], Any]\"\u001b[0m\u001b[1;33m\u001b[0m\u001b[1;33m\u001b[0m\u001b[0m\n\u001b[1;32m-> 1143\u001b[1;33m                 mapped = lib.map_infer(\n\u001b[0m\u001b[0;32m   1144\u001b[0m                     \u001b[0mvalues\u001b[0m\u001b[1;33m,\u001b[0m\u001b[1;33m\u001b[0m\u001b[1;33m\u001b[0m\u001b[0m\n\u001b[0;32m   1145\u001b[0m                     \u001b[0mf\u001b[0m\u001b[1;33m,\u001b[0m  \u001b[1;31m# type: ignore[arg-type]\u001b[0m\u001b[1;33m\u001b[0m\u001b[1;33m\u001b[0m\u001b[0m\n",
      "\u001b[1;32m~\\anaconda3\\lib\\site-packages\\pandas\\_libs\\lib.pyx\u001b[0m in \u001b[0;36mpandas._libs.lib.map_infer\u001b[1;34m()\u001b[0m\n",
      "\u001b[1;32m~\\AppData\\Local\\Temp\\ipykernel_4460\\1280324793.py\u001b[0m in \u001b[0;36mremove_nonexistent_words\u001b[1;34m(text)\u001b[0m\n\u001b[0;32m      1\u001b[0m \u001b[1;32mdef\u001b[0m \u001b[0mremove_nonexistent_words\u001b[0m\u001b[1;33m(\u001b[0m\u001b[0mtext\u001b[0m\u001b[1;33m)\u001b[0m\u001b[1;33m:\u001b[0m\u001b[1;33m\u001b[0m\u001b[1;33m\u001b[0m\u001b[0m\n\u001b[0;32m      2\u001b[0m     \u001b[0mwords\u001b[0m \u001b[1;33m=\u001b[0m \u001b[0mtext\u001b[0m\u001b[1;33m.\u001b[0m\u001b[0msplit\u001b[0m\u001b[1;33m(\u001b[0m\u001b[1;33m)\u001b[0m\u001b[1;33m\u001b[0m\u001b[1;33m\u001b[0m\u001b[0m\n\u001b[1;32m----> 3\u001b[1;33m     \u001b[0menglish_dict\u001b[0m \u001b[1;33m=\u001b[0m \u001b[0menchant\u001b[0m\u001b[1;33m.\u001b[0m\u001b[0mDict\u001b[0m\u001b[1;33m(\u001b[0m\u001b[1;34m\"en_US\"\u001b[0m\u001b[1;33m)\u001b[0m  \u001b[1;31m# Utilisez le dictionnaire correspondant à votre langue\u001b[0m\u001b[1;33m\u001b[0m\u001b[1;33m\u001b[0m\u001b[0m\n\u001b[0m\u001b[0;32m      4\u001b[0m \u001b[1;33m\u001b[0m\u001b[0m\n\u001b[0;32m      5\u001b[0m     \u001b[0mvalid_words\u001b[0m \u001b[1;33m=\u001b[0m \u001b[1;33m[\u001b[0m\u001b[1;33m]\u001b[0m\u001b[1;33m\u001b[0m\u001b[1;33m\u001b[0m\u001b[0m\n",
      "\u001b[1;31mAttributeError\u001b[0m: module 'enchant' has no attribute 'Dict'"
     ]
    }
   ],
   "source": [
    "df['body_cleanax'] = df['body_preprocess'].apply(remove_nonexistent_words)"
   ]
  },
  {
   "cell_type": "code",
   "execution_count": 29,
   "id": "ff09853f",
   "metadata": {
    "scrolled": true
   },
   "outputs": [
    {
     "name": "stdout",
     "output_type": "stream",
     "text": [
      "want assign decimal variable double variable decimal build give following error can not implicitly convert type decimal double\n"
     ]
    }
   ],
   "source": [
    "import nltk\n",
    "from nltk.corpus import words\n",
    "\n",
    "def nettoyer_texte(texte):\n",
    "    mots_valides = set(words.words())\n",
    "\n",
    "    mots = nltk.word_tokenize(texte)\n",
    "    mots_nettoyes = [mot for mot in mots if mot.lower() in mots_valides]\n",
    "    texte_nettoye = ' '.join(mots_nettoyes)\n",
    "\n",
    "    return texte_nettoye\n",
    "\n",
    "texte = 'want assign decimal variable quottransquot double variable quotthisopacityquot decimal trans trackbar1value 5000 thisopacity trans build app give following error cannot implicitly convert type decimal double'\n",
    "texte_nettoye = nettoyer_texte(texte)\n",
    "print(texte_nettoye)"
   ]
  },
  {
   "cell_type": "code",
   "execution_count": 30,
   "id": "e0ea3bda",
   "metadata": {},
   "outputs": [],
   "source": [
    "df['body_cleanax'] = df['body_preprocess'].apply(nettoyer_texte)"
   ]
  },
  {
   "cell_type": "code",
   "execution_count": 31,
   "id": "d83b9377",
   "metadata": {},
   "outputs": [
    {
     "data": {
      "text/plain": [
       "0                                                                                                                                                                                                                                                                                                                                                                                                                                                                                                                                                                                                                                                                                                                                  want assign decimal variable double variable decimal build give following error can not implicitly convert type decimal double\n",
       "1                                                                                                                                                                                                                                                                                                                                                                                                                                                                                                                                                                                                                                                                                                                                                                                      given specific value display relative time like hour ago day ago month ago\n",
       "2                                                                                                                                                                                                                                                                                                                                                                                                                                                                                                                                                                                                                                                                                                                                                                          standard way web server able determine user within web page perhaps header part string\n",
       "3                                                                                                              looking way obtain value personal challenge specifically way dont involve define constant like number program test various way know assembly version theory option though clearly portable included compare version test version constant version here main testing program include include include define define clock x clock e time x static double return double main double case catch folding would noop used extern double actual test start return assembly stuff work system double double pi pi return pi build script build configuration testing wall c wall c wall wall wall wall wall wall apart testing various compiler flag optimization different also tried switching order test around still version still come top every time\n",
       "4                                                                                                                                                                                                                                                                                                                                                         issue getting c socket work properly c although still get compile time error telling defined missing something obvious related fact make problem much complicated discovered apparently happy unless define socket define personally idea actually socket programmer perhaps could give work test include main return output line name find declaration compilation file object file check include definition need far tell blocked statement however following extern basically whole file sure matter\n",
       "                                                                                                                                                                                                                                                                                                                                                                                                                                   ...                                                                                                                                                                                                                                                                                                                                                                                                                           \n",
       "99995                                                                                                                                                                                                                                                                                                                                                                                                                                                                                                                                                                                                                                                                                                    want check vector integer duplicate return true try something like bool work since can not assigned bool value proceed towards write loop perform action\n",
       "99996                                                                                                                                                                                                                                                                                                                                                                                                                                                                                                                                                                                                                                                                                                                             made integer column null default put empty double quote give error error invalid input syntax integer integer column send query\n",
       "99997                                                                                                                                                                                                                                                                                                                                                                                                                                                                                                                                                                                                         issue python try execute give output special character like try decode end give error cant decode position invalid start tried around hour cant find answer everything didnt work maybe dumb hey get rid error get special character printed thanks\n",
       "99998    electron button say contract look contract ie get need window problem file form data read issue file led pull request file browser pull read issue comment bit bit trouble getting real file right browser export function customer data new file file return data function function get data push file export function return return catch return assume global function browser create form instance file also cause without file look like object three string get normal string however like request body local server get hopeless name contract object object contract file object object everything except output object messing tried postman manually selected file data name successful output name contract file domain null undefined size path name plot type hash null object cant use form button without opening select file file thanks\n",
       "99999                                                                                                                                                                  day ago oracle tried use eclipse didnt work around found link eclipse link try support eclipse follow help install new link went fine already could could also run didnt manage second step dragging install button nothing second step update eclipse build eclipse entry currently need additional step didnt eclipse client went fine problem try export runnable jar file get error jar creation see detail additional information resource selected jar export finished problem see detail additional information could find main method given launch configuration already tried new launch configuration making new empty project new nothing work anyone idea doesnt work fix edit\n",
       "Name: body_cleanax, Length: 100000, dtype: object"
      ]
     },
     "execution_count": 31,
     "metadata": {},
     "output_type": "execute_result"
    }
   ],
   "source": [
    "df['body_cleanax']"
   ]
  },
  {
   "cell_type": "code",
   "execution_count": 40,
   "id": "edca3561",
   "metadata": {},
   "outputs": [],
   "source": [
    "# sauvegarde du dataframe\n",
    "df.to_csv('QueryResultsClean.csv', index = False)"
   ]
  },
  {
   "cell_type": "code",
   "execution_count": 45,
   "id": "f6718864",
   "metadata": {},
   "outputs": [],
   "source": [
    "inertia = []\n",
    "K_range = range(1, 10)\n",
    "for k in K_range:\n",
    "    model = KMeans(n_clusters = k).fit(X)\n",
    "    inertia.append(model.inertia_)"
   ]
  },
  {
   "cell_type": "code",
   "execution_count": 47,
   "id": "81f88eaf",
   "metadata": {
    "scrolled": true
   },
   "outputs": [
    {
     "name": "stderr",
     "output_type": "stream",
     "text": [
      "C:\\Users\\Oliver\\AppData\\Local\\Temp\\ipykernel_4460\\804946866.py:2: UserWarning: color is redundantly defined by the 'color' keyword argument and the fmt string \"bx-\" (-> color='b'). The keyword argument will take precedence.\n",
      "  plt.plot(K_range, inertia, 'bx-', color = 'springgreen')\n"
     ]
    },
    {
     "data": {
      "image/png": "[encoded data removed]",
      "text/plain": [
       "<Figure size 1280x960 with 1 Axes>"
      ]
     },
     "metadata": {},
     "output_type": "display_data"
    }
   ],
   "source": [
    "plt.rcParams['font.family'] = 'Ebrima'\n",
    "plt.plot(K_range, inertia, 'bx-', color = 'springgreen')\n",
    "plt.xlabel('Nombre de clusters (k)', color = 'white')\n",
    "plt.gca().yaxis.set_label_coords( - 0.13, 0.5)\n",
    "plt.ylabel('Inertie', rotation = 360, color = 'white')\n",
    "plt.title('Méthode du coude')\n",
    "plt.xticks(color = 'white')\n",
    "plt.yticks(color = 'white')\n",
    "plt.grid(False)\n",
    "plt.show()"
   ]
  },
  {
   "cell_type": "code",
   "execution_count": 41,
   "id": "1535c4ad",
   "metadata": {},
   "outputs": [
    {
     "name": "stdout",
     "output_type": "stream",
     "text": [
      "Cluster 0\n",
      "import\n",
      "error\n",
      "component\n",
      "export\n",
      "react\n",
      "return\n",
      "file\n",
      "class\n",
      "module\n",
      "code\n",
      "\n",
      "Cluster 1\n",
      "file\n",
      "line\n",
      "error\n",
      "directory\n",
      "code\n",
      "folder\n",
      "like\n",
      "use\n",
      "want\n",
      "new\n",
      "\n",
      "Cluster 2\n",
      "like\n",
      "code\n",
      "function\n",
      "use\n",
      "want\n",
      "data\n",
      "way\n",
      "value\n",
      "return\n",
      "work\n",
      "\n",
      "Cluster 3\n",
      "public\n",
      "class\n",
      "private\n",
      "new\n",
      "void\n",
      "string\n",
      "return\n",
      "static\n",
      "method\n",
      "null\n",
      "\n",
      "Cluster 4\n",
      "error\n",
      "run\n",
      "server\n",
      "project\n",
      "version\n",
      "build\n",
      "application\n",
      "file\n",
      "test\n",
      "install\n",
      "\n"
     ]
    },
    {
     "name": "stderr",
     "output_type": "stream",
     "text": [
      "C:\\Users\\Oliver\\anaconda3\\lib\\site-packages\\sklearn\\utils\\deprecation.py:87: FutureWarning: Function get_feature_names is deprecated; get_feature_names is deprecated in 1.0 and will be removed in 1.2. Please use get_feature_names_out instead.\n",
      "  warnings.warn(msg, category=FutureWarning)\n"
     ]
    }
   ],
   "source": [
    "from sklearn.feature_extraction.text import TfidfVectorizer\n",
    "from sklearn.cluster import KMeans\n",
    "\n",
    "# Extraction des fonctionnalités avec TF-IDF\n",
    "vectorizer = TfidfVectorizer(stop_words=\"english\")\n",
    "X = vectorizer.fit_transform(df[\"Body\"])\n",
    "\n",
    "# Application de l'algorithme de clustering (K-means)\n",
    "num_clusters = 5  # Nombre de clusters souhaité\n",
    "kmeans = KMeans(n_clusters=num_clusters)\n",
    "kmeans.fit(X)\n",
    "\n",
    "# Affichage des mots clés pour chaque cluster\n",
    "order_centroids = kmeans.cluster_centers_.argsort()[:, ::-1]\n",
    "terms = vectorizer.get_feature_names()\n",
    "for i in range(num_clusters):\n",
    "    print(\"Cluster\", i)\n",
    "    for ind in order_centroids[i, :10]:  # Afficher les 10 mots clés les plus représentatifs\n",
    "        print(terms[ind])\n",
    "    print()\n",
    "    \n",
    "# Dans cette dernière partie, nous récupérons les indices \n",
    "# des centres de cluster triés dans l'ordre décroissant \n",
    "# en termes de proximité avec les mots clés. \n",
    "# Ensuite, nous récupérons les mots clés à partir du TfidfVectorizer. \n",
    "# Ensuite, nous itérons sur chaque cluster et affichons \n",
    "# les 10 mots clés les plus représentatifs pour chaque cluster."
   ]
  },
  {
   "cell_type": "markdown",
   "id": "67cffa83",
   "metadata": {},
   "source": [
    "Cluster 0:\n",
    "Ce cluster est centré sur les mots liés à l'importation de modules, aux erreurs, aux composants et à l'exportation dans le contexte du développement avec React. Les mots \"import\", \"error\", \"component\", \"export\", \"react\", \"return\", \"file\", \"class\", \"module\" et \"code\" suggèrent que les utilisateurs posent des questions sur l'importation de modules, la gestion des erreurs, les composants React, l'exportation de fonctionnalités, les fichiers et les classes dans le développement avec React.\n",
    "\n",
    "Cluster 1:\n",
    "Ce cluster est associé à des mots clés liés aux fichiers, aux lignes de code et à la gestion des erreurs. Les mots \"file\", \"line\", \"error\", \"directory\", \"code\", \"folder\", \"like\", \"use\", \"want\" et \"new\" indiquent que les utilisateurs posent des questions sur la gestion des fichiers, la localisation d'erreurs, la navigation dans les répertoires, l'utilisation de codes et la création de nouveaux éléments.\n",
    "\n",
    "Cluster 2:\n",
    "Ce cluster est axé sur les mots liés à l'utilisation des codes et des fonctions. Les mots \"like\", \"code\", \"function\", \"use\", \"want\", \"data\", \"way\", \"value\", \"return\" et \"work\" suggèrent que les utilisateurs posent des questions sur l'utilisation de codes, les fonctions, la manipulation des données et la résolution de problèmes.\n",
    "\n",
    "Cluster 3:\n",
    "Ce cluster est associé à des mots clés liés à la programmation orientée objet. Les mots \"public\", \"class\", \"private\", \"new\", \"void\", \"string\", \"return\", \"static\", \"method\" et \"null\" indiquent que les utilisateurs posent des questions sur les concepts de classes, d'objets, de méthodes et de variables dans la programmation orientée objet.\n",
    "\n",
    "Cluster 4:\n",
    "Ce cluster est centré sur les mots liés à l'exécution de projets, aux erreurs, aux versions et à l'installation d'applications. Les mots \"error\", \"run\", \"server\", \"project\", \"version\", \"build\", \"application\", \"file\", \"test\" et \"install\" suggèrent que les utilisateurs posent des questions sur l'exécution de projets, la gestion des erreurs, les versions de logiciels, la construction d'applications, les tests et l'installation de programmes."
   ]
  },
  {
   "cell_type": "code",
   "execution_count": 44,
   "id": "42e80641",
   "metadata": {},
   "outputs": [
    {
     "name": "stdout",
     "output_type": "stream",
     "text": [
      "Cluster 0\n",
      "like\n",
      "code\n",
      "use\n",
      "function\n",
      "want\n",
      "data\n",
      "way\n",
      "return\n",
      "value\n",
      "work\n",
      "\n",
      "Cluster 1\n",
      "import\n",
      "error\n",
      "file\n",
      "return\n",
      "component\n",
      "export\n",
      "react\n",
      "module\n",
      "class\n",
      "code\n",
      "\n",
      "Cluster 2\n",
      "file\n",
      "error\n",
      "project\n",
      "run\n",
      "build\n",
      "line\n",
      "version\n",
      "install\n",
      "command\n",
      "code\n",
      "\n",
      "Cluster 3\n",
      "public\n",
      "class\n",
      "new\n",
      "private\n",
      "void\n",
      "string\n",
      "return\n",
      "static\n",
      "method\n",
      "null\n",
      "\n"
     ]
    },
    {
     "name": "stderr",
     "output_type": "stream",
     "text": [
      "C:\\Users\\Oliver\\anaconda3\\lib\\site-packages\\sklearn\\utils\\deprecation.py:87: FutureWarning: Function get_feature_names is deprecated; get_feature_names is deprecated in 1.0 and will be removed in 1.2. Please use get_feature_names_out instead.\n",
      "  warnings.warn(msg, category=FutureWarning)\n"
     ]
    }
   ],
   "source": [
    "# Extraction des fonctionnalités avec TF-IDF\n",
    "vectorizer = TfidfVectorizer(stop_words=\"english\")\n",
    "X = vectorizer.fit_transform(df[\"Body\"])\n",
    "\n",
    "# Application de l'algorithme de clustering (K-means)\n",
    "num_clusters = 4  # Nombre de clusters souhaité\n",
    "kmeans = KMeans(n_clusters=num_clusters)\n",
    "kmeans.fit(X)\n",
    "\n",
    "# Affichage des mots clés pour chaque cluster\n",
    "order_centroids = kmeans.cluster_centers_.argsort()[:, ::-1]\n",
    "terms = vectorizer.get_feature_names()\n",
    "for i in range(num_clusters):\n",
    "    print(\"Cluster\", i)\n",
    "    for ind in order_centroids[i, :10]:  # Afficher les 10 mots clés les plus représentatifs\n",
    "        print(terms[ind])\n",
    "    print()"
   ]
  },
  {
   "cell_type": "markdown",
   "id": "dae8efa0",
   "metadata": {},
   "source": [
    "Cluster 0:\n",
    "Ce cluster est axé sur les mots liés à la manipulation du code et des fonctions. Les mots \"like\", \"code\", \"use\", \"function\", \"want\", \"data\", \"way\", \"return\", \"value\" et \"work\" suggèrent que les utilisateurs posent des questions sur l'utilisation de fonctions, la manipulation des données et la recherche de solutions de travail.\n",
    "\n",
    "Cluster 1:\n",
    "Ce cluster est lié à l'importation, aux erreurs et à la manipulation de fichiers dans le contexte du développement de logiciels. Les mots \"import\", \"error\", \"file\", \"return\", \"component\", \"export\", \"react\", \"module\" et \"class\" indiquent que les utilisateurs posent des questions sur l'importation de modules, la gestion des erreurs et la manipulation des fichiers dans le cadre du développement avec React.\n",
    "\n",
    "Cluster 2:\n",
    "Ce cluster est centré sur les mots liés aux erreurs, aux projets et à l'exécution de commandes. Les mots \"file\", \"error\", \"project\", \"run\", \"build\", \"line\", \"version\", \"install\" et \"command\" suggèrent que les utilisateurs posent des questions sur la gestion des erreurs, l'exécution de projets, la construction de programmes et l'installation de logiciels.\n",
    "\n",
    "Cluster 3:\n",
    "Ce cluster est associé à des mots clés liés à la programmation orientée objet. Les mots \"public\", \"class\", \"new\", \"private\", \"void\", \"string\", \"return\", \"static\", \"method\" et \"null\" indiquent que les utilisateurs posent des questions sur les concepts de classes, d'objets, de méthodes et de variables dans la programmation orientée objet."
   ]
  },
  {
   "cell_type": "code",
   "execution_count": 54,
   "id": "ebf6bfae",
   "metadata": {},
   "outputs": [],
   "source": [
    "kmeans_labels = kmeans.labels_\n",
    "# Évaluer les performances du modèle K-means\n",
    "silhouette_score = metrics.silhouette_score(X.toarray(), kmeans_labels)\n",
    "calinski_harabasz_score = metrics.calinski_harabasz_score(X.toarray(), kmeans_labels)\n",
    "davies_bouldin_score = metrics.davies_bouldin_score(X.toarray(), kmeans_labels)"
   ]
  },
  {
   "cell_type": "code",
   "execution_count": 55,
   "id": "fddaa568",
   "metadata": {},
   "outputs": [
    {
     "name": "stdout",
     "output_type": "stream",
     "text": [
      "Scores K-means :\n",
      "Silhouette score : 0.0035867528631406825\n",
      "Calinski-Harabasz score : 599.4805359501959\n",
      "Davies-Bouldin score : 7.799644634682886\n"
     ]
    }
   ],
   "source": [
    "print(\"Scores K-means :\")\n",
    "print(\"Silhouette score :\", silhouette_score)\n",
    "print(\"Calinski-Harabasz score :\", calinski_harabasz_score)\n",
    "print(\"Davies-Bouldin score :\", davies_bouldin_score)"
   ]
  },
  {
   "cell_type": "code",
   "execution_count": 58,
   "id": "042ac191",
   "metadata": {},
   "outputs": [
    {
     "name": "stdout",
     "output_type": "stream",
     "text": [
      "Cluster 1 mots clés :\n",
      "- public\n",
      "- class\n",
      "- new\n",
      "- return\n",
      "- private\n",
      "- string\n",
      "- void\n",
      "- get\n",
      "- null\n",
      "- set\n",
      "\n",
      "Cluster 2 mots clés :\n",
      "- builder\n",
      "- step\n",
      "- version\n",
      "- python\n",
      "- file\n",
      "- line\n",
      "- requirement\n",
      "- warning\n",
      "- parse\n",
      "- starting\n",
      "\n",
      "Cluster 3 mots clés :\n",
      "- code\n",
      "- like\n",
      "- use\n",
      "- get\n",
      "- error\n",
      "- file\n",
      "- would\n",
      "- return\n",
      "- new\n",
      "- work\n",
      "\n",
      "Suggestions de tags :\n",
      "Cluster 1 : ['public', 'class', 'new', 'return', 'private', 'string', 'void', 'get', 'null', 'set']\n",
      "Cluster 2 : ['builder', 'step', 'version', 'python', 'file', 'line', 'requirement', 'warning', 'parse', 'starting']\n",
      "Cluster 3 : ['code', 'like', 'use', 'get', 'error', 'file', 'would', 'return', 'new', 'work']\n"
     ]
    },
    {
     "name": "stderr",
     "output_type": "stream",
     "text": [
      "C:\\Users\\Oliver\\anaconda3\\lib\\site-packages\\sklearn\\utils\\deprecation.py:87: FutureWarning: Function get_feature_names is deprecated; get_feature_names is deprecated in 1.0 and will be removed in 1.2. Please use get_feature_names_out instead.\n",
      "  warnings.warn(msg, category=FutureWarning)\n"
     ]
    }
   ],
   "source": [
    "from sklearn.feature_extraction.text import CountVectorizer\n",
    "\n",
    "# Liste de questions\n",
    "questions = df['Body']\n",
    "\n",
    "# Initialisation du vectoriseur bag-of-words\n",
    "vectorizer = CountVectorizer()\n",
    "\n",
    "# Construction de la matrice de termes-document\n",
    "X = vectorizer.fit_transform(questions)\n",
    "\n",
    "# Application de l'algorithme K-means\n",
    "kmeans = KMeans(n_clusters=4)\n",
    "kmeans.fit(X)\n",
    "\n",
    "# Récupération des mots les plus fréquents dans chaque cluster\n",
    "n_words = 10\n",
    "order_centroids = kmeans.cluster_centers_.argsort()[:, ::-1]\n",
    "terms = vectorizer.get_feature_names()\n",
    "for i in range(3):\n",
    "    print(f\"Cluster {i+1} mots clés :\")\n",
    "    for j in range(n_words):\n",
    "        print(f\"- {terms[order_centroids[i, j]]}\")\n",
    "    print()\n",
    "\n",
    "# Suggestions de tags basées sur les mots clés fréquents dans chaque cluster\n",
    "suggested_tags = []\n",
    "for i in range(3):\n",
    "    tags = [terms[order_centroids[i, j]] for j in range(n_words)]\n",
    "    suggested_tags.append(tags)\n",
    "\n",
    "print(\"Suggestions de tags :\")\n",
    "for i, tags in enumerate(suggested_tags):\n",
    "    print(f\"Cluster {i+1} : {tags}\")"
   ]
  },
  {
   "cell_type": "code",
   "execution_count": 61,
   "id": "52b361d2",
   "metadata": {},
   "outputs": [
    {
     "name": "stdout",
     "output_type": "stream",
     "text": [
      "Cluster 1 mots clés :\n",
      "- public\n",
      "- class\n",
      "- new\n",
      "- return\n",
      "- private\n",
      "- string\n",
      "- void\n",
      "- get\n",
      "- null\n",
      "- set\n",
      "\n",
      "Cluster 2 mots clés :\n",
      "- builder\n",
      "- step\n",
      "- version\n",
      "- python\n",
      "- file\n",
      "- line\n",
      "- requirement\n",
      "- warning\n",
      "- parse\n",
      "- starting\n",
      "\n",
      "Cluster 3 mots clés :\n",
      "- code\n",
      "- like\n",
      "- use\n",
      "- get\n",
      "- error\n",
      "- file\n",
      "- would\n",
      "- return\n",
      "- new\n",
      "- work\n",
      "\n",
      "Cluster 4 mots clés :\n",
      "- file\n",
      "- error\n",
      "- import\n",
      "- line\n",
      "- return\n",
      "- code\n",
      "- function\n",
      "- get\n",
      "- data\n",
      "- run\n",
      "\n",
      "Suggestions de tags :\n",
      "Cluster 1 : ['public', 'class', 'new', 'return', 'private', 'string', 'void', 'get', 'null', 'set']\n",
      "Cluster 2 : ['builder', 'step', 'version', 'python', 'file', 'line', 'requirement', 'warning', 'parse', 'starting']\n",
      "Cluster 3 : ['code', 'like', 'use', 'get', 'error', 'file', 'would', 'return', 'new', 'work']\n",
      "Cluster 4 : ['file', 'error', 'import', 'line', 'return', 'code', 'function', 'get', 'data', 'run']\n"
     ]
    }
   ],
   "source": [
    "for i in range(4):\n",
    "    print(f\"Cluster {i+1} mots clés :\")\n",
    "    for j in range(n_words):\n",
    "        print(f\"- {terms[order_centroids[i, j]]}\")\n",
    "    print()\n",
    "\n",
    "# Suggestions de tags basées sur les mots clés fréquents dans chaque cluster\n",
    "suggested_tags = []\n",
    "for i in range(4):\n",
    "    tags = [terms[order_centroids[i, j]] for j in range(n_words)]\n",
    "    suggested_tags.append(tags)\n",
    "\n",
    "print(\"Suggestions de tags :\")\n",
    "for i, tags in enumerate(suggested_tags):\n",
    "    print(f\"Cluster {i+1} : {tags}\")"
   ]
  },
  {
   "cell_type": "code",
   "execution_count": 64,
   "id": "e26f3444",
   "metadata": {},
   "outputs": [
    {
     "ename": "ModuleNotFoundError",
     "evalue": "No module named 'tensorflow'",
     "output_type": "error",
     "traceback": [
      "\u001b[1;31m---------------------------------------------------------------------------\u001b[0m",
      "\u001b[1;31mModuleNotFoundError\u001b[0m                       Traceback (most recent call last)",
      "\u001b[1;32m~\\AppData\\Local\\Temp\\ipykernel_4460\\1112614695.py\u001b[0m in \u001b[0;36m<module>\u001b[1;34m\u001b[0m\n\u001b[0;32m      4\u001b[0m \u001b[1;32mfrom\u001b[0m \u001b[0msklearn\u001b[0m\u001b[1;33m.\u001b[0m\u001b[0mmetrics\u001b[0m \u001b[1;32mimport\u001b[0m \u001b[0mclassification_report\u001b[0m\u001b[1;33m\u001b[0m\u001b[1;33m\u001b[0m\u001b[0m\n\u001b[0;32m      5\u001b[0m \u001b[1;32mfrom\u001b[0m \u001b[0mtransformers\u001b[0m \u001b[1;32mimport\u001b[0m \u001b[0mBertTokenizer\u001b[0m\u001b[1;33m,\u001b[0m \u001b[0mTFBertModel\u001b[0m\u001b[1;33m\u001b[0m\u001b[1;33m\u001b[0m\u001b[0m\n\u001b[1;32m----> 6\u001b[1;33m \u001b[1;32mfrom\u001b[0m \u001b[0mtensorflow\u001b[0m\u001b[1;33m.\u001b[0m\u001b[0mkeras\u001b[0m\u001b[1;33m.\u001b[0m\u001b[0mlayers\u001b[0m \u001b[1;32mimport\u001b[0m \u001b[0mDense\u001b[0m\u001b[1;33m,\u001b[0m \u001b[0mInput\u001b[0m\u001b[1;33m\u001b[0m\u001b[1;33m\u001b[0m\u001b[0m\n\u001b[0m\u001b[0;32m      7\u001b[0m \u001b[1;32mfrom\u001b[0m \u001b[0mtensorflow\u001b[0m\u001b[1;33m.\u001b[0m\u001b[0mkeras\u001b[0m\u001b[1;33m.\u001b[0m\u001b[0mmodels\u001b[0m \u001b[1;32mimport\u001b[0m \u001b[0mModel\u001b[0m\u001b[1;33m\u001b[0m\u001b[1;33m\u001b[0m\u001b[0m\n\u001b[0;32m      8\u001b[0m \u001b[1;33m\u001b[0m\u001b[0m\n",
      "\u001b[1;31mModuleNotFoundError\u001b[0m: No module named 'tensorflow'"
     ]
    }
   ],
   "source": [
    "import pandas as pd\n",
    "import numpy as np\n",
    "from sklearn.model_selection import train_test_split\n",
    "from sklearn.metrics import classification_report\n",
    "from transformers import BertTokenizer, TFBertModel\n",
    "from tensorflow.keras.layers import Dense, Input\n",
    "from tensorflow.keras.models import Model\n",
    "\n",
    "data = df\n",
    "\n",
    "# Extraction des tags uniques\n",
    "all_tags = set()\n",
    "for tags_list in data['Tags']:\n",
    "    tags = tags_list.strip('<>').split('><')\n",
    "    all_tags.update(tags)\n",
    "\n",
    "# Création de la liste des tags\n",
    "tags = list(all_tags)\n",
    "num_tags = len(tags)\n",
    "\n",
    "# Mapping des tags aux indices\n",
    "tag_to_index = {tag: index for index, tag in enumerate(tags)}\n",
    "\n",
    "# Division des données en ensembles d'entraînement et de test\n",
    "train_data, test_data = train_test_split(data, test_size=0.2, random_state=42)\n",
    "\n",
    "# Chargement du modèle BERT pré-entraîné\n",
    "tokenizer = BertTokenizer.from_pretrained('bert-base-uncased')\n",
    "bert_model = TFBertModel.from_pretrained('bert-base-uncased')\n",
    "\n",
    "# Encodage des données en utilisant BERT\n",
    "train_input = tokenizer.batch_encode_plus(\n",
    "    train_data['Title'].tolist(),\n",
    "    max_length=128,\n",
    "    padding='max_length',\n",
    "    truncation=True,\n",
    "    return_tensors='tf'\n",
    ")\n",
    "test_input = tokenizer.batch_encode_plus(\n",
    "    test_data['Title'].tolist(),\n",
    "    max_length=128,\n",
    "    padding='max_length',\n",
    "    truncation=True,\n",
    "    return_tensors='tf'\n",
    ")\n",
    "\n",
    "# Extraction des embeddings des questions avec BERT\n",
    "train_embeddings = bert_model.predict(train_input['input_ids'])\n",
    "test_embeddings = bert_model.predict(test_input['input_ids'])\n",
    "\n",
    "# Préparation des étiquettes\n",
    "train_labels = np.zeros((len(train_data), num_tags))\n",
    "test_labels = np.zeros((len(test_data), num_tags))\n",
    "\n",
    "for i, tags_list in enumerate(train_data['Tags']):\n",
    "    tags = tags_list.strip('<>').split('><')\n",
    "    for tag in tags:\n",
    "        train_labels[i, tag_to_index[tag]] = 1\n",
    "\n",
    "for i, tags_list in enumerate(test_data['Tags']):\n",
    "    tags = tags_list.strip('<>').split('><')\n",
    "    for tag in tags:\n",
    "        test_labels[i, tag_to_index[tag]] = 1\n",
    "\n",
    "# Création du modèle de classification basé sur un réseau neuronal\n",
    "input_layer = Input(shape=(train_embeddings.shape[1],))\n",
    "output_layer = Dense(num_tags, activation='sigmoid')(input_layer)\n",
    "\n",
    "model = Model(inputs=input_layer, outputs=output_layer)\n",
    "model.compile(loss='binary_crossentropy', optimizer='adam')\n",
    "\n",
    "# Entraînement du modèle\n",
    "model.fit(\n",
    "    train_embeddings,\n",
    "    train_labels,\n",
    "    batch_size=32,\n",
    "    epochs=10,\n",
    "    validation_data=(test_embeddings, test_labels)\n",
    ")\n",
    "\n",
    "# Évaluation du modèle\n",
    "predictions = model.predict(test_embeddings)\n",
    "predicted_labels = (predictions > 0.5).astype(int)\n",
    "report = classification_report(test_labels, predicted_labels, target_names=tags)\n",
    "print(report)"
   ]
  },
  {
   "cell_type": "code",
   "execution_count": null,
   "id": "cb1c4026",
   "metadata": {},
   "outputs": [],
   "source": []
  }
 ],
 "metadata": {
  "kernelspec": {
   "display_name": "Python 3 (ipykernel)",
   "language": "python",
   "name": "python3"
  },
  "language_info": {
   "codemirror_mode": {
    "name": "ipython",
    "version": 3
   },
   "file_extension": ".py",
   "mimetype": "text/x-python",
   "name": "python",
   "nbconvert_exporter": "python",
   "pygments_lexer": "ipython3",
   "version": "3.9.13"
  }
 },
 "nbformat": 4,
 "nbformat_minor": 5
}
