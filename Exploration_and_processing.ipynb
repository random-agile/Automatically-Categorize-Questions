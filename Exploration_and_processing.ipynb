{
 "cells": [
  {
   "cell_type": "markdown",
   "id": "ca3c935a",
   "metadata": {},
   "source": [
    "# OC PROJET 5 - AUTOMATICALLY CATEGORIZE QUESTIONS\n",
    "#### CLEANING AND ANALYSIS NOTEBOOK\n",
    "<br></br>\n",
    "### SOMMAIRE\n",
    "- <a href=\"#C1\">I. Nettoyage des données</a>\n",
    "    \n",
    "- <a href=\"#C2\">II. Feature Engineering</a>\n",
    "\n",
    "- <a href=\"#C3\">III. Preprocessing</a>\n",
    "    \n",
    "- <a href=\"#C4\">IV. Exploration des données</a>\n",
    "    - 1. Matrice des corrélations\n",
    "    - 2. Analyse temporelle\n",
    "    - 3. Analyse Quanti/Quanti\n",
    "    - 4. Analyse Quanti/Quali\n",
    "    - 5. Analyse Quali/Quali\n",
    "    - 6. ACP"
   ]
  },
  {
   "cell_type": "markdown",
   "id": "39dfda8b",
   "metadata": {},
   "source": [
    "# <a name=\"C1\">I. Nettoyage et fusion des données</a>"
   ]
  },
  {
   "cell_type": "markdown",
   "id": "ab079017",
   "metadata": {},
   "source": [
    "<font size=\"5\">1. Importation des librairies</font>"
   ]
  },
  {
   "cell_type": "code",
   "execution_count": 1,
   "id": "91716319",
   "metadata": {},
   "outputs": [],
   "source": [
    "# importation des librairies\n",
    "import os\n",
    "import numpy as np\n",
    "import pandas as pd\n",
    "import matplotlib as mpl\n",
    "from matplotlib import font_manager as rcParams\n",
    "import matplotlib.patheffects as path_effects\n",
    "import matplotlib.pyplot as plt\n",
    "import seaborn as sns\n",
    "import scipy.stats as st\n",
    "from scipy.stats import pearsonr\n",
    "from scipy.stats import f_oneway\n",
    "from sklearn.decomposition import PCA\n",
    "from sklearn.preprocessing import StandardScaler\n",
    "import re\n",
    "import nltk\n",
    "import enchant\n",
    "from nltk.corpus import stopwords\n",
    "from nltk.stem import WordNetLemmatizer\n",
    "from sklearn.feature_extraction.text import CountVectorizer\n",
    "from nltk.tokenize import sent_tokenize, word_tokenize"
   ]
  },
  {
   "cell_type": "markdown",
   "id": "30369397",
   "metadata": {},
   "source": [
    "<font size=\"5\">2. Paramétrages Data Visualisation</font>"
   ]
  },
  {
   "cell_type": "code",
   "execution_count": 2,
   "id": "be6af1e1",
   "metadata": {},
   "outputs": [],
   "source": [
    "# Ajouter une ombre à la police\n",
    "shadow = path_effects.withSimplePatchShadow(offset = (1, - 0.75), \n",
    "shadow_rgbFace = 'darkblue', alpha = 0.25)\n",
    "\n",
    "# changer la police dans les graphiques, les couleurs \n",
    "# et augmenter la résolution d'affichage\n",
    "plt.rcParams['font.family'] = 'Ebrima'\n",
    "plt.rcParams['text.color'] = 'white'\n",
    "plt.rcParams['figure.dpi'] = 200\n",
    "plt.rcParams['savefig.dpi'] = 200\n",
    "plt.style.use('dark_background')\n",
    "\n",
    "# set le theme seaborn\n",
    "sns.set_style('darkgrid', {'axes.facecolor': '0.2',\n",
    "'text.color': 'white', 'figure.figsize': (20, 16)})\n",
    "plt.rcParams['figure.facecolor'] = '0.2'\n",
    "\n",
    "# suppression de l'affichage max des colonnes\n",
    "pd.set_option('display.max_columns', None)"
   ]
  },
  {
   "cell_type": "markdown",
   "id": "8aeeba20",
   "metadata": {},
   "source": [
    "<font size=\"5\">3. Requêtes SQL</font>"
   ]
  },
  {
   "cell_type": "markdown",
   "id": "d0b42234",
   "metadata": {},
   "source": [
    "SELECT TOP 50000 Title, Body, Tags, Id, Score, ViewCount, AnswerCount, CreationDate, LastActivityDate, CommentCount<font size=\"5\">2. Paramétrages Data Visualisation</font>\n",
    "FROM Posts\n",
    "WHERE PostTypeId = 1 \n",
    "  AND ViewCount > 100 \n",
    "  AND Score > 3 \n",
    "  AND AnswerCount > 0 \n",
    "  AND LEN(Tags) - LEN(REPLACE(Tags, '<','')) >= 5 \n",
    "  AND CommentCount > 0\n",
    "ORDER BY Id ASC"
   ]
  },
  {
   "cell_type": "markdown",
   "id": "4c0f72d0",
   "metadata": {},
   "source": [
    "SELECT TOP 50000 Title, Body, Tags, Id, Score, ViewCount, AnswerCount, CreationDate, LastActivityDate, CommentCount\n",
    "FROM Posts\n",
    "WHERE PostTypeId = 1 \n",
    "  AND ViewCount > 100 \n",
    "  AND Score > 3 \n",
    "  AND AnswerCount > 0 \n",
    "  AND LEN(Tags) - LEN(REPLACE(Tags, '<','')) >= 5 \n",
    "  AND CommentCount > 0\n",
    "ORDER BY Id DESC"
   ]
  },
  {
   "cell_type": "markdown",
   "id": "f25dd408",
   "metadata": {},
   "source": [
    "<font size=\"5\">4. Dataframe</font>"
   ]
  },
  {
   "cell_type": "code",
   "execution_count": 3,
   "id": "1022fd26",
   "metadata": {},
   "outputs": [],
   "source": [
    "df1 = pd.read_csv('QueryResultsAsc.csv')\n",
    "df2 = pd.read_csv('QueryResultsDesc.csv')"
   ]
  },
  {
   "cell_type": "code",
   "execution_count": 4,
   "id": "93f500b5",
   "metadata": {},
   "outputs": [
    {
     "data": {
      "text/plain": [
       "(100000, 10)"
      ]
     },
     "execution_count": 4,
     "metadata": {},
     "output_type": "execute_result"
    }
   ],
   "source": [
    "# Fusion des DataFrames df1 et df2 sur la colonne commune\n",
    "df = pd.concat([df1, df2])\n",
    "df.shape"
   ]
  },
  {
   "cell_type": "code",
   "execution_count": 32,
   "id": "ca55c17c",
   "metadata": {},
   "outputs": [
    {
     "data": {
      "text/html": [
       "<div>\n",
       "<style scoped>\n",
       "    .dataframe tbody tr th:only-of-type {\n",
       "        vertical-align: middle;\n",
       "    }\n",
       "\n",
       "    .dataframe tbody tr th {\n",
       "        vertical-align: top;\n",
       "    }\n",
       "\n",
       "    .dataframe thead th {\n",
       "        text-align: right;\n",
       "    }\n",
       "</style>\n",
       "<table border=\"1\" class=\"dataframe\">\n",
       "  <thead>\n",
       "    <tr style=\"text-align: right;\">\n",
       "      <th></th>\n",
       "      <th>Title</th>\n",
       "      <th>Body</th>\n",
       "      <th>Tags</th>\n",
       "      <th>Id</th>\n",
       "      <th>Score</th>\n",
       "      <th>ViewCount</th>\n",
       "      <th>AnswerCount</th>\n",
       "      <th>CreationDate</th>\n",
       "      <th>LastActivityDate</th>\n",
       "      <th>CommentCount</th>\n",
       "    </tr>\n",
       "  </thead>\n",
       "  <tbody>\n",
       "    <tr>\n",
       "      <th>0</th>\n",
       "      <td>How to convert Decimal to Double in C#?</td>\n",
       "      <td>&lt;p&gt;I want to assign the decimal variable &amp;quot;trans&amp;quot; to the double variable &amp;quot;this.Opacity&amp;quot;.&lt;/p&gt;\\n&lt;pre class=\"lang-cs prettyprint-override\"&gt;&lt;code&gt;decimal trans = trackBar1.Value / 5000;\\nthis.Opacity = trans;\\n&lt;/code&gt;&lt;/pre&gt;\\n&lt;p&gt;When I build the app it gives the following error:&lt;/p&gt;\\n&lt;blockquote&gt;\\n&lt;p&gt;Cannot implicitly convert type decimal to double&lt;/p&gt;\\n&lt;/blockquote&gt;\\n</td>\n",
       "      <td>&lt;c#&gt;&lt;floating-point&gt;&lt;type-conversion&gt;&lt;double&gt;&lt;decimal&gt;</td>\n",
       "      <td>4</td>\n",
       "      <td>795</td>\n",
       "      <td>72107</td>\n",
       "      <td>13</td>\n",
       "      <td>2008-07-31 21:42:52</td>\n",
       "      <td>2022-09-08 05:07:26</td>\n",
       "      <td>4</td>\n",
       "    </tr>\n",
       "    <tr>\n",
       "      <th>1</th>\n",
       "      <td>Calculate relative time in C#</td>\n",
       "      <td>&lt;p&gt;Given a specific &lt;code&gt;DateTime&lt;/code&gt; value, how do I display relative time, like:&lt;/p&gt;\\n&lt;ul&gt;\\n&lt;li&gt;&lt;code&gt;2 hours ago&lt;/code&gt;&lt;/li&gt;\\n&lt;li&gt;&lt;code&gt;3 days ago&lt;/code&gt;&lt;/li&gt;\\n&lt;li&gt;&lt;code&gt;a month ago&lt;/code&gt;&lt;/li&gt;\\n&lt;/ul&gt;\\n</td>\n",
       "      <td>&lt;c#&gt;&lt;datetime&gt;&lt;time&gt;&lt;datediff&gt;&lt;relative-time-span&gt;</td>\n",
       "      <td>11</td>\n",
       "      <td>1645</td>\n",
       "      <td>198982</td>\n",
       "      <td>41</td>\n",
       "      <td>2008-07-31 23:55:37</td>\n",
       "      <td>2022-09-05 11:26:30</td>\n",
       "      <td>3</td>\n",
       "    </tr>\n",
       "    <tr>\n",
       "      <th>2</th>\n",
       "      <td>Determine a user's timezone</td>\n",
       "      <td>&lt;p&gt;Is there a standard way for a web server to be able to determine a user's timezone within a web page? &lt;/p&gt;\\n\\n&lt;p&gt;Perhaps from an HTTP header or part of the &lt;code&gt;user-agent&lt;/code&gt; string?&lt;/p&gt;\\n</td>\n",
       "      <td>&lt;html&gt;&lt;browser&gt;&lt;timezone&gt;&lt;user-agent&gt;&lt;timezone-offset&gt;</td>\n",
       "      <td>13</td>\n",
       "      <td>704</td>\n",
       "      <td>285740</td>\n",
       "      <td>27</td>\n",
       "      <td>2008-08-01 00:42:38</td>\n",
       "      <td>2022-03-29 07:31:31</td>\n",
       "      <td>10</td>\n",
       "    </tr>\n",
       "    <tr>\n",
       "      <th>3</th>\n",
       "      <td>What is the fastest way to get the value of π?</td>\n",
       "      <td>&lt;p&gt;I'm looking for the fastest way to obtain the value of π, as a personal challenge. More specifically, I'm using ways that don't involve using &lt;code&gt;#define&lt;/code&gt; constants like &lt;code&gt;M_PI&lt;/code&gt;, or hard-coding the number in.&lt;/p&gt;\\n\\n&lt;p&gt;The program below tests the various ways I know of. The inline assembly version is, in theory, the fastest option, though clearly not portable. I've included it as a baseline to compare against the other versions. In my tests, with built-ins, the &lt;code&gt;4 * atan(1)&lt;/code&gt; version is fastest on GCC 4.2, because it auto-folds the &lt;code&gt;atan(1)&lt;/code&gt; into a constant. With &lt;code&gt;-fno-builtin&lt;/code&gt; specified, the &lt;code&gt;atan2(0, -1)&lt;/code&gt; version is fastest.&lt;/p&gt;\\n\\n&lt;p&gt;Here's the main testing program (&lt;code&gt;pitimes.c&lt;/code&gt;):&lt;/p&gt;\\n\\n&lt;pre class=\"lang-c prettyprint-override\"&gt;&lt;code&gt;#include &amp;lt;math.h&amp;gt;\\n#include &amp;lt;stdio.h&amp;gt;\\n#include &amp;lt;time.h&amp;gt;\\n\\n#define ITERS 10000000\\n#define TESTWITH(x) {                                                       \\\\n    diff = 0.0;                                                             \\\\n    time1 = clock();                                                        \\\\n    for (i = 0; i &amp;lt; ITERS; ++i)                                             \\\\n        diff += (x) - M_PI;                                                 \\\\n    time2 = clock();                                                        \\\\n    printf(\"%s\\t=&amp;gt; %e, time =&amp;gt; %f\\n\", #x, diff, diffclock(time2, time1));   \\\\n}\\n\\nstatic inline double\\ndiffclock(clock_t time1, clock_t time0)\\n{\\n    return (double) (time1 - time0) / CLOCKS_PER_SEC;\\n}\\n\\nint\\nmain()\\n{\\n    int i;\\n    clock_t time1, time2;\\n    double diff;\\n\\n    /* Warmup. The atan2 case catches GCC's atan folding (which would\\n     * optimise the ``4 * atan(1) - M_PI'' to a no-op), if -fno-builtin\\n     * is not used. */\\n    TESTWITH(4 * atan(1))\\n    TESTWITH(4 * atan2(1, 1))\\n\\n#if defined(__GNUC__) &amp;amp;&amp;amp; (defined(__i386__) || defined(__amd64__))\\n    extern double fldpi();\\n    TESTWITH(fldpi())\\n#endif\\n\\n    /* Actual tests start here. */\\n    TESTWITH(atan2(0, -1))\\n    TESTWITH(acos(-1))\\n    TESTWITH(2 * asin(1))\\n    TESTWITH(4 * atan2(1, 1))\\n    TESTWITH(4 * atan(1))\\n\\n    return 0;\\n}\\n&lt;/code&gt;&lt;/pre&gt;\\n\\n&lt;p&gt;And the inline assembly stuff (&lt;code&gt;fldpi.c&lt;/code&gt;) that will only work for x86 and x64 systems:&lt;/p&gt;\\n\\n&lt;pre class=\"lang-c prettyprint-override\"&gt;&lt;code&gt;double\\nfldpi()\\n{\\n    double pi;\\n    asm(\"fldpi\" : \"=t\" (pi));\\n    return pi;\\n}\\n&lt;/code&gt;&lt;/pre&gt;\\n\\n&lt;p&gt;And a build script that builds all the configurations I'm testing (&lt;code&gt;build.sh&lt;/code&gt;):&lt;/p&gt;\\n\\n&lt;pre&gt;&lt;code&gt;#!/bin/sh\\ngcc -O3 -Wall -c           -m32 -o fldpi-32.o fldpi.c\\ngcc -O3 -Wall -c           -m64 -o fldpi-64.o fldpi.c\\n\\ngcc -O3 -Wall -ffast-math  -m32 -o pitimes1-32 pitimes.c fldpi-32.o\\ngcc -O3 -Wall              -m32 -o pitimes2-32 pitimes.c fldpi-32.o -lm\\ngcc -O3 -Wall -fno-builtin -m32 -o pitimes3-32 pitimes.c fldpi-32.o -lm\\ngcc -O3 -Wall -ffast-math  -m64 -o pitimes1-64 pitimes.c fldpi-64.o -lm\\ngcc -O3 -Wall              -m64 -o pitimes2-64 pitimes.c fldpi-64.o -lm\\ngcc -O3 -Wall -fno-builtin -m64 -o pitimes3-64 pitimes.c fldpi-64.o -lm\\n&lt;/code&gt;&lt;/pre&gt;\\n\\n&lt;p&gt;Apart from testing between various compiler flags (I've compared 32-bit against 64-bit too because the optimizations are different), I've also tried switching the order of the tests around. But still, the &lt;code&gt;atan2(0, -1)&lt;/code&gt; version still comes out on top every time.&lt;/p&gt;\\n</td>\n",
       "      <td>&lt;performance&gt;&lt;algorithm&gt;&lt;language-agnostic&gt;&lt;unix&gt;&lt;pi&gt;</td>\n",
       "      <td>19</td>\n",
       "      <td>351</td>\n",
       "      <td>68134</td>\n",
       "      <td>23</td>\n",
       "      <td>2008-08-01 05:21:22</td>\n",
       "      <td>2023-03-27 07:55:50</td>\n",
       "      <td>17</td>\n",
       "    </tr>\n",
       "    <tr>\n",
       "      <th>4</th>\n",
       "      <td>How to use the C socket API in C++ on z/OS</td>\n",
       "      <td>&lt;p&gt;I'm having issues getting the C sockets API to work properly in C++ on z/OS.&lt;/p&gt;\\n&lt;p&gt;Although I am including &lt;code&gt;sys/socket.h&lt;/code&gt;, I still get compile time errors telling me that &lt;code&gt;AF_INET&lt;/code&gt; is not defined.&lt;/p&gt;\\n&lt;p&gt;Am I missing something obvious, or is this related to the fact that being on z/OS makes my problems much more complicated?&lt;/p&gt;\\n&lt;p&gt;I discovered that there is a &lt;code&gt;#ifdef&lt;/code&gt; that I'm hitting. Apparently, z/OS isn't happy unless I define which &amp;quot;type&amp;quot; of sockets I'm using with:&lt;/p&gt;\\n&lt;pre&gt;&lt;code&gt;#define _OE_SOCKETS\\n&lt;/code&gt;&lt;/pre&gt;\\n&lt;p&gt;Now, I personally have no idea what this &lt;code&gt;_OE_SOCKETS&lt;/code&gt; is actually for, so if any z/OS sockets programmers are out there (all 3 of you), perhaps you could give me a rundown of how this all works?&lt;/p&gt;\\n&lt;p&gt;Test App:&lt;/p&gt;\\n&lt;pre&gt;&lt;code&gt;#include &amp;lt;sys/socket.h&amp;gt;\\n\\nint main()\\n{\\n    return AF_INET;\\n}\\n&lt;/code&gt;&lt;/pre&gt;\\n&lt;p&gt;Compile/Link Output:&lt;/p&gt;\\n&lt;pre class=\"lang-none prettyprint-override\"&gt;&lt;code&gt;cxx -Wc,xplink -Wl,xplink -o inet_test inet.C\\n\\n&amp;quot;./inet.C&amp;quot;, line 5.16: CCN5274 (S) The name lookup for &amp;quot;AF_INET&amp;quot; did not find a declaration.\\nCCN0797(I) Compilation failed for file ./inet.C. Object file not created.\\n&lt;/code&gt;&lt;/pre&gt;\\n&lt;p&gt;A check of sys/sockets.h does include the definition I need, and as far as I can tell, it is not being blocked by any &lt;code&gt;#ifdef&lt;/code&gt; statements.&lt;/p&gt;\\n&lt;p&gt;I have however noticed it contains the following:&lt;/p&gt;\\n&lt;pre&gt;&lt;code&gt;#ifdef __cplusplus\\n  extern &amp;quot;C&amp;quot; {\\n#endif\\n&lt;/code&gt;&lt;/pre&gt;\\n&lt;p&gt;which encapsulates basically the whole file? Not sure if it matters.&lt;/p&gt;\\n</td>\n",
       "      <td>&lt;c++&gt;&lt;c&gt;&lt;sockets&gt;&lt;mainframe&gt;&lt;zos&gt;</td>\n",
       "      <td>25</td>\n",
       "      <td>175</td>\n",
       "      <td>15977</td>\n",
       "      <td>9</td>\n",
       "      <td>2008-08-01 12:13:50</td>\n",
       "      <td>2023-06-01 11:20:00</td>\n",
       "      <td>1</td>\n",
       "    </tr>\n",
       "  </tbody>\n",
       "</table>\n",
       "</div>"
      ],
      "text/plain": [
       "                                            Title  \\\n",
       "0         How to convert Decimal to Double in C#?   \n",
       "1                   Calculate relative time in C#   \n",
       "2                     Determine a user's timezone   \n",
       "3  What is the fastest way to get the value of π?   \n",
       "4      How to use the C socket API in C++ on z/OS   \n",
       "\n",
       "                                                                                                                                                                                                                                                                                                                                                                                                                                                                                                                                                                                                                                                                                                                                                                                                                                                                                                                                                                                                                                                                                                                                                                                                                                                                                                                                                                                                                                                                                                                                                                                                                                                                                                                                                                                                                                                                                                                                                                                                                                                                                                                                                                                                                                                                                                                                                                                                                                                                                                                                                                                                                                                                                                                                                                                                                                                                                                                                                                                                                                                                                                                                                                                                                                                                                                                                                                                                                                                                                                                                                                                                                                   Body  \\\n",
       "0                                                                                                                                                                                                                                                                                                                                                                                                                                                                                                                                                                                                                                                                                                                                                                                                                                                                                                                                                                                                                                                                                                                                                                                                                                                                                                                                                                                                                                                                                                                                                                                                                                                                                                                                                                                                                                                                                                                                                                                                                                                                                                                                                                                                                                                                                                                                                                                                                                                                                                                                                                                                                                                                                                                                                                                                                                                                                                                                                                                                                                                                                                                                                                                                                                     <p>I want to assign the decimal variable &quot;trans&quot; to the double variable &quot;this.Opacity&quot;.</p>\\n<pre class=\"lang-cs prettyprint-override\"><code>decimal trans = trackBar1.Value / 5000;\\nthis.Opacity = trans;\\n</code></pre>\\n<p>When I build the app it gives the following error:</p>\\n<blockquote>\\n<p>Cannot implicitly convert type decimal to double</p>\\n</blockquote>\\n   \n",
       "1                                                                                                                                                                                                                                                                                                                                                                                                                                                                                                                                                                                                                                                                                                                                                                                                                                                                                                                                                                                                                                                                                                                                                                                                                                                                                                                                                                                                                                                                                                                                                                                                                                                                                                                                                                                                                                                                                                                                                                                                                                                                                                                                                                                                                                                                                                                                                                                                                                                                                                                                                                                                                                                                                                                                                                                                                                                                                                                                                                                                                                                                                                                                                                                                                                                                                                                                                                                                                     <p>Given a specific <code>DateTime</code> value, how do I display relative time, like:</p>\\n<ul>\\n<li><code>2 hours ago</code></li>\\n<li><code>3 days ago</code></li>\\n<li><code>a month ago</code></li>\\n</ul>\\n   \n",
       "2                                                                                                                                                                                                                                                                                                                                                                                                                                                                                                                                                                                                                                                                                                                                                                                                                                                                                                                                                                                                                                                                                                                                                                                                                                                                                                                                                                                                                                                                                                                                                                                                                                                                                                                                                                                                                                                                                                                                                                                                                                                                                                                                                                                                                                                                                                                                                                                                                                                                                                                                                                                                                                                                                                                                                                                                                                                                                                                                                                                                                                                                                                                                                                                                                                                                                                                                                                                                                                  <p>Is there a standard way for a web server to be able to determine a user's timezone within a web page? </p>\\n\\n<p>Perhaps from an HTTP header or part of the <code>user-agent</code> string?</p>\\n   \n",
       "3  <p>I'm looking for the fastest way to obtain the value of π, as a personal challenge. More specifically, I'm using ways that don't involve using <code>#define</code> constants like <code>M_PI</code>, or hard-coding the number in.</p>\\n\\n<p>The program below tests the various ways I know of. The inline assembly version is, in theory, the fastest option, though clearly not portable. I've included it as a baseline to compare against the other versions. In my tests, with built-ins, the <code>4 * atan(1)</code> version is fastest on GCC 4.2, because it auto-folds the <code>atan(1)</code> into a constant. With <code>-fno-builtin</code> specified, the <code>atan2(0, -1)</code> version is fastest.</p>\\n\\n<p>Here's the main testing program (<code>pitimes.c</code>):</p>\\n\\n<pre class=\"lang-c prettyprint-override\"><code>#include &lt;math.h&gt;\\n#include &lt;stdio.h&gt;\\n#include &lt;time.h&gt;\\n\\n#define ITERS 10000000\\n#define TESTWITH(x) {                                                       \\\\n    diff = 0.0;                                                             \\\\n    time1 = clock();                                                        \\\\n    for (i = 0; i &lt; ITERS; ++i)                                             \\\\n        diff += (x) - M_PI;                                                 \\\\n    time2 = clock();                                                        \\\\n    printf(\"%s\\t=&gt; %e, time =&gt; %f\\n\", #x, diff, diffclock(time2, time1));   \\\\n}\\n\\nstatic inline double\\ndiffclock(clock_t time1, clock_t time0)\\n{\\n    return (double) (time1 - time0) / CLOCKS_PER_SEC;\\n}\\n\\nint\\nmain()\\n{\\n    int i;\\n    clock_t time1, time2;\\n    double diff;\\n\\n    /* Warmup. The atan2 case catches GCC's atan folding (which would\\n     * optimise the ``4 * atan(1) - M_PI'' to a no-op), if -fno-builtin\\n     * is not used. */\\n    TESTWITH(4 * atan(1))\\n    TESTWITH(4 * atan2(1, 1))\\n\\n#if defined(__GNUC__) &amp;&amp; (defined(__i386__) || defined(__amd64__))\\n    extern double fldpi();\\n    TESTWITH(fldpi())\\n#endif\\n\\n    /* Actual tests start here. */\\n    TESTWITH(atan2(0, -1))\\n    TESTWITH(acos(-1))\\n    TESTWITH(2 * asin(1))\\n    TESTWITH(4 * atan2(1, 1))\\n    TESTWITH(4 * atan(1))\\n\\n    return 0;\\n}\\n</code></pre>\\n\\n<p>And the inline assembly stuff (<code>fldpi.c</code>) that will only work for x86 and x64 systems:</p>\\n\\n<pre class=\"lang-c prettyprint-override\"><code>double\\nfldpi()\\n{\\n    double pi;\\n    asm(\"fldpi\" : \"=t\" (pi));\\n    return pi;\\n}\\n</code></pre>\\n\\n<p>And a build script that builds all the configurations I'm testing (<code>build.sh</code>):</p>\\n\\n<pre><code>#!/bin/sh\\ngcc -O3 -Wall -c           -m32 -o fldpi-32.o fldpi.c\\ngcc -O3 -Wall -c           -m64 -o fldpi-64.o fldpi.c\\n\\ngcc -O3 -Wall -ffast-math  -m32 -o pitimes1-32 pitimes.c fldpi-32.o\\ngcc -O3 -Wall              -m32 -o pitimes2-32 pitimes.c fldpi-32.o -lm\\ngcc -O3 -Wall -fno-builtin -m32 -o pitimes3-32 pitimes.c fldpi-32.o -lm\\ngcc -O3 -Wall -ffast-math  -m64 -o pitimes1-64 pitimes.c fldpi-64.o -lm\\ngcc -O3 -Wall              -m64 -o pitimes2-64 pitimes.c fldpi-64.o -lm\\ngcc -O3 -Wall -fno-builtin -m64 -o pitimes3-64 pitimes.c fldpi-64.o -lm\\n</code></pre>\\n\\n<p>Apart from testing between various compiler flags (I've compared 32-bit against 64-bit too because the optimizations are different), I've also tried switching the order of the tests around. But still, the <code>atan2(0, -1)</code> version still comes out on top every time.</p>\\n   \n",
       "4                                                                                                                                                                                                                                                                                                                                                                                                                                                                                                                                                                                                                                                                                                                                                                                                                                                                                                                                                                                                                                                                                                                                                                                                                                                                                                                                                                                                                                                                                                                                                                                                                                                                                                                                                                                                                                                                                                                                                         <p>I'm having issues getting the C sockets API to work properly in C++ on z/OS.</p>\\n<p>Although I am including <code>sys/socket.h</code>, I still get compile time errors telling me that <code>AF_INET</code> is not defined.</p>\\n<p>Am I missing something obvious, or is this related to the fact that being on z/OS makes my problems much more complicated?</p>\\n<p>I discovered that there is a <code>#ifdef</code> that I'm hitting. Apparently, z/OS isn't happy unless I define which &quot;type&quot; of sockets I'm using with:</p>\\n<pre><code>#define _OE_SOCKETS\\n</code></pre>\\n<p>Now, I personally have no idea what this <code>_OE_SOCKETS</code> is actually for, so if any z/OS sockets programmers are out there (all 3 of you), perhaps you could give me a rundown of how this all works?</p>\\n<p>Test App:</p>\\n<pre><code>#include &lt;sys/socket.h&gt;\\n\\nint main()\\n{\\n    return AF_INET;\\n}\\n</code></pre>\\n<p>Compile/Link Output:</p>\\n<pre class=\"lang-none prettyprint-override\"><code>cxx -Wc,xplink -Wl,xplink -o inet_test inet.C\\n\\n&quot;./inet.C&quot;, line 5.16: CCN5274 (S) The name lookup for &quot;AF_INET&quot; did not find a declaration.\\nCCN0797(I) Compilation failed for file ./inet.C. Object file not created.\\n</code></pre>\\n<p>A check of sys/sockets.h does include the definition I need, and as far as I can tell, it is not being blocked by any <code>#ifdef</code> statements.</p>\\n<p>I have however noticed it contains the following:</p>\\n<pre><code>#ifdef __cplusplus\\n  extern &quot;C&quot; {\\n#endif\\n</code></pre>\\n<p>which encapsulates basically the whole file? Not sure if it matters.</p>\\n   \n",
       "\n",
       "                                                     Tags  Id  Score  \\\n",
       "0  <c#><floating-point><type-conversion><double><decimal>   4    795   \n",
       "1      <c#><datetime><time><datediff><relative-time-span>  11   1645   \n",
       "2  <html><browser><timezone><user-agent><timezone-offset>  13    704   \n",
       "3   <performance><algorithm><language-agnostic><unix><pi>  19    351   \n",
       "4                       <c++><c><sockets><mainframe><zos>  25    175   \n",
       "\n",
       "   ViewCount  AnswerCount         CreationDate     LastActivityDate  \\\n",
       "0      72107           13  2008-07-31 21:42:52  2022-09-08 05:07:26   \n",
       "1     198982           41  2008-07-31 23:55:37  2022-09-05 11:26:30   \n",
       "2     285740           27  2008-08-01 00:42:38  2022-03-29 07:31:31   \n",
       "3      68134           23  2008-08-01 05:21:22  2023-03-27 07:55:50   \n",
       "4      15977            9  2008-08-01 12:13:50  2023-06-01 11:20:00   \n",
       "\n",
       "   CommentCount  \n",
       "0             4  \n",
       "1             3  \n",
       "2            10  \n",
       "3            17  \n",
       "4             1  "
      ]
     },
     "execution_count": 32,
     "metadata": {},
     "output_type": "execute_result"
    }
   ],
   "source": [
    "df.head()"
   ]
  },
  {
   "cell_type": "code",
   "execution_count": 15,
   "id": "bd1be964",
   "metadata": {},
   "outputs": [
    {
     "data": {
      "text/plain": [
       "Title               0\n",
       "Body                0\n",
       "Tags                0\n",
       "Id                  0\n",
       "Score               0\n",
       "ViewCount           0\n",
       "AnswerCount         0\n",
       "CreationDate        0\n",
       "LastActivityDate    0\n",
       "CommentCount        0\n",
       "dtype: int64"
      ]
     },
     "execution_count": 15,
     "metadata": {},
     "output_type": "execute_result"
    }
   ],
   "source": [
    "df.isnull().sum()"
   ]
  },
  {
   "cell_type": "code",
   "execution_count": 16,
   "id": "09af46cd",
   "metadata": {},
   "outputs": [
    {
     "data": {
      "text/html": [
       "<div>\n",
       "<style scoped>\n",
       "    .dataframe tbody tr th:only-of-type {\n",
       "        vertical-align: middle;\n",
       "    }\n",
       "\n",
       "    .dataframe tbody tr th {\n",
       "        vertical-align: top;\n",
       "    }\n",
       "\n",
       "    .dataframe thead th {\n",
       "        text-align: right;\n",
       "    }\n",
       "</style>\n",
       "<table border=\"1\" class=\"dataframe\">\n",
       "  <thead>\n",
       "    <tr style=\"text-align: right;\">\n",
       "      <th></th>\n",
       "      <th>Title</th>\n",
       "      <th>Body</th>\n",
       "      <th>Tags</th>\n",
       "      <th>Id</th>\n",
       "      <th>Score</th>\n",
       "      <th>ViewCount</th>\n",
       "      <th>AnswerCount</th>\n",
       "      <th>CreationDate</th>\n",
       "      <th>LastActivityDate</th>\n",
       "      <th>CommentCount</th>\n",
       "    </tr>\n",
       "  </thead>\n",
       "  <tbody>\n",
       "  </tbody>\n",
       "</table>\n",
       "</div>"
      ],
      "text/plain": [
       "Empty DataFrame\n",
       "Columns: [Title, Body, Tags, Id, Score, ViewCount, AnswerCount, CreationDate, LastActivityDate, CommentCount]\n",
       "Index: []"
      ]
     },
     "execution_count": 16,
     "metadata": {},
     "output_type": "execute_result"
    }
   ],
   "source": [
    "df.loc[df.duplicated(keep = False),:]"
   ]
  },
  {
   "cell_type": "code",
   "execution_count": 17,
   "id": "b6190da7",
   "metadata": {},
   "outputs": [
    {
     "data": {
      "text/plain": [
       "Title               object\n",
       "Body                object\n",
       "Tags                object\n",
       "Id                   int64\n",
       "Score                int64\n",
       "ViewCount            int64\n",
       "AnswerCount          int64\n",
       "CreationDate        object\n",
       "LastActivityDate    object\n",
       "CommentCount         int64\n",
       "dtype: object"
      ]
     },
     "execution_count": 17,
     "metadata": {},
     "output_type": "execute_result"
    }
   ],
   "source": [
    "df.dtypes"
   ]
  },
  {
   "cell_type": "code",
   "execution_count": 18,
   "id": "1fb7f830",
   "metadata": {},
   "outputs": [
    {
     "data": {
      "text/html": [
       "<div>\n",
       "<style scoped>\n",
       "    .dataframe tbody tr th:only-of-type {\n",
       "        vertical-align: middle;\n",
       "    }\n",
       "\n",
       "    .dataframe tbody tr th {\n",
       "        vertical-align: top;\n",
       "    }\n",
       "\n",
       "    .dataframe thead th {\n",
       "        text-align: right;\n",
       "    }\n",
       "</style>\n",
       "<table border=\"1\" class=\"dataframe\">\n",
       "  <thead>\n",
       "    <tr style=\"text-align: right;\">\n",
       "      <th></th>\n",
       "      <th>Id</th>\n",
       "      <th>Score</th>\n",
       "      <th>ViewCount</th>\n",
       "      <th>AnswerCount</th>\n",
       "      <th>CommentCount</th>\n",
       "    </tr>\n",
       "  </thead>\n",
       "  <tbody>\n",
       "    <tr>\n",
       "      <th>count</th>\n",
       "      <td>1.000000e+05</td>\n",
       "      <td>100000.000000</td>\n",
       "      <td>1.000000e+05</td>\n",
       "      <td>100000.000000</td>\n",
       "      <td>100000.00000</td>\n",
       "    </tr>\n",
       "    <tr>\n",
       "      <th>mean</th>\n",
       "      <td>3.140196e+07</td>\n",
       "      <td>24.862830</td>\n",
       "      <td>2.314290e+04</td>\n",
       "      <td>3.326830</td>\n",
       "      <td>3.57137</td>\n",
       "    </tr>\n",
       "    <tr>\n",
       "      <th>std</th>\n",
       "      <td>2.647337e+07</td>\n",
       "      <td>172.320926</td>\n",
       "      <td>1.223877e+05</td>\n",
       "      <td>3.746832</td>\n",
       "      <td>3.23915</td>\n",
       "    </tr>\n",
       "    <tr>\n",
       "      <th>min</th>\n",
       "      <td>4.000000e+00</td>\n",
       "      <td>4.000000</td>\n",
       "      <td>1.010000e+02</td>\n",
       "      <td>1.000000</td>\n",
       "      <td>1.00000</td>\n",
       "    </tr>\n",
       "    <tr>\n",
       "      <th>25%</th>\n",
       "      <td>5.628995e+06</td>\n",
       "      <td>5.000000</td>\n",
       "      <td>1.734000e+03</td>\n",
       "      <td>1.000000</td>\n",
       "      <td>1.00000</td>\n",
       "    </tr>\n",
       "    <tr>\n",
       "      <th>50%</th>\n",
       "      <td>2.863875e+07</td>\n",
       "      <td>7.000000</td>\n",
       "      <td>4.754000e+03</td>\n",
       "      <td>2.000000</td>\n",
       "      <td>3.00000</td>\n",
       "    </tr>\n",
       "    <tr>\n",
       "      <th>75%</th>\n",
       "      <td>5.611157e+07</td>\n",
       "      <td>13.000000</td>\n",
       "      <td>1.338200e+04</td>\n",
       "      <td>4.000000</td>\n",
       "      <td>5.00000</td>\n",
       "    </tr>\n",
       "    <tr>\n",
       "      <th>max</th>\n",
       "      <td>7.639181e+07</td>\n",
       "      <td>25651.000000</td>\n",
       "      <td>1.278321e+07</td>\n",
       "      <td>134.000000</td>\n",
       "      <td>51.00000</td>\n",
       "    </tr>\n",
       "  </tbody>\n",
       "</table>\n",
       "</div>"
      ],
      "text/plain": [
       "                 Id          Score     ViewCount    AnswerCount  CommentCount\n",
       "count  1.000000e+05  100000.000000  1.000000e+05  100000.000000  100000.00000\n",
       "mean   3.140196e+07      24.862830  2.314290e+04       3.326830       3.57137\n",
       "std    2.647337e+07     172.320926  1.223877e+05       3.746832       3.23915\n",
       "min    4.000000e+00       4.000000  1.010000e+02       1.000000       1.00000\n",
       "25%    5.628995e+06       5.000000  1.734000e+03       1.000000       1.00000\n",
       "50%    2.863875e+07       7.000000  4.754000e+03       2.000000       3.00000\n",
       "75%    5.611157e+07      13.000000  1.338200e+04       4.000000       5.00000\n",
       "max    7.639181e+07   25651.000000  1.278321e+07     134.000000      51.00000"
      ]
     },
     "execution_count": 18,
     "metadata": {},
     "output_type": "execute_result"
    }
   ],
   "source": [
    "df.describe()"
   ]
  },
  {
   "cell_type": "code",
   "execution_count": 33,
   "id": "f4b2917b",
   "metadata": {},
   "outputs": [
    {
     "data": {
      "text/plain": [
       "0                                                                                                                                                                                                                                                                                                                                                                                                                                                                                                                                                                                                                                                                                                                                                                                                                                                                                                                                                                                                                                                                                                                                                                                                                                                                                                                                                                                                                                                                                                                                                                                                                                                                                                                                                                                                                                                                                                                                                                                                                                                                                                                                                                                                                                                                                                                                                                                                                                                                                                                                                                                                                                                                                                                                                                                                                                                                                                                                                                                                                                                                                                                                                                                                                                       <p>I want to assign the decimal variable &quot;trans&quot; to the double variable &quot;this.Opacity&quot;.</p>\\n<pre class=\"lang-cs prettyprint-override\"><code>decimal trans = trackBar1.Value / 5000;\\nthis.Opacity = trans;\\n</code></pre>\\n<p>When I build the app it gives the following error:</p>\\n<blockquote>\\n<p>Cannot implicitly convert type decimal to double</p>\\n</blockquote>\\n\n",
       "1                                                                                                                                                                                                                                                                                                                                                                                                                                                                                                                                                                                                                                                                                                                                                                                                                                                                                                                                                                                                                                                                                                                                                                                                                                                                                                                                                                                                                                                                                                                                                                                                                                                                                                                                                                                                                                                                                                                                                                                                                                                                                                                                                                                                                                                                                                                                                                                                                                                                                                                                                                                                                                                                                                                                                                                                                                                                                                                                                                                                                                                                                                                                                                                                                                                                                                                                                                                                                       <p>Given a specific <code>DateTime</code> value, how do I display relative time, like:</p>\\n<ul>\\n<li><code>2 hours ago</code></li>\\n<li><code>3 days ago</code></li>\\n<li><code>a month ago</code></li>\\n</ul>\\n\n",
       "2                                                                                                                                                                                                                                                                                                                                                                                                                                                                                                                                                                                                                                                                                                                                                                                                                                                                                                                                                                                                                                                                                                                                                                                                                                                                                                                                                                                                                                                                                                                                                                                                                                                                                                                                                                                                                                                                                                                                                                                                                                                                                                                                                                                                                                                                                                                                                                                                                                                                                                                                                                                                                                                                                                                                                                                                                                                                                                                                                                                                                                                                                                                                                                                                                                                                                                                                                                                                                                    <p>Is there a standard way for a web server to be able to determine a user's timezone within a web page? </p>\\n\\n<p>Perhaps from an HTTP header or part of the <code>user-agent</code> string?</p>\\n\n",
       "3    <p>I'm looking for the fastest way to obtain the value of π, as a personal challenge. More specifically, I'm using ways that don't involve using <code>#define</code> constants like <code>M_PI</code>, or hard-coding the number in.</p>\\n\\n<p>The program below tests the various ways I know of. The inline assembly version is, in theory, the fastest option, though clearly not portable. I've included it as a baseline to compare against the other versions. In my tests, with built-ins, the <code>4 * atan(1)</code> version is fastest on GCC 4.2, because it auto-folds the <code>atan(1)</code> into a constant. With <code>-fno-builtin</code> specified, the <code>atan2(0, -1)</code> version is fastest.</p>\\n\\n<p>Here's the main testing program (<code>pitimes.c</code>):</p>\\n\\n<pre class=\"lang-c prettyprint-override\"><code>#include &lt;math.h&gt;\\n#include &lt;stdio.h&gt;\\n#include &lt;time.h&gt;\\n\\n#define ITERS 10000000\\n#define TESTWITH(x) {                                                       \\\\n    diff = 0.0;                                                             \\\\n    time1 = clock();                                                        \\\\n    for (i = 0; i &lt; ITERS; ++i)                                             \\\\n        diff += (x) - M_PI;                                                 \\\\n    time2 = clock();                                                        \\\\n    printf(\"%s\\t=&gt; %e, time =&gt; %f\\n\", #x, diff, diffclock(time2, time1));   \\\\n}\\n\\nstatic inline double\\ndiffclock(clock_t time1, clock_t time0)\\n{\\n    return (double) (time1 - time0) / CLOCKS_PER_SEC;\\n}\\n\\nint\\nmain()\\n{\\n    int i;\\n    clock_t time1, time2;\\n    double diff;\\n\\n    /* Warmup. The atan2 case catches GCC's atan folding (which would\\n     * optimise the ``4 * atan(1) - M_PI'' to a no-op), if -fno-builtin\\n     * is not used. */\\n    TESTWITH(4 * atan(1))\\n    TESTWITH(4 * atan2(1, 1))\\n\\n#if defined(__GNUC__) &amp;&amp; (defined(__i386__) || defined(__amd64__))\\n    extern double fldpi();\\n    TESTWITH(fldpi())\\n#endif\\n\\n    /* Actual tests start here. */\\n    TESTWITH(atan2(0, -1))\\n    TESTWITH(acos(-1))\\n    TESTWITH(2 * asin(1))\\n    TESTWITH(4 * atan2(1, 1))\\n    TESTWITH(4 * atan(1))\\n\\n    return 0;\\n}\\n</code></pre>\\n\\n<p>And the inline assembly stuff (<code>fldpi.c</code>) that will only work for x86 and x64 systems:</p>\\n\\n<pre class=\"lang-c prettyprint-override\"><code>double\\nfldpi()\\n{\\n    double pi;\\n    asm(\"fldpi\" : \"=t\" (pi));\\n    return pi;\\n}\\n</code></pre>\\n\\n<p>And a build script that builds all the configurations I'm testing (<code>build.sh</code>):</p>\\n\\n<pre><code>#!/bin/sh\\ngcc -O3 -Wall -c           -m32 -o fldpi-32.o fldpi.c\\ngcc -O3 -Wall -c           -m64 -o fldpi-64.o fldpi.c\\n\\ngcc -O3 -Wall -ffast-math  -m32 -o pitimes1-32 pitimes.c fldpi-32.o\\ngcc -O3 -Wall              -m32 -o pitimes2-32 pitimes.c fldpi-32.o -lm\\ngcc -O3 -Wall -fno-builtin -m32 -o pitimes3-32 pitimes.c fldpi-32.o -lm\\ngcc -O3 -Wall -ffast-math  -m64 -o pitimes1-64 pitimes.c fldpi-64.o -lm\\ngcc -O3 -Wall              -m64 -o pitimes2-64 pitimes.c fldpi-64.o -lm\\ngcc -O3 -Wall -fno-builtin -m64 -o pitimes3-64 pitimes.c fldpi-64.o -lm\\n</code></pre>\\n\\n<p>Apart from testing between various compiler flags (I've compared 32-bit against 64-bit too because the optimizations are different), I've also tried switching the order of the tests around. But still, the <code>atan2(0, -1)</code> version still comes out on top every time.</p>\\n\n",
       "4                                                                                                                                                                                                                                                                                                                                                                                                                                                                                                                                                                                                                                                                                                                                                                                                                                                                                                                                                                                                                                                                                                                                                                                                                                                                                                                                                                                                                                                                                                                                                                                                                                                                                                                                                                                                                                                                                                                                                           <p>I'm having issues getting the C sockets API to work properly in C++ on z/OS.</p>\\n<p>Although I am including <code>sys/socket.h</code>, I still get compile time errors telling me that <code>AF_INET</code> is not defined.</p>\\n<p>Am I missing something obvious, or is this related to the fact that being on z/OS makes my problems much more complicated?</p>\\n<p>I discovered that there is a <code>#ifdef</code> that I'm hitting. Apparently, z/OS isn't happy unless I define which &quot;type&quot; of sockets I'm using with:</p>\\n<pre><code>#define _OE_SOCKETS\\n</code></pre>\\n<p>Now, I personally have no idea what this <code>_OE_SOCKETS</code> is actually for, so if any z/OS sockets programmers are out there (all 3 of you), perhaps you could give me a rundown of how this all works?</p>\\n<p>Test App:</p>\\n<pre><code>#include &lt;sys/socket.h&gt;\\n\\nint main()\\n{\\n    return AF_INET;\\n}\\n</code></pre>\\n<p>Compile/Link Output:</p>\\n<pre class=\"lang-none prettyprint-override\"><code>cxx -Wc,xplink -Wl,xplink -o inet_test inet.C\\n\\n&quot;./inet.C&quot;, line 5.16: CCN5274 (S) The name lookup for &quot;AF_INET&quot; did not find a declaration.\\nCCN0797(I) Compilation failed for file ./inet.C. Object file not created.\\n</code></pre>\\n<p>A check of sys/sockets.h does include the definition I need, and as far as I can tell, it is not being blocked by any <code>#ifdef</code> statements.</p>\\n<p>I have however noticed it contains the following:</p>\\n<pre><code>#ifdef __cplusplus\\n  extern &quot;C&quot; {\\n#endif\\n</code></pre>\\n<p>which encapsulates basically the whole file? Not sure if it matters.</p>\\n\n",
       "Name: Body, dtype: object"
      ]
     },
     "execution_count": 33,
     "metadata": {},
     "output_type": "execute_result"
    }
   ],
   "source": [
    "df['Body'].head()"
   ]
  },
  {
   "cell_type": "code",
   "execution_count": 5,
   "id": "04bd4447",
   "metadata": {},
   "outputs": [],
   "source": [
    "def preprocess_text(text):\n",
    "    # Supprimer les balises HTML\n",
    "    text = re.sub('<.*?>', '', text)\n",
    "    \n",
    "    # Convertir en minuscules\n",
    "    text = text.lower()\n",
    "    \n",
    "    # Supprimer la ponctuation\n",
    "    text = re.sub(r'[^\\w\\s]', '', text)\n",
    "    \n",
    "    # Supprimer les mots vides (stop words)\n",
    "    stop_words = set(stopwords.words('english'))\n",
    "    tokens = text.split()\n",
    "    tokens = [word for word in tokens if word not in stop_words]\n",
    "    \n",
    "    # Lemmatisation des mots\n",
    "    lemmatizer = WordNetLemmatizer()\n",
    "    tokens = [lemmatizer.lemmatize(word) for word in tokens]\n",
    "    \n",
    "    # Rejoindre les tokens prétraités en une seule chaîne de texte\n",
    "    processed_text = ' '.join(tokens)\n",
    "    \n",
    "    return processed_text"
   ]
  },
  {
   "cell_type": "code",
   "execution_count": 6,
   "id": "7b2ffd05",
   "metadata": {},
   "outputs": [],
   "source": [
    "df['body_preprocess'] = df['Body'].apply(preprocess_text)"
   ]
  },
  {
   "cell_type": "code",
   "execution_count": 7,
   "id": "b01aa982",
   "metadata": {},
   "outputs": [
    {
     "data": {
      "text/plain": [
       "0                                                                                                                                                                                                                                                                                                                                                                                                                                                                                                                                                                                                                                                                                                                                                                                                                                                                                                                                                                                                                                                                                                                                                                                                                                                                                                                                                                                                                                                                                                                                                                                                                                                                                                                   want assign decimal variable quottransquot double variable quotthisopacityquot decimal trans trackbar1value 5000 thisopacity trans build app give following error cannot implicitly convert type decimal double\n",
       "1                                                                                                                                                                                                                                                                                                                                                                                                                                                                                                                                                                                                                                                                                                                                                                                                                                                                                                                                                                                                                                                                                                                                                                                                                                                                                                                                                                                                                                                                                                                                                                                                                                                                                                                                                                                                                                           given specific datetime value display relative time like 2 hour ago 3 day ago month ago\n",
       "2                                                                                                                                                                                                                                                                                                                                                                                                                                                                                                                                                                                                                                                                                                                                                                                                                                                                                                                                                                                                                                                                                                                                                                                                                                                                                                                                                                                                                                                                                                                                                                                                                                                                                                                                                                                                                    standard way web server able determine user timezone within web page perhaps http header part useragent string\n",
       "3                         im looking fastest way obtain value π personal challenge specifically im using way dont involve using define constant like m_pi hardcoding number program test various way know inline assembly version theory fastest option though clearly portable ive included baseline compare version test builtins 4 atan1 version fastest gcc 42 autofolds atan1 constant fnobuiltin specified atan20 1 version fastest here main testing program pitimesc include ltmathhgt include ltstdiohgt include lttimehgt define iters 10000000 define testwithx diff 00 time1 clock 0 lt iters diff x m_pi time2 clock printfstgt e time gt fn x diff diffclocktime2 time1 static inline double diffclockclock_t time1 clock_t time0 return double time1 time0 clocks_per_sec int main int clock_t time1 time2 double diff warmup atan2 case catch gccs atan folding would optimise 4 atan1 m_pi noop fnobuiltin used testwith4 atan1 testwith4 atan21 1 defined__gnuc__ ampamp defined__i386__ defined__amd64__ extern double fldpi testwithfldpi endif actual test start testwithatan20 1 testwithacos1 testwith2 asin1 testwith4 atan21 1 testwith4 atan1 return 0 inline assembly stuff fldpic work x86 x64 system double fldpi double pi asmfldpi pi return pi build script build configuration im testing buildsh binsh gcc o3 wall c m32 fldpi32o fldpic gcc o3 wall c m64 fldpi64o fldpic gcc o3 wall ffastmath m32 pitimes132 pitimesc fldpi32o gcc o3 wall m32 pitimes232 pitimesc fldpi32o lm gcc o3 wall fnobuiltin m32 pitimes332 pitimesc fldpi32o lm gcc o3 wall ffastmath m64 pitimes164 pitimesc fldpi64o lm gcc o3 wall m64 pitimes264 pitimesc fldpi64o lm gcc o3 wall fnobuiltin m64 pitimes364 pitimesc fldpi64o lm apart testing various compiler flag ive compared 32bit 64bit optimization different ive also tried switching order test around still atan20 1 version still come top every time\n",
       "4                                                                                                                                                                                                                                                                                                                                                                                                                                                                                                                                                                                                                                                                                                                                                                                                                                                                                                                                                                                                                                       im issue getting c socket api work properly c zos although including syssocketh still get compile time error telling af_inet defined missing something obvious related fact zos make problem much complicated discovered ifdef im hitting apparently zos isnt happy unless define quottypequot socket im using define _oe_sockets personally idea _oe_sockets actually zos socket programmer 3 perhaps could give rundown work test app include ltsyssockethgt int main return af_inet compilelink output cxx wcxplink wlxplink inet_test inetc quotinetcquot line 516 ccn5274 name lookup quotaf_inetquot find declaration ccn0797i compilation failed file inetc object file created check syssocketsh include definition need far tell blocked ifdef statement however noticed contains following ifdef __cplusplus extern quotcquot endif encapsulates basically whole file sure matter\n",
       "5    recently site deluged resurgence asprox botnet sql injection attack without going detail attack attempt execute sql code encoding tsql command ascii encoded binary string look something like declare20s20nvarchar4000set20scast0x4400450006f00720020as20nvarchar4000execs able decode sql little wary since didnt know exactly happening time tried write simple decode tool could decode type text without even touching sqlnbsp server main part need decoded cast0x4400450006f007200 nvarchar4000 ive tried following command luck txtdecodedtexttext systemwebhttputilityurldecodetxturltexttext txtdecodedtexttext encodingasciigetstringencodingasciigetbytestxturltexttext txtdecodedtexttext encodingunicodegetstringencodingunicodegetbytestxturltexttext txtdecodedtexttext encodingasciigetstringencodingunicodegetbytestxturltexttext txtdecodedtexttext encodingunicodegetstringconvertfrombase64stringtxturltexttext proper way translate encoding without using sql server possible ill take vbnet code since im familiar okay im sure im missing something here im since input basic string started snippet encoded portion 4445434c41 translates decla first attempt txtdecodedtexttext encodingutf8getstringencodingutf8getbytestxturltext return exact thing put since converted character byte realized need parse every two character byte manually since dont know method yet little decoder look something like boolisdone byturlchar byteparsetxturltexttextsubstringintparseindex 2 byturlinturlindex byturlchar intparseindex 2 inturlindex txturltexttextlength intparseindex lt 2 boolisdone true txtdecodedtexttext encodingutf8getstringbyturl thing look good first couple pair loop balk get 4c pair say string incorrect format interestingly enough step debugger getstring method byte array able parse point get result figure im missing need direct cast byte instead attempting parse\n",
       "6                                                                                                                                                                                                                                                                                                                                                                                                                                                                                                                                                                                                                                                                                                                                                                                                                                                                                                                                                                                                                                                                                                                                                                                                  ive banging head sql server 2005 trying get lot data ive given database nearly 300 table need turn mysql database first call use bcp unfortunately doesnt produce valid csv string arent encapsulated cant deal row string comma whatever use delimiter would still hand write create table statement obviously csv doesnt tell anything data type would better tool could connect sql server mysql copy lose view stored procedure trigger etc isnt hard copy table us base type one db another anybody know tool dont mind many assumption make simplification occur long support integer float datetime string lot pruning normalising etc anyway dont care keeping key relationship anything like need initial set data fast\n",
       "7                                                                                                                                                                                                                                                                                                                                                                                                                                                                                                                                                                                                                                                                                                                                                                                                                                                                                                                                                                                                                                                                                                                                                                                                                                                                                                                                                                                                                                                                                                                                                                                                                                                                                                                                                                                           would go generating list possible permutation string x character length containing variable list character language would work portable\n",
       "8                                                                                                                                                                                                                                                                                                                                                                                                                                                                                                                                                                                                                                                                                                                                                                                                                                                                                                                                                                                                                                                                                                                                                                                                                                                                                                                                                                                                                                                                                                                                                                                                                                                                                           meaning java warning type safety cast object listltintegergt actually checking erased type list get warning try cast object type generic information following code object object getmylist listltintegergt list listltintegergt object\n",
       "9                                                                                                                                                                                                                                                                                                                                                                                                                                                                                                                                                                                                                                                               moderator note question good fit question answer format topicality rule currently apply stack overflow normally use quothistorical lockquot question content still value however answer question actively maintained historical lock doesnt permit editing answer quotwiki answerquot lock applied allow answer edited assume topicality issue normally handled historical lock present ie question good example ontopic question stack overflow formbased authentication website believe stack overflow resource specific technical question also general guideline solve variation common problem quotform based authentication websitesquot fine topic experiment include topic log log remain logged managing cooky including recommended setting sslhttps encryption store password using secret question forgotten usernamepassword functionality use nonce prevent crosssite request forgery csrf openid quotremember mequot checkbox browser autocompletion usernames password secret url public url protected digest checking password strength email validation much form based authentication include thing like role authorization http basic authentication please help u suggesting subtopics submitting good article subject editing official answer\n",
       "Name: body_preprocess, dtype: object"
      ]
     },
     "execution_count": 7,
     "metadata": {},
     "output_type": "execute_result"
    }
   ],
   "source": [
    "pd.set_option('display.max_colwidth', None)\n",
    "df['body_preprocess'].head(10)"
   ]
  },
  {
   "cell_type": "markdown",
   "id": "1e7c646c",
   "metadata": {},
   "source": [
    "# !!!"
   ]
  },
  {
   "cell_type": "code",
   "execution_count": 11,
   "id": "a766b865",
   "metadata": {},
   "outputs": [],
   "source": [
    "import platform\n",
    "import ctypes\n",
    "import sys\n",
    "\n",
    "if platform.system() == \"Windows\":\n",
    "    kernel32 = ctypes.windll.kernel32\n",
    "    mem_limit = 8 * 1024 * 1024 * 1024  # 8 Go\n",
    "\n",
    "    if sys.version_info.major >= 3 and sys.version_info.minor >= 8:\n",
    "        kernel32.SetProcessWorkingSetSizeEx(ctypes.c_void_p(), ctypes.c_size_t(mem_limit), ctypes.c_size_t(mem_limit), 0)\n",
    "    else:\n",
    "        kernel32.SetProcessWorkingSetSize(ctypes.c_void_p(), ctypes.c_size_t(-1), ctypes.c_size_t(mem_limit))\n",
    "else:\n",
    "    print(\"La limitation de mémoire n'est pas supportée sur cette plateforme.\")"
   ]
  },
  {
   "cell_type": "code",
   "execution_count": 17,
   "id": "473c27f4",
   "metadata": {},
   "outputs": [],
   "source": [
    "def remove_nonexistent_words(text):\n",
    "    words = text.split()\n",
    "    english_dict = enchant.Dict(\"en_US\")  # Utilisez le dictionnaire correspondant à votre langue\n",
    "\n",
    "    valid_words = []\n",
    "    for word in words:\n",
    "        if english_dict.check(word):\n",
    "            valid_words.append(word)\n",
    "\n",
    "    return ' '.join(valid_words)"
   ]
  },
  {
   "cell_type": "code",
   "execution_count": null,
   "id": "8688cdeb",
   "metadata": {},
   "outputs": [],
   "source": [
    "df['body_clean'] = df['body_preprocess'].apply(remove_nonexistent_words)"
   ]
  }
 ],
 "metadata": {
  "kernelspec": {
   "display_name": "Python 3 (ipykernel)",
   "language": "python",
   "name": "python3"
  },
  "language_info": {
   "codemirror_mode": {
    "name": "ipython",
    "version": 3
   },
   "file_extension": ".py",
   "mimetype": "text/x-python",
   "name": "python",
   "nbconvert_exporter": "python",
   "pygments_lexer": "ipython3",
   "version": "3.9.12"
  }
 },
 "nbformat": 4,
 "nbformat_minor": 5
}
